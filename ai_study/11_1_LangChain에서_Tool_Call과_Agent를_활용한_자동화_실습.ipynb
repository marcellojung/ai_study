{
  "cells": [
    {
      "cell_type": "markdown",
      "id": "1bc217b6",
      "metadata": {
        "id": "1bc217b6"
      },
      "source": [
        "# [실습] LangChain Tool Call과 Agent"
      ]
    },
    {
      "cell_type": "markdown",
      "id": "wqWpnely5oTo",
      "metadata": {
        "id": "wqWpnely5oTo"
      },
      "source": [
        "# 📊 LangChain + Gemini + 검색 도구 연동, 쉽게 큰 틀부터 이해하기\n",
        "\n",
        "우리는 지금 AI에게 **\"질문을 이해하고, 필요하면 검색해서, 결과를 요약해주는 역할\"** 을 맡기려 합니다.\n",
        "\n",
        "이 구조를 이해하기 위해선, 복잡한 코드를 보기 전에 **큰 흐름부터** 이해하는 것이 가장 중요합니다.  \n",
        "여기선 전체 흐름을 6단계로 나누어 설명합니다.\n",
        "\n",
        "---\n",
        "\n",
        "## 🪜 **단계 1: AI 모델 준비 (LLM 불러오기)**\n",
        "\n",
        "- 우리는 **Gemini라는 AI 모델**을 사용할 겁니다.\n",
        "- 이 모델은 말귀를 알아듣고 문장을 생성해주는 역할을 합니다.\n",
        "- 이때, 너무 자주 질문하면 에러가 나기 때문에 **속도 제한 장치(Rate Limiter)**도 함께 설정합니다.\n",
        "\n",
        "📌 **비유하자면?**  \n",
        "AI는 비서, 하지만 바빠서 1분에 10번만 응답 가능하니, 스케줄 관리자가 필요해요.\n",
        "\n",
        "---\n",
        "\n",
        "## 🔌 **단계 2: 외부 기능 연결 (검색 도구 연동)**\n",
        "\n",
        "- AI는 모든 걸 알진 못합니다. 그래서 **인터넷 검색 기능**을 연결해야 합니다.\n",
        "- 여기선 Tavily라는 검색 엔진을 연결합니다.\n",
        "- 이 기능은 마치 **'AI의 눈과 귀'**처럼, 인터넷에서 정보를 가져오는 역할을 합니다.\n",
        "\n",
        "📌 **비유하자면?**  \n",
        "비서가 모르는 건 인터넷으로 검색해서 알려주는 구조!\n",
        "\n",
        "---\n",
        "\n",
        "## 🧠 **단계 3: 프롬프트로 질문 양식 만들기**\n",
        "\n",
        "- AI가 질문을 잘 이해하도록 **질문 양식(프롬프트)**을 구성합니다.\n",
        "- 예: “질문을 5문장 이내로, 항목별로 정리해줘” 라는 가이드라인을 미리 줍니다.\n",
        "- 이 구조를 통해 **AI의 답변 스타일과 길이**를 조정할 수 있어요.\n",
        "\n",
        "---\n",
        "\n",
        "## 🔗 **단계 4: AI에게 '이 도구 써도 돼' 하고 알려주기**\n",
        "\n",
        "- 도구를 만들어놨다고 AI가 바로 쓰는 건 아닙니다.\n",
        "- 그래서 명시적으로 **“이 도구를 써도 됩니다”** 하고 AI에게 알려줍니다.\n",
        "- 이 과정을 **도구 바인딩(bind_tools)** 이라고 해요.\n",
        "\n",
        "📌 **비유하자면?**  \n",
        "비서에게 “검색기 써도 돼” 하고 툴박스를 열어주는 과정입니다.\n",
        "\n",
        "---\n",
        "\n",
        "## 🔍 **단계 5: AI가 판단해서 검색하고, 정리해서 답변**\n",
        "\n",
        "- 사용자가 질문을 하면, AI는 먼저 **스스로 판단**합니다:\n",
        "  - 그냥 답할 수 있는가?\n",
        "  - 검색이 필요한가?\n",
        "\n",
        "- 필요하다면 도구를 호출해서 검색하고,\n",
        "- 검색 결과를 받아 다시 AI가 읽고 **최종 답변을 정리**합니다.\n",
        "\n",
        "📌 **비유하자면?**  \n",
        "비서가 “이건 검색이 필요하겠군요” → 검색 → 결과 정리 → 보고\n",
        "\n",
        "---\n",
        "\n",
        "## 🧩 **단계 6: 전체 흐름을 함수로 묶어 자동화하기**\n",
        "\n",
        "- 지금까지 단계를 모두 하나의 함수로 정리합니다.\n",
        "- 즉, 질문을 넣으면:\n",
        "  1. AI가 판단하고\n",
        "  2. 검색하고\n",
        "  3. 정리해서 답변까지 주는 과정을 자동으로 실행합니다.\n",
        "\n",
        "📌 **비유하자면?**  \n",
        "비서를 호출하면 필요한 정보를 알아서 검색하고 요약해서 보고해주는 **자동화된 AI 조수** 완성!\n",
        "\n",
        "---\n",
        "\n",
        "### ✅ 요약\n",
        "\n",
        "| 단계 | 설명 |\n",
        "|------|------|\n",
        "| 1단계 | Gemini AI 모델 로딩 |\n",
        "| 2단계 | 검색 도구 Tavily 연동 |\n",
        "| 3단계 | 프롬프트(질문 양식) 만들기 |\n",
        "| 4단계 | AI에게 도구 사용 허용 |\n",
        "| 5단계 | AI가 판단 → 검색 → 답변 정리 |\n",
        "| 6단계 | 전체 과정을 자동으로 처리하는 함수 만들기 |\n",
        "\n",
        "---\n",
        "\n",
        "💡 이렇게 전체 흐름을 이해하고 나면, 코드 하나하나가 어떤 역할인지 **훨씬 명확하게 보이게 됩니다.**\n"
      ]
    },
    {
      "cell_type": "code",
      "execution_count": 1,
      "id": "PX4MV4p_37FM",
      "metadata": {
        "colab": {
          "base_uri": "https://localhost:8080/",
          "height": 1000
        },
        "id": "PX4MV4p_37FM",
        "outputId": "b05506f3-dd01-4975-ae29-a3624ea0b8a1"
      },
      "outputs": [
        {
          "name": "stdout",
          "output_type": "stream",
          "text": [
            "Collecting langchain_google_genai\n",
            "  Downloading langchain_google_genai-2.1.4-py3-none-any.whl.metadata (5.2 kB)\n",
            "Requirement already satisfied: langchain_core in /usr/local/lib/python3.11/dist-packages (0.3.59)\n",
            "Collecting langchain_core\n",
            "  Downloading langchain_core-0.3.61-py3-none-any.whl.metadata (5.8 kB)\n",
            "Collecting langchain_community\n",
            "  Downloading langchain_community-0.3.24-py3-none-any.whl.metadata (2.5 kB)\n",
            "Collecting tavily-python\n",
            "  Downloading tavily_python-0.7.2-py3-none-any.whl.metadata (7.0 kB)\n",
            "Collecting filetype<2.0.0,>=1.2.0 (from langchain_google_genai)\n",
            "  Downloading filetype-1.2.0-py2.py3-none-any.whl.metadata (6.5 kB)\n",
            "Collecting google-ai-generativelanguage<0.7.0,>=0.6.18 (from langchain_google_genai)\n",
            "  Downloading google_ai_generativelanguage-0.6.18-py3-none-any.whl.metadata (9.8 kB)\n",
            "Requirement already satisfied: pydantic<3,>=2 in /usr/local/lib/python3.11/dist-packages (from langchain_google_genai) (2.11.4)\n",
            "Requirement already satisfied: langsmith<0.4,>=0.1.126 in /usr/local/lib/python3.11/dist-packages (from langchain_core) (0.3.42)\n",
            "Requirement already satisfied: tenacity!=8.4.0,<10.0.0,>=8.1.0 in /usr/local/lib/python3.11/dist-packages (from langchain_core) (9.1.2)\n",
            "Requirement already satisfied: jsonpatch<2.0,>=1.33 in /usr/local/lib/python3.11/dist-packages (from langchain_core) (1.33)\n",
            "Requirement already satisfied: PyYAML>=5.3 in /usr/local/lib/python3.11/dist-packages (from langchain_core) (6.0.2)\n",
            "Requirement already satisfied: packaging<25,>=23.2 in /usr/local/lib/python3.11/dist-packages (from langchain_core) (24.2)\n",
            "Requirement already satisfied: typing-extensions>=4.7 in /usr/local/lib/python3.11/dist-packages (from langchain_core) (4.13.2)\n",
            "Requirement already satisfied: langchain<1.0.0,>=0.3.25 in /usr/local/lib/python3.11/dist-packages (from langchain_community) (0.3.25)\n",
            "Requirement already satisfied: SQLAlchemy<3,>=1.4 in /usr/local/lib/python3.11/dist-packages (from langchain_community) (2.0.40)\n",
            "Requirement already satisfied: requests<3,>=2 in /usr/local/lib/python3.11/dist-packages (from langchain_community) (2.32.3)\n",
            "Requirement already satisfied: aiohttp<4.0.0,>=3.8.3 in /usr/local/lib/python3.11/dist-packages (from langchain_community) (3.11.15)\n",
            "Collecting dataclasses-json<0.7,>=0.5.7 (from langchain_community)\n",
            "  Downloading dataclasses_json-0.6.7-py3-none-any.whl.metadata (25 kB)\n",
            "Collecting pydantic-settings<3.0.0,>=2.4.0 (from langchain_community)\n",
            "  Downloading pydantic_settings-2.9.1-py3-none-any.whl.metadata (3.8 kB)\n",
            "Collecting httpx-sse<1.0.0,>=0.4.0 (from langchain_community)\n",
            "  Downloading httpx_sse-0.4.0-py3-none-any.whl.metadata (9.0 kB)\n",
            "Requirement already satisfied: numpy>=1.26.2 in /usr/local/lib/python3.11/dist-packages (from langchain_community) (2.0.2)\n",
            "Requirement already satisfied: tiktoken>=0.5.1 in /usr/local/lib/python3.11/dist-packages (from tavily-python) (0.9.0)\n",
            "Requirement already satisfied: httpx in /usr/local/lib/python3.11/dist-packages (from tavily-python) (0.28.1)\n",
            "Requirement already satisfied: aiohappyeyeballs>=2.3.0 in /usr/local/lib/python3.11/dist-packages (from aiohttp<4.0.0,>=3.8.3->langchain_community) (2.6.1)\n",
            "Requirement already satisfied: aiosignal>=1.1.2 in /usr/local/lib/python3.11/dist-packages (from aiohttp<4.0.0,>=3.8.3->langchain_community) (1.3.2)\n",
            "Requirement already satisfied: attrs>=17.3.0 in /usr/local/lib/python3.11/dist-packages (from aiohttp<4.0.0,>=3.8.3->langchain_community) (25.3.0)\n",
            "Requirement already satisfied: frozenlist>=1.1.1 in /usr/local/lib/python3.11/dist-packages (from aiohttp<4.0.0,>=3.8.3->langchain_community) (1.6.0)\n",
            "Requirement already satisfied: multidict<7.0,>=4.5 in /usr/local/lib/python3.11/dist-packages (from aiohttp<4.0.0,>=3.8.3->langchain_community) (6.4.3)\n",
            "Requirement already satisfied: propcache>=0.2.0 in /usr/local/lib/python3.11/dist-packages (from aiohttp<4.0.0,>=3.8.3->langchain_community) (0.3.1)\n",
            "Requirement already satisfied: yarl<2.0,>=1.17.0 in /usr/local/lib/python3.11/dist-packages (from aiohttp<4.0.0,>=3.8.3->langchain_community) (1.20.0)\n",
            "Collecting marshmallow<4.0.0,>=3.18.0 (from dataclasses-json<0.7,>=0.5.7->langchain_community)\n",
            "  Downloading marshmallow-3.26.1-py3-none-any.whl.metadata (7.3 kB)\n",
            "Collecting typing-inspect<1,>=0.4.0 (from dataclasses-json<0.7,>=0.5.7->langchain_community)\n",
            "  Downloading typing_inspect-0.9.0-py3-none-any.whl.metadata (1.5 kB)\n",
            "Requirement already satisfied: google-api-core!=2.0.*,!=2.1.*,!=2.10.*,!=2.2.*,!=2.3.*,!=2.4.*,!=2.5.*,!=2.6.*,!=2.7.*,!=2.8.*,!=2.9.*,<3.0.0,>=1.34.1 in /usr/local/lib/python3.11/dist-packages (from google-api-core[grpc]!=2.0.*,!=2.1.*,!=2.10.*,!=2.2.*,!=2.3.*,!=2.4.*,!=2.5.*,!=2.6.*,!=2.7.*,!=2.8.*,!=2.9.*,<3.0.0,>=1.34.1->google-ai-generativelanguage<0.7.0,>=0.6.18->langchain_google_genai) (2.24.2)\n",
            "Requirement already satisfied: google-auth!=2.24.0,!=2.25.0,<3.0.0,>=2.14.1 in /usr/local/lib/python3.11/dist-packages (from google-ai-generativelanguage<0.7.0,>=0.6.18->langchain_google_genai) (2.38.0)\n",
            "Requirement already satisfied: proto-plus<2.0.0,>=1.22.3 in /usr/local/lib/python3.11/dist-packages (from google-ai-generativelanguage<0.7.0,>=0.6.18->langchain_google_genai) (1.26.1)\n",
            "Requirement already satisfied: protobuf!=4.21.0,!=4.21.1,!=4.21.2,!=4.21.3,!=4.21.4,!=4.21.5,<7.0.0,>=3.20.2 in /usr/local/lib/python3.11/dist-packages (from google-ai-generativelanguage<0.7.0,>=0.6.18->langchain_google_genai) (5.29.4)\n",
            "Requirement already satisfied: jsonpointer>=1.9 in /usr/local/lib/python3.11/dist-packages (from jsonpatch<2.0,>=1.33->langchain_core) (3.0.0)\n",
            "Requirement already satisfied: langchain-text-splitters<1.0.0,>=0.3.8 in /usr/local/lib/python3.11/dist-packages (from langchain<1.0.0,>=0.3.25->langchain_community) (0.3.8)\n",
            "Requirement already satisfied: orjson<4.0.0,>=3.9.14 in /usr/local/lib/python3.11/dist-packages (from langsmith<0.4,>=0.1.126->langchain_core) (3.10.18)\n",
            "Requirement already satisfied: requests-toolbelt<2.0.0,>=1.0.0 in /usr/local/lib/python3.11/dist-packages (from langsmith<0.4,>=0.1.126->langchain_core) (1.0.0)\n",
            "Requirement already satisfied: zstandard<0.24.0,>=0.23.0 in /usr/local/lib/python3.11/dist-packages (from langsmith<0.4,>=0.1.126->langchain_core) (0.23.0)\n",
            "Requirement already satisfied: anyio in /usr/local/lib/python3.11/dist-packages (from httpx->tavily-python) (4.9.0)\n",
            "Requirement already satisfied: certifi in /usr/local/lib/python3.11/dist-packages (from httpx->tavily-python) (2025.4.26)\n",
            "Requirement already satisfied: httpcore==1.* in /usr/local/lib/python3.11/dist-packages (from httpx->tavily-python) (1.0.9)\n",
            "Requirement already satisfied: idna in /usr/local/lib/python3.11/dist-packages (from httpx->tavily-python) (3.10)\n",
            "Requirement already satisfied: h11>=0.16 in /usr/local/lib/python3.11/dist-packages (from httpcore==1.*->httpx->tavily-python) (0.16.0)\n",
            "Requirement already satisfied: annotated-types>=0.6.0 in /usr/local/lib/python3.11/dist-packages (from pydantic<3,>=2->langchain_google_genai) (0.7.0)\n",
            "Requirement already satisfied: pydantic-core==2.33.2 in /usr/local/lib/python3.11/dist-packages (from pydantic<3,>=2->langchain_google_genai) (2.33.2)\n",
            "Requirement already satisfied: typing-inspection>=0.4.0 in /usr/local/lib/python3.11/dist-packages (from pydantic<3,>=2->langchain_google_genai) (0.4.0)\n",
            "Collecting python-dotenv>=0.21.0 (from pydantic-settings<3.0.0,>=2.4.0->langchain_community)\n",
            "  Downloading python_dotenv-1.1.0-py3-none-any.whl.metadata (24 kB)\n",
            "Requirement already satisfied: charset-normalizer<4,>=2 in /usr/local/lib/python3.11/dist-packages (from requests<3,>=2->langchain_community) (3.4.2)\n",
            "Requirement already satisfied: urllib3<3,>=1.21.1 in /usr/local/lib/python3.11/dist-packages (from requests<3,>=2->langchain_community) (2.4.0)\n",
            "Requirement already satisfied: greenlet>=1 in /usr/local/lib/python3.11/dist-packages (from SQLAlchemy<3,>=1.4->langchain_community) (3.2.2)\n",
            "Requirement already satisfied: regex>=2022.1.18 in /usr/local/lib/python3.11/dist-packages (from tiktoken>=0.5.1->tavily-python) (2024.11.6)\n",
            "Requirement already satisfied: googleapis-common-protos<2.0.0,>=1.56.2 in /usr/local/lib/python3.11/dist-packages (from google-api-core!=2.0.*,!=2.1.*,!=2.10.*,!=2.2.*,!=2.3.*,!=2.4.*,!=2.5.*,!=2.6.*,!=2.7.*,!=2.8.*,!=2.9.*,<3.0.0,>=1.34.1->google-api-core[grpc]!=2.0.*,!=2.1.*,!=2.10.*,!=2.2.*,!=2.3.*,!=2.4.*,!=2.5.*,!=2.6.*,!=2.7.*,!=2.8.*,!=2.9.*,<3.0.0,>=1.34.1->google-ai-generativelanguage<0.7.0,>=0.6.18->langchain_google_genai) (1.70.0)\n",
            "Requirement already satisfied: grpcio<2.0dev,>=1.33.2 in /usr/local/lib/python3.11/dist-packages (from google-api-core[grpc]!=2.0.*,!=2.1.*,!=2.10.*,!=2.2.*,!=2.3.*,!=2.4.*,!=2.5.*,!=2.6.*,!=2.7.*,!=2.8.*,!=2.9.*,<3.0.0,>=1.34.1->google-ai-generativelanguage<0.7.0,>=0.6.18->langchain_google_genai) (1.71.0)\n",
            "Requirement already satisfied: grpcio-status<2.0.dev0,>=1.33.2 in /usr/local/lib/python3.11/dist-packages (from google-api-core[grpc]!=2.0.*,!=2.1.*,!=2.10.*,!=2.2.*,!=2.3.*,!=2.4.*,!=2.5.*,!=2.6.*,!=2.7.*,!=2.8.*,!=2.9.*,<3.0.0,>=1.34.1->google-ai-generativelanguage<0.7.0,>=0.6.18->langchain_google_genai) (1.71.0)\n",
            "Requirement already satisfied: cachetools<6.0,>=2.0.0 in /usr/local/lib/python3.11/dist-packages (from google-auth!=2.24.0,!=2.25.0,<3.0.0,>=2.14.1->google-ai-generativelanguage<0.7.0,>=0.6.18->langchain_google_genai) (5.5.2)\n",
            "Requirement already satisfied: pyasn1-modules>=0.2.1 in /usr/local/lib/python3.11/dist-packages (from google-auth!=2.24.0,!=2.25.0,<3.0.0,>=2.14.1->google-ai-generativelanguage<0.7.0,>=0.6.18->langchain_google_genai) (0.4.2)\n",
            "Requirement already satisfied: rsa<5,>=3.1.4 in /usr/local/lib/python3.11/dist-packages (from google-auth!=2.24.0,!=2.25.0,<3.0.0,>=2.14.1->google-ai-generativelanguage<0.7.0,>=0.6.18->langchain_google_genai) (4.9.1)\n",
            "Collecting mypy-extensions>=0.3.0 (from typing-inspect<1,>=0.4.0->dataclasses-json<0.7,>=0.5.7->langchain_community)\n",
            "  Downloading mypy_extensions-1.1.0-py3-none-any.whl.metadata (1.1 kB)\n",
            "Requirement already satisfied: sniffio>=1.1 in /usr/local/lib/python3.11/dist-packages (from anyio->httpx->tavily-python) (1.3.1)\n",
            "Requirement already satisfied: pyasn1<0.7.0,>=0.6.1 in /usr/local/lib/python3.11/dist-packages (from pyasn1-modules>=0.2.1->google-auth!=2.24.0,!=2.25.0,<3.0.0,>=2.14.1->google-ai-generativelanguage<0.7.0,>=0.6.18->langchain_google_genai) (0.6.1)\n",
            "Downloading langchain_google_genai-2.1.4-py3-none-any.whl (44 kB)\n",
            "\u001b[2K   \u001b[90m━━━━━━━━━━━━━━━━━━━━━━━━━━━━━━━━━━━━━━━━\u001b[0m \u001b[32m44.3/44.3 kB\u001b[0m \u001b[31m1.5 MB/s\u001b[0m eta \u001b[36m0:00:00\u001b[0m\n",
            "\u001b[?25hDownloading langchain_core-0.3.61-py3-none-any.whl (438 kB)\n",
            "\u001b[2K   \u001b[90m━━━━━━━━━━━━━━━━━━━━━━━━━━━━━━━━━━━━━━━━\u001b[0m \u001b[32m438.3/438.3 kB\u001b[0m \u001b[31m13.8 MB/s\u001b[0m eta \u001b[36m0:00:00\u001b[0m\n",
            "\u001b[?25hDownloading langchain_community-0.3.24-py3-none-any.whl (2.5 MB)\n",
            "\u001b[2K   \u001b[90m━━━━━━━━━━━━━━━━━━━━━━━━━━━━━━━━━━━━━━━━\u001b[0m \u001b[32m2.5/2.5 MB\u001b[0m \u001b[31m25.4 MB/s\u001b[0m eta \u001b[36m0:00:00\u001b[0m\n",
            "\u001b[?25hDownloading tavily_python-0.7.2-py3-none-any.whl (14 kB)\n",
            "Downloading dataclasses_json-0.6.7-py3-none-any.whl (28 kB)\n",
            "Downloading filetype-1.2.0-py2.py3-none-any.whl (19 kB)\n",
            "Downloading google_ai_generativelanguage-0.6.18-py3-none-any.whl (1.4 MB)\n",
            "\u001b[2K   \u001b[90m━━━━━━━━━━━━━━━━━━━━━━━━━━━━━━━━━━━━━━━━\u001b[0m \u001b[32m1.4/1.4 MB\u001b[0m \u001b[31m29.6 MB/s\u001b[0m eta \u001b[36m0:00:00\u001b[0m\n",
            "\u001b[?25hDownloading httpx_sse-0.4.0-py3-none-any.whl (7.8 kB)\n",
            "Downloading pydantic_settings-2.9.1-py3-none-any.whl (44 kB)\n",
            "\u001b[2K   \u001b[90m━━━━━━━━━━━━━━━━━━━━━━━━━━━━━━━━━━━━━━━━\u001b[0m \u001b[32m44.4/44.4 kB\u001b[0m \u001b[31m2.4 MB/s\u001b[0m eta \u001b[36m0:00:00\u001b[0m\n",
            "\u001b[?25hDownloading marshmallow-3.26.1-py3-none-any.whl (50 kB)\n",
            "\u001b[2K   \u001b[90m━━━━━━━━━━━━━━━━━━━━━━━━━━━━━━━━━━━━━━━━\u001b[0m \u001b[32m50.9/50.9 kB\u001b[0m \u001b[31m2.3 MB/s\u001b[0m eta \u001b[36m0:00:00\u001b[0m\n",
            "\u001b[?25hDownloading python_dotenv-1.1.0-py3-none-any.whl (20 kB)\n",
            "Downloading typing_inspect-0.9.0-py3-none-any.whl (8.8 kB)\n",
            "Downloading mypy_extensions-1.1.0-py3-none-any.whl (5.0 kB)\n",
            "Installing collected packages: filetype, python-dotenv, mypy-extensions, marshmallow, httpx-sse, typing-inspect, tavily-python, pydantic-settings, dataclasses-json, langchain_core, google-ai-generativelanguage, langchain_google_genai, langchain_community\n",
            "  Attempting uninstall: langchain_core\n",
            "    Found existing installation: langchain-core 0.3.59\n",
            "    Uninstalling langchain-core-0.3.59:\n",
            "      Successfully uninstalled langchain-core-0.3.59\n",
            "  Attempting uninstall: google-ai-generativelanguage\n",
            "    Found existing installation: google-ai-generativelanguage 0.6.15\n",
            "    Uninstalling google-ai-generativelanguage-0.6.15:\n",
            "      Successfully uninstalled google-ai-generativelanguage-0.6.15\n",
            "\u001b[31mERROR: pip's dependency resolver does not currently take into account all the packages that are installed. This behaviour is the source of the following dependency conflicts.\n",
            "google-generativeai 0.8.5 requires google-ai-generativelanguage==0.6.15, but you have google-ai-generativelanguage 0.6.18 which is incompatible.\u001b[0m\u001b[31m\n",
            "\u001b[0mSuccessfully installed dataclasses-json-0.6.7 filetype-1.2.0 google-ai-generativelanguage-0.6.18 httpx-sse-0.4.0 langchain_community-0.3.24 langchain_core-0.3.61 langchain_google_genai-2.1.4 marshmallow-3.26.1 mypy-extensions-1.1.0 pydantic-settings-2.9.1 python-dotenv-1.1.0 tavily-python-0.7.2 typing-inspect-0.9.0\n"
          ]
        },
        {
          "data": {
            "application/vnd.colab-display-data+json": {
              "id": "af69b5650a0b41d9bc821277c338346a",
              "pip_warning": {
                "packages": [
                  "google"
                ]
              }
            }
          },
          "metadata": {},
          "output_type": "display_data"
        }
      ],
      "source": [
        "# ✅ 필수 라이브러리 설치\n",
        "# LangChain과 Google Gemini, Tavily 검색을 위한 라이브러리를 설치합니다.\n",
        "!pip install -U langchain_google_genai langchain_core langchain_community tavily-python\n"
      ]
    },
    {
      "cell_type": "markdown",
      "id": "YeI1S6hz6QTk",
      "metadata": {
        "id": "YeI1S6hz6QTk"
      },
      "source": [
        "# ✅ Google Gemini API 키 설정 (https://aistudio.google.com/apikey)"
      ]
    },
    {
      "cell_type": "code",
      "execution_count": 2,
      "id": "Svdim4Tr6D9Y",
      "metadata": {
        "id": "Svdim4Tr6D9Y"
      },
      "outputs": [],
      "source": [
        "\n",
        "# ✅ Google Gemini API 키 설정 (API 키는 Google AI Studio에서 발급 가능)\n",
        "# Gemini API를 사용하려면 발급받은 키를 환경변수로 등록해야 합니다.\n",
        "import os\n",
        "# os.environ['GOOGLE_API_KEY'] = ''\n",
        "\n",
        "# ✅ 요청 제한 설정: 무료 버전은 분당 10회 제한이 있으므로 제한 설정이 필수입니다\n",
        "# 포인트: 무료 요금제는 요청이 너무 많으면 오류가 나므로, RateLimiter로 속도를 조절합니다.\n",
        "from langchain_core.rate_limiters import InMemoryRateLimiter\n",
        "rate_limiter = InMemoryRateLimiter(\n",
        "    requests_per_second=0.167,  # 초당 약 0.167번 → 분당 10회 제한에 맞춤\n",
        "    check_every_n_seconds=0.1,  # 0.1초마다 요청 가능 여부를 체크\n",
        "    max_bucket_size=10          # 최대 대기 요청 수 10개\n",
        ")\n",
        "\n"
      ]
    },
    {
      "cell_type": "code",
      "execution_count": 3,
      "id": "FMfg1N9d6GUT",
      "metadata": {
        "colab": {
          "base_uri": "https://localhost:8080/"
        },
        "id": "FMfg1N9d6GUT",
        "outputId": "ca8a2ef4-c895-4c71-e2a7-93c5a933c7ee"
      },
      "outputs": [
        {
          "data": {
            "text/plain": [
              "AIMessage(content='안녕하세요! 저는 사용자의 질문에 답변하고, 요청을 수행하도록 설계된 Google의 대규모 언어 모델입니다. 다양한 종류의 텍스트를 이해하고 생성할 수 있으며, 아직 개발 중이지만 끊임없이 배우고 발전하고 있습니다. 무엇을 도와드릴까요? 😊', additional_kwargs={}, response_metadata={'prompt_feedback': {'block_reason': 0, 'safety_ratings': []}, 'finish_reason': 'STOP', 'model_name': 'gemini-2.0-flash-exp', 'safety_ratings': []}, id='run--d709c9cb-6d14-475c-a54e-74e6dd4eef6c-0', usage_metadata={'input_tokens': 15, 'output_tokens': 83, 'total_tokens': 98, 'input_token_details': {'cache_read': 0}})"
            ]
          },
          "execution_count": 3,
          "metadata": {},
          "output_type": "execute_result"
        }
      ],
      "source": [
        "# ✅ Gemini 모델 로드: 응답 속도가 빠른 Flash 모델 사용\n",
        "# 포인트: Gemini는 Google의 최신 생성형 AI입니다. 여기선 빠른 응답을 위해 Flash 버전을 사용합니다.\n",
        "from langchain_google_genai import ChatGoogleGenerativeAI\n",
        "language_model = ChatGoogleGenerativeAI(\n",
        "    model=\"gemini-2.0-flash-exp\",  # 응답이 빠른 경량 버전\n",
        "    rate_limiter=rate_limiter      # 위에서 만든 요청 제한 설정 적용\n",
        ")\n",
        "\n",
        "# ✅ LLM 동작 테스트\n",
        "# 포인트: AI에게 간단한 질문을 던져, 모델이 잘 연결되어 있는지 확인합니다.\n",
        "language_model.invoke(\"안녕하세요, 간단하게 자기소개 해주세요.\")\n",
        "\n"
      ]
    },
    {
      "cell_type": "code",
      "execution_count": 4,
      "id": "hqb9ub_96JS3",
      "metadata": {
        "colab": {
          "base_uri": "https://localhost:8080/"
        },
        "id": "hqb9ub_96JS3",
        "outputId": "77c0a51c-ec3a-48b9-f693-d6a657dc0f0b"
      },
      "outputs": [
        {
          "name": "stdout",
          "output_type": "stream",
          "text": [
            "저는 대규모 언어 모델입니다.\n",
            "\n",
            "*   구글에서 개발되었습니다.\n",
            "*   다양한 종류의 텍스트를 이해하고 생성할 수 있습니다.\n",
            "*   질문에 답하거나, 텍스트를 요약하거나, 번역하는 등 다양한 작업을 수행합니다.\n",
            "*   아직 개발 중인 단계이며, 지속적으로 학습하고 있습니다.\n",
            "*   제공하는 정보가 항상 정확하거나 완전하지 않을 수 있습니다.\n",
            "파이썬은 배우기 쉬운 문법과 다양한 활용도로 유명한 프로그래밍 언어입니다. 코드가 간결하고 읽기 쉬워서 초보자에게 적합하며, 다양한 운영체제에서 실행됩니다. 방대한 라이브러리를 제공하여 여러 분야에서 활용 가능하며, 웹 개발, 데이터 분석, 머신러닝 등에 널리 쓰입니다. 또한, 객체 지향 프로그래밍을 지원하여 코드 재사용성과 유지보수성을 높여줍니다. 파이썬은 생산성이 높고 빠르게 개발할 수 있다는 장점이 있습니다.\n"
          ]
        }
      ],
      "source": [
        "# ✅ 메시지를 통한 대화 흐름 구성\n",
        "from langchain_core.messages import HumanMessage, SystemMessage\n",
        "\n",
        "intro_prompt = SystemMessage(content=\"\"\"\n",
        "아래 사용자 질문에 대해 간결하고 명확하게 답변하세요.\n",
        "응답은 5문장을 넘지 않도록 하고, 항목별로 정리하세요.\n",
        "\"\"\")\n",
        "user_query = HumanMessage(content=\"당신은 어떤 역할을 하나요?\")\n",
        "messages = [intro_prompt, user_query]\n",
        "\n",
        "response = language_model.invoke(messages)\n",
        "print(response.content)\n",
        "\n",
        "# ✅ 프롬프트 템플릿 활용\n",
        "from langchain.prompts import ChatPromptTemplate\n",
        "structured_prompt = ChatPromptTemplate.from_messages([\n",
        "    (\"system\", \"사용자의 질문에 대해 짧고 명확한 설명을 제공하세요. 5문장을 넘지 않게 하고, 핵심 위주로 정리해주세요.\"),\n",
        "    (\"user\", \"[질문]: {inquiry}\")\n",
        "])\n",
        "\n",
        "qa_chain = structured_prompt | language_model\n",
        "print(qa_chain.invoke({\"inquiry\": \"파이썬의 주요 특징이 뭐야?\"}).content)"
      ]
    },
    {
      "cell_type": "markdown",
      "id": "tRbpxzfk6Vyb",
      "metadata": {
        "id": "tRbpxzfk6Vyb"
      },
      "source": [
        "Tavily Search (http://app.tavily.com/)\n",
        "\n",
        "Tavily는 AI 기반의 검색 엔진입니다. 계정별 월 1000개의 무료 사용량을 지원합니다.      \n",
        "Tavily Search는 URL과 함께 내용의 간단한 요약을 지원하는 것이 특징입니다."
      ]
    },
    {
      "cell_type": "code",
      "execution_count": 5,
      "id": "d6e1w0Eu6MQc",
      "metadata": {
        "colab": {
          "base_uri": "https://localhost:8080/"
        },
        "id": "d6e1w0Eu6MQc",
        "outputId": "4b2d050c-e739-41d0-c522-2a71af0cf195"
      },
      "outputs": [
        {
          "name": "stdout",
          "output_type": "stream",
          "text": [
            "[{'title': '자바와 파이썬의 비교: 장단점과 활용 사례', 'url': 'https://f-lab.kr/insight/java-python-comparison-20240914', 'content': '자바와 파이썬의 비교\\n자바와 파이썬은 각각의 장단점을 가진 두 가지 인기 있는 프로그래밍 언어입니다. 자바는 강타입 언어로, 코드의 안정성과 유지보수성을 높이는 데 유리합니다. 반면 파이썬은 동적 타이핑을 지원하여 코드 작성이 간편하고 빠르게 개발할 수 있는 장점이 있습니다.\\n왜냐하면 자바는 컴파일 시점에 타입을 체크하여 오류를 사전에 방지할 수 있기 때문입니다. 반면 파이썬은 런타임 시점에 타입을 체크하여 유연한 코딩이 가능합니다.\\n자바는 대규모 시스템 개발에 적합하며, 안정성과 성능이 중요한 프로젝트에서 많이 사용됩니다. 반면 파이썬은 데이터 분석, 머신러닝, 웹 개발 등 다양한 분야에서 활용됩니다.\\n자바는 JVM(Java Virtual Machine) 위에서 실행되며, 플랫폼 독립성을 제공합니다. 반면 파이썬은 인터프리터 언어로, 다양한 운영체제에서 쉽게 실행할 수 있습니다. [...] 자바는 강력한 라이브러리와 프레임워크를 제공하여 개발 생산성을 높일 수 있으며, 플랫폼 독립성을 제공합니다. 이를 통해 다양한 운영체제에서 동일한 코드를 실행할 수 있습니다.\\n자바와 파이썬 중 어떤 언어를 선택할지는 프로젝트의 요구사항과 개발자의 선호도에 따라 달라질 수 있습니다. 따라서 프로젝트의 요구사항을 고려하여 적절한 언어를 선택하는 것이 중요합니다.\\n결론\\n자바와 파이썬은 각각의 장단점을 가진 두 가지 인기 있는 프로그래밍 언어입니다. 자바는 강타입 언어로, 코드의 안정성과 유지보수성을 높이는 데 유리합니다.\\n파이썬은 동적 타이핑을 지원하여 코드 작성이 간편하고 빠르게 개발할 수 있는 장점이 있습니다. 따라서 프로젝트의 요구사항에 따라 적절한 언어를 선택하는 것이 중요합니다.\\n자바는 대규모 시스템 개발에 적합하며, 안정성과 성능이 중요한 프로젝트에서 많이 사용됩니다. 반면 파이썬은 데이터 분석, 머신러닝, 웹 개발 등 다양한 분야에서 활용됩니다. [...] 파이썬은 다양한 운영체제에서 쉽게 실행할 수 있으며, 다양한 라이브러리와 프레임워크를 제공하여 개발 생산성을 높일 수 있습니다. 예를 들어, 장고(Django) 프레임워크는 파이썬 기반의 웹 애플리케이션 개발에 많이 사용됩니다.\\n파이썬은 코드의 가독성이 높고, 간결한 문법을 제공하여 개발자가 쉽게 코드를 이해하고 유지보수할 수 있습니다.\\n자바와 파이썬의 선택 기준\\n자바와 파이썬 중 어떤 언어를 선택할지는 프로젝트의 요구사항과 개발자의 선호도에 따라 달라질 수 있습니다. 자바는 안정성과 성능이 중요한 대규모 시스템 개발에 적합합니다.\\n왜냐하면 자바는 강타입 언어로, 코드의 안정성과 유지보수성을 높일 수 있기 때문입니다. 반면 파이썬은 빠른 개발과 유연한 코딩이 필요한 프로젝트에 적합합니다.\\n파이썬은 데이터 분석, 머신러닝, 웹 개발 등 다양한 분야에서 활용되며, 간결한 문법과 높은 가독성을 제공합니다. 이를 통해 개발자는 빠르게 코드를 작성하고, 유지보수할 수 있습니다.', 'score': 0.9485422, 'raw_content': '자바와 파이썬의 비교: 장단점과 활용 사례\\n1:1 멘토링채용 제휴멘토 링크드인\\n\\nF-Lab 소식\\n중급 멘토링\\n\\n고급 멘토링\\n\\n컨설팅\\n후기\\nFAQ\\n합격 이력서\\n테크 블로그\\n무료 멘토링\\n\\n\\n로그인\\n회원가입\\n\\n🚀\\n상위권 IT회사 합격 이력서 무료로 모아보기\\n이력서 보러가기\\n자바와 파이썬의 비교: 장단점과 활용 사례\\n F-Lab : 상위 1% 개발자들의 멘토링 2024-09-14\\nAI가 제공하는 얕고 넓은 지식을 위한 짤막한 글입니다!\\n\\n자바와 파이썬의 비교\\n자바와 파이썬은 각각의 장단점을 가진 두 가지 인기 있는 프로그래밍 언어입니다. 자바는 강타입 언어로, 코드의 안정성과 유지보수성을 높이는 데 유리합니다. 반면 파이썬은 동적 타이핑을 지원하여 코드 작성이 간편하고 빠르게 개발할 수 있는 장점이 있습니다.\\n왜냐하면 자바는 컴파일 시점에 타입을 체크하여 오류를 사전에 방지할 수 있기 때문입니다. 반면 파이썬은 런타임 시점에 타입을 체크하여 유연한 코딩이 가능합니다.\\n자바는 대규모 시스템 개발에 적합하며, 안정성과 성능이 중요한 프로젝트에서 많이 사용됩니다. 반면 파이썬은 데이터 분석, 머신러닝, 웹 개발 등 다양한 분야에서 활용됩니다.\\n자바는 JVM(Java Virtual Machine) 위에서 실행되며, 플랫폼 독립성을 제공합니다. 반면 파이썬은 인터프리터 언어로, 다양한 운영체제에서 쉽게 실행할 수 있습니다.\\n자바와 파이썬은 각각의 장단점을 가지고 있으며, 프로젝트의 요구사항에 따라 적절한 언어를 선택하는 것이 중요합니다.\\n자바의 장점과 활용 사례\\n자바는 강타입 언어로, 코드의 안정성과 유지보수성을 높이는 데 유리합니다. 자바는 컴파일 시점에 타입을 체크하여 오류를 사전에 방지할 수 있습니다.\\n왜냐하면 자바는 정적 타입 언어로, 변수의 타입을 명시적으로 선언해야 하기 때문입니다. 이를 통해 코드의 안정성을 높일 수 있습니다.\\n자바는 대규모 시스템 개발에 적합하며, 안정성과 성능이 중요한 프로젝트에서 많이 사용됩니다. 예를 들어, 금융 시스템, 대규모 웹 애플리케이션, 엔터프라이즈 소프트웨어 개발에 자바가 많이 활용됩니다.\\n자바는 JVM(Java Virtual Machine) 위에서 실행되며, 플랫폼 독립성을 제공합니다. 이를 통해 다양한 운영체제에서 동일한 코드를 실행할 수 있습니다.\\n자바는 강력한 라이브러리와 프레임워크를 제공하여 개발 생산성을 높일 수 있습니다. 예를 들어, 스프링(Spring) 프레임워크는 자바 기반의 웹 애플리케이션 개발에 많이 사용됩니다.\\n파이썬의 장점과 활용 사례\\n파이썬은 동적 타이핑을 지원하여 코드 작성이 간편하고 빠르게 개발할 수 있는 장점이 있습니다. 파이썬은 런타임 시점에 타입을 체크하여 유연한 코딩이 가능합니다.\\n왜냐하면 파이썬은 인터프리터 언어로, 코드의 실행 속도가 빠르고, 개발자가 쉽게 코드를 작성할 수 있기 때문입니다.\\n파이썬은 데이터 분석, 머신러닝, 웹 개발 등 다양한 분야에서 활용됩니다. 예를 들어, 데이터 분석에서는 판다스(Pandas)와 넘파이(NumPy) 라이브러리를 사용하여 데이터를 처리할 수 있습니다.\\n파이썬은 다양한 운영체제에서 쉽게 실행할 수 있으며, 다양한 라이브러리와 프레임워크를 제공하여 개발 생산성을 높일 수 있습니다. 예를 들어, 장고(Django) 프레임워크는 파이썬 기반의 웹 애플리케이션 개발에 많이 사용됩니다.\\n파이썬은 코드의 가독성이 높고, 간결한 문법을 제공하여 개발자가 쉽게 코드를 이해하고 유지보수할 수 있습니다.\\n자바와 파이썬의 선택 기준\\n자바와 파이썬 중 어떤 언어를 선택할지는 프로젝트의 요구사항과 개발자의 선호도에 따라 달라질 수 있습니다. 자바는 안정성과 성능이 중요한 대규모 시스템 개발에 적합합니다.\\n왜냐하면 자바는 강타입 언어로, 코드의 안정성과 유지보수성을 높일 수 있기 때문입니다. 반면 파이썬은 빠른 개발과 유연한 코딩이 필요한 프로젝트에 적합합니다.\\n파이썬은 데이터 분석, 머신러닝, 웹 개발 등 다양한 분야에서 활용되며, 간결한 문법과 높은 가독성을 제공합니다. 이를 통해 개발자는 빠르게 코드를 작성하고, 유지보수할 수 있습니다.\\n자바는 강력한 라이브러리와 프레임워크를 제공하여 개발 생산성을 높일 수 있으며, 플랫폼 독립성을 제공합니다. 이를 통해 다양한 운영체제에서 동일한 코드를 실행할 수 있습니다.\\n자바와 파이썬 중 어떤 언어를 선택할지는 프로젝트의 요구사항과 개발자의 선호도에 따라 달라질 수 있습니다. 따라서 프로젝트의 요구사항을 고려하여 적절한 언어를 선택하는 것이 중요합니다.\\n결론\\n자바와 파이썬은 각각의 장단점을 가진 두 가지 인기 있는 프로그래밍 언어입니다. 자바는 강타입 언어로, 코드의 안정성과 유지보수성을 높이는 데 유리합니다.\\n파이썬은 동적 타이핑을 지원하여 코드 작성이 간편하고 빠르게 개발할 수 있는 장점이 있습니다. 따라서 프로젝트의 요구사항에 따라 적절한 언어를 선택하는 것이 중요합니다.\\n자바는 대규모 시스템 개발에 적합하며, 안정성과 성능이 중요한 프로젝트에서 많이 사용됩니다. 반면 파이썬은 데이터 분석, 머신러닝, 웹 개발 등 다양한 분야에서 활용됩니다.\\n자바와 파이썬 중 어떤 언어를 선택할지는 프로젝트의 요구사항과 개발자의 선호도에 따라 달라질 수 있습니다. 따라서 프로젝트의 요구사항을 고려하여 적절한 언어를 선택하는 것이 중요합니다.\\n자바와 파이썬은 각각의 장단점을 가지고 있으며, 프로젝트의 요구사항에 따라 적절한 언어를 선택하는 것이 중요합니다.\\nⓒ F-Lab & Company\\n이 컨텐츠는 F-Lab의 고유 자산으로 상업적인 목적의 복사 및 배포를 금합니다.\\n\\n같은 분야 인기글\\n* Best 1 멘토 Pick! 25년 3월 셋째 주 아티클 모음* Best 2 개발자에게 컴퓨터 과학 기초가 중요한 이유* Best 3 멘토 Pick! 25년 5월 첫째 주 아티클 모음\\nF-Lab\\n소개채용멘토 지원\\n고객센터\\n이용약관개인정보처리방침환불정책자주 묻는 질문\\n\\n\\n\\n\\n\\n(주)에프랩앤컴퍼니 | 사업자등록번호 : 534-85-01979 | 대표자명 : 박중수 | 전화번호 : 1600-8776 | 제휴 문의 : info@f-lab.kr | 주소 : 서울특별시 강남구 테헤란로63길 12, 438호 | copyright © F-Lab & Company 2025\\n\\n'}, {'title': '자바 파이썬 언어와 문법 차이점 총정리! - 핑크로미의 정보 꿀팁 모음', 'url': 'https://pinkrose04.com/entry/%EC%9E%90%EB%B0%94-%ED%8C%8C%EC%9D%B4%EC%8D%AC-%EC%96%B8%EC%96%B4%EC%99%80-%EB%AC%B8%EB%B2%95-%EC%B0%A8%EC%9D%B4%EC%A0%90-%EC%B4%9D%EC%A0%95%EB%A6%AC', 'content': '이러한 이유로 파이썬은 초보자들이 배우기 쉬운 언어로 평가받고 있으니 자바는 대규모 시스템을 개발하고자 하는 분들, 파이썬은 데이터 분석, 인공지능, 웹 개발 등 다양한 분야에서 사용하고자 하는 분들이 배우기에 적합한 언어입니다.\\n자바와 파이썬의 문법 차이점\\n파이썬 자바 장단점과 차이점 및 프로그램 언어를 알아보기! 파이썬과 자바는 모두 인기 있는 프로그래밍 언어입니다. 하지만 둘은 전혀 다른 방식으로 동작하는데요, 파이썬은 인터프리터 언어이고 자바는 대규모 애플리케이션 개발에 적합하며 안정성 angelbobo04.com\\n자바와 파이썬의 문법 차이점은 크게 두 가지로 나눌 수 있습니다. 첫 번째는 코드의 길이입니다. Python은 다른 언어에 비해 코드의 길이가 짧습니다. 이는 파이썬의 문법이 간단하기 때문입니다. 두 번째는 변수의 선언 방법입니다.\\n자바는 변수의 자료형을 명시적으로 선언해야 하지만, 파이썬은 변수의 자료형을 명시적으로 선언하지 않아도 됩니다. [...] 이는 파이썬이 동적 타이핑 언어이기 때문이며 파이썬은 들여 쓰기를 통해 코드의 블록을 구분하며 코드의 가독성을 높이는 효과가 있습니다.\\n자바 파이썬 활용하기!\\n가장 먼저 떠오르는건 역시 웹개발이죠. 홈페이지 제작 및 운영관리 업무 시 필수적으로 사용되며, 앱개발 시에도 이용된답니다. 특히 모바일 환경에서의 서비스 제공을 위해서는 반드시 알아야 하는 부분이에요.\\n다음으로는 머신러닝/딥러닝 관련분야 입니다. 데이터분석 기술 중 하나로 분류되는데요, 방대한 양의 데이터를 수집해서 통계학적 방법으로 패턴을 찾고 미래를 예측하는 작업이랍니다.\\n자바와 파이썬은 각각의 특징을 가지고 있어며. 자바는 대규모 시스템을 개발하고자 하는 분들, 파이썬은 데이터 분석, 인공지능, 웹 개발 등 다양한 분야에서 사용하고자 하는 분들이 배우기에 적합한 언어입니다.\\n이러한 특징을 고려하여, 본인이 원하는 분야에 맞게 언어를 선택하면 좋을 것입니다. 이상 자바 파이썬 차이점과 활용하는 방법을 총정리해 봤습니다.', 'score': 0.9436445, 'raw_content': \"Published Time: 2023-04-04T20:34:10+09:00\\n자바 파이썬 언어와 문법 차이점 총정리! :: 핑크로미의 정보 꿀팁 모음*★\\n핑크로미의 정보 꿀팁 모음*★\\n메인화면\\n*   분류 전체보기\\n    *   생활정보\\n    *   IT 다양한 정보\\n메인화면\\n*   분류 전체보기\\n    *   생활정보\\n    *   IT 다양한 정보\\n메뉴\\n검색\\n블로그 내 검색 삭제\\n핑크로미의 정보 꿀팁 모음*★\\n빛나는 핑크로미의 정보공간 블로그에 오신걸 환영합니다^^*\\n===============================================================================================\\n\\n생활정보\\n\\n자바 파이썬 언어와 문법 차이점 총정리!\\n\\n\\n\\n4.\\n\\n\\n\\nby. 빛나는 핑크로미♡   자바나 파이썬 같은 프로그래밍 언어들이 왜 이렇게 인기가 많을까요? 물론 컴퓨터 공학 전공자나 개발자라면 필수인 것처럼 여겨지지만, 우리 일상생활에서도 많이 활용되고 있답니다.\\n최근엔 코로나19 사태로 인해 온라인 수업과 재택근무가 늘어나면서 더욱 주목받고 있죠. 그래서 이번 포스팅에서는 이 두가지 언어들을 간단하게 살펴보고 어떻게 활용되는지 알아볼게요.\\n\\n프로그래밍 언어란?\\n프로그래밍 언어란 사람이 컴퓨터에게 명령을 내릴 때 사용하는 언어라고 보시면 됩니다. 즉, 기계어보다는 인간 친화적인 언어죠. 대표적인 예로는 C언어, JAVA, Python 등이 있으며 이외에도 다양한 언어들이 존재한답니다.\\n자바와 파이썬 중 어떤걸 배워야 하나요?\\n자바와 파이썬 중 어떤 언어를 배워야 할지 고민이신 분들이 많을 것입니다. JAVA는 대규모 프로젝트에서 사용되는 언어로, 대규모 시스템을 개발하는데 많이 사용됩니다.\\n또한, 자바는 다른 언어에 비해 안정성이 높고, 오류가 발생할 확률이 적습니다. Python은 간단하고 쉽게 배울 수 있는 언어로, 데이터 분석, 인공지능, 웹 개발 등 다양한 분야에서 사용됩니다.\\n또한, 파이썬은 다른 언어에 비해 코드의 길이가 짧고, 문법이 간단합니다.\\n이러한 이유로 파이썬은 초보자들이 배우기 쉬운 언어로 평가받고 있으니 자바는 대규모 시스템을 개발하고자 하는 분들, 파이썬은 데이터 분석, 인공지능, 웹 개발 등 다양한 분야에서 사용하고자 하는 분들이 배우기에 적합한 언어입니다.\\n자바와 파이썬의 문법 차이점\\n파이썬 자바 장단점과 차이점 및 프로그램 언어를 알아보기! 파이썬과 자바는 모두 인기 있는 프로그래밍 언어입니다. 하지만 둘은 전혀 다른 방식으로 동작하는데요, 파이썬은 인터프리터 언어이고 자바는 대규모 애플리케이션 개발에 적합하며 안정성 angelbobo04.com\\n자바와 파이썬의 문법 차이점은 크게 두 가지로 나눌 수 있습니다. 첫 번째는 코드의 길이입니다. Python은 다른 언어에 비해 코드의 길이가 짧습니다. 이는 파이썬의 문법이 간단하기 때문입니다. 두 번째는 변수의 선언 방법입니다.\\n자바는 변수의 자료형을 명시적으로 선언해야 하지만, 파이썬은 변수의 자료형을 명시적으로 선언하지 않아도 됩니다.\\n이는 파이썬이 동적 타이핑 언어이기 때문이며 파이썬은 들여 쓰기를 통해 코드의 블록을 구분하며 코드의 가독성을 높이는 효과가 있습니다.\\n자바 파이썬 활용하기!\\n가장 먼저 떠오르는건 역시 웹개발이죠. 홈페이지 제작 및 운영관리 업무 시 필수적으로 사용되며, 앱개발 시에도 이용된답니다. 특히 모바일 환경에서의 서비스 제공을 위해서는 반드시 알아야 하는 부분이에요.\\n다음으로는 머신러닝/딥러닝 관련분야 입니다. 데이터분석 기술 중 하나로 분류되는데요, 방대한 양의 데이터를 수집해서 통계학적 방법으로 패턴을 찾고 미래를 예측하는 작업이랍니다.\\n자바와 파이썬은 각각의 특징을 가지고 있어며. 자바는 대규모 시스템을 개발하고자 하는 분들, 파이썬은 데이터 분석, 인공지능, 웹 개발 등 다양한 분야에서 사용하고자 하는 분들이 배우기에 적합한 언어입니다.\\n이러한 특징을 고려하여, 본인이 원하는 분야에 맞게 언어를 선택하면 좋을 것입니다. 이상 자바 파이썬 차이점과 활용하는 방법을 총정리해 봤습니다.\\nhttp://daegu-koreaitlab.com광고 코리아IT아카데미 유동우멘토 IT 국비 전액 지원취업전문,전액국비지원,수강료지원,청소년 코딩 진학 ,1:1 맞춤 교육상담  http://www.classu.co.kr광고 김지유 강의, 클래스유블로그 자동화 프로그램 개발 강의, 67% 할인 중 파이썬     좋아요 1  공유하기 URL 복사 카카오톡 공유 페이스북 공유 엑스 공유   게시글 관리   구독하기핑크로미의 정보 꿀팁 모음*★  #### '생활정보' 카테고리의 다른 글\\n| 공공디자인 국민 아이디어 공모전 참가 신청방법!(0) | 2023.05.11 |\\n| --- |\\n| 워라밸 일자리 장려금 지원 및 신청방법!(0) | 2023.05.10 |\\n| 이지샵 자동장부 사용방법 및 무료이용 알아보기!(0) | 2023.04.21 |\\n| 메타버스 제작 과정과 프로그램 및 기본적 기술 알아보기!(0) | 2023.04.01 |\\n| 코딩 프로그램 기본을 배우는 방법과 프로그램 언어!(0) | 2023.03.24 |     \\n이 글을 본 사람들도 관심있게 본 글\\n*   [**워라밸 일자리 장려금 지원 및 신청방법!**2023.05.10](https://pinkrose04.com/entry/%EC%9B%8C%EB%9D%BC%EB%B2%A8-%EC%9D%BC%EC%9E%90%EB%A6%AC-%EC%9E%A5%EB%A0%A4%EA%B8%88-%EC%8B%A0%EC%B2%AD%EB%B0%A9%EB%B2%95?category=1132597)\\n*   [**이지샵 자동장부 사용방법 및 무료이용 알아보기!**2023.04.21](https://pinkrose04.com/entry/%EC%9D%B4%EC%A7%80%EC%83%B5-%EC%9E%90%EB%8F%99%EC%9E%A5%EB%B6%80-%EC%82%AC%EC%9A%A9%EB%B0%A9%EB%B2%95?category=1132597)\\n*   [**메타버스 제작 과정과 프로그램 및 기본적 기술 알아보기!**2023.04.01](https://pinkrose04.com/entry/%EB%A9%94%ED%83%80%EB%B2%84%EC%8A%A4-%EC%A0%9C%EC%9E%91-%EA%B3%BC%EC%A0%95%EA%B3%BC-%ED%94%84%EB%A1%9C%EA%B7%B8%EB%9E%A8-%EB%B0%8F-%EA%B8%B0%EB%B3%B8%EC%A0%81-%EA%B8%B0%EC%88%A0-%EC%95%8C%EC%95%84%EB%B3%B4%EA%B8%B0?category=1132597)\\n*   [**코딩 프로그램 기본을 배우는 방법과 프로그램 언어!**2023.03.24](https://pinkrose04.com/entry/%EC%BD%94%EB%94%A9-%ED%94%84%EB%A1%9C%EA%B7%B8%EB%9E%A8-%EA%B8%B0%EB%B3%B8%EC%9D%84-%EB%B0%B0%EC%9A%B0%EB%8A%94-%EB%B0%A9%EB%B2%95%EA%B3%BC-%ED%94%84%EB%A1%9C%EA%B7%B8%EB%9E%A8-%EC%96%B8%EC%96%B4?category=1132597)\\n\\n자바 파이썬 언어\\nDesigned by Organic\\n\\n빛나는 핑크로미♡\\n티스토리툴바\\n핑크로미의 정보 꿀팁 모음*★구독하기\\n닫기\\n단축키\\n\\n내 블로그\\n| 내 블로그 - 관리자 홈 전환 | Q Q |\\n| --- |\\n| 새 글 쓰기 | W W |\\n블로그 게시글\\n| 글 수정 (권한 있는 경우) | E E |\\n| --- |\\n| 댓글 영역으로 이동 | C C |\\n모든 영역\\n| 이 페이지의 URL 복사 | S S |\\n| --- |\\n| 맨 위로 이동 | T T |\\n| 티스토리 홈 이동 | H H |\\n| 단축키 안내 | Shift + / ⇧ + / |\\n\\n단축키는 한글/영문 대소문자로 이용 가능하며, 티스토리 기본 도메인에서만 동작합니다.\\n\"}, {'title': '자바 vs 파이썬: 프로그래밍 언어 선택의 고민, 어떤 언어를 선택해야 할까?', 'url': 'https://aboutevery.tistory.com/233', 'content': '자바는 명시적인 클래스와 메서드 정의가 필요하며,파이썬은 코드 작성이 간단하고 직관적이다.\\n2.타입 시스템\\n자바와 파이썬은 타입 시스템에서도 차이를 보인다.자바는 정적 타입(static typing)언어로,변수의 타입을 선언하고 컴파일 시에 타입 체크를 수행한다.반면에 파이썬은 동적 타입(dynamic typing)언어로,변수의 타입을 선언하지 않고 실행 시에 동적으로 타입을 결정한다.\\n자바 소스 코드 예시:\\n\\n파이썬 소스 코드 예시: [...] 자바는 변수의 타입을 명시적으로 선언하고,파이썬은 타입을 선언하지 않고 바로 변수를 사용할 수 있다.\\n3.용도와 생태계\\n자바와 파이썬은 각자의 용도와 생태계에서 강점을 가지고 있다.자바는 대규모 응용 프로그램 개발,웹 개발,안드로이드 애플리케이션 개발 등에 주로 사용된다.자바는 기업 환경에서 안정성과 확장성을 중시하는 경우에 많이 활용된다. \\n반면에 파이썬은 데이터 분석,인공지능,웹 개발,자동화 등 다양한 분야에서 널리 사용되고 있다.파이썬은 간결한 문법과 다양한 라이브러리,프레임워크를 통해 빠른 개발과 실험을 지원하여 생산성이 높은 언어로 평가받고 있다.\\n4.선택의 기준\\n자바와 파이썬 중 어떤 언어를 선택해야 할까?선택의 기준은 다양한 요소에 달려있다.만약 대규모 응용 프로그램을 개발하고 기업 환경에서 안정성과 확장성을 중시한다면 자바가 적합한 선택일 수 있다.자바는 타입 시스템의 강력한 체크와 기업 지원을 통해 신뢰성과 안정성을 제공한다. [...] 반면에 데이터 분석,머신러닝,웹 개발 등의 분야에서는 파이썬이 뛰어난 생산성과 다양한 라이브러리,프레임워크를 통해 빠른 개발을 가능하게 한다.파이썬은 간결한 문법과 상대적으로 쉬운 학습 곡선을 가지고 있어 초보자에게도 친숙하며,데이터 처리와 과학적인 연구에 특히 적합하다.\\n결론\\n자바와 파이썬은 각각의 특징과 용도에 따라 개발자들에게 다양한 선택지를 제공한다.자바는 정적 타입과 기업 환경에서의 안정성을 중시하는 프로그래밍에 적합하며,파이썬은 동적 타입과 빠른 개발 속도,데이터 분석 등의 영역에 탁월한 성능을 보여준다. \\n개발자들은 프로젝트의 목적과 요구사항을 고려하여 자바와 파이썬 중 어떤 언어를 선택할지 결정해야 한다.선택의 기준은 개발 환경,용도,개발자의 선호도 등 다양한 요소에 의해 영향을 받는다.중요한 것은 언어를 잘 활용하여 원하는 결과를 얻을 수 있는 능력을 갖추는 것이며,이를 통해 더 나은 소프트웨어 개발을 이루어낼 수 있을 것이다.', 'score': 0.94263905, 'raw_content': \"Published Time: 2023-07-05T10:50:13+09:00\\n자바 vs 파이썬: 프로그래밍 언어 선택의 고민, 어떤 언어를 선택해야 할까?\\n본문 바로가기\\nabout Everything\\n검색\\n\\n*   관리\\n*   글쓰기\\n*   로그인\\n*   로그아웃\\n메뉴\\n\\n홈\\n태그\\n방명록\\n\\n개발\\n자바 vs 파이썬: 프로그래밍 언어 선택의 고민, 어떤 언어를 선택해야 할까?\\n===========================================\\nby garlicssam 2023. 7. 5.\\n프로그래밍 언어는 소프트웨어 개발에서 가장 기본이 되는 요소다.현대 개발자들은 다양한 프로그래밍 언어 중 자바(Java)와 파이썬(Python)사이에서 선택해야 하는 경우가 많다.이번 글에서는 자바와 파이썬의 특징과 주요 차이를 소스 코드 예제와 함께 자세히 살펴보고,어떤 언어를 선택해야 할지에 대한 가이드를 제공한다.\\n1.문법적 차이\\n자바와 파이썬은 문법적인 측면에서 몇 가지 차이가 있다.자바는 중괄호{}를 사용하여 코드 블록을 구분하고 세미콜론;으로 문장을 마친다.반면에 파이썬은 들여쓰기를 통해 코드 블록을 구분하고 문장의 끝에 세미콜론을 사용하지 않는다.\\n자바 소스 코드 예시:\\n\\n파이썬 소스 코드 예시:\\n\\n자바는 명시적인 클래스와 메서드 정의가 필요하며,파이썬은 코드 작성이 간단하고 직관적이다.\\n2.타입 시스템\\n자바와 파이썬은 타입 시스템에서도 차이를 보인다.자바는 정적 타입(static typing)언어로,변수의 타입을 선언하고 컴파일 시에 타입 체크를 수행한다.반면에 파이썬은 동적 타입(dynamic typing)언어로,변수의 타입을 선언하지 않고 실행 시에 동적으로 타입을 결정한다.\\n자바 소스 코드 예시:\\n\\n파이썬 소스 코드 예시:\\n\\n자바는 변수의 타입을 명시적으로 선언하고,파이썬은 타입을 선언하지 않고 바로 변수를 사용할 수 있다.\\n3.용도와 생태계\\n자바와 파이썬은 각자의 용도와 생태계에서 강점을 가지고 있다.자바는 대규모 응용 프로그램 개발,웹 개발,안드로이드 애플리케이션 개발 등에 주로 사용된다.자바는 기업 환경에서 안정성과 확장성을 중시하는 경우에 많이 활용된다. \\n반면에 파이썬은 데이터 분석,인공지능,웹 개발,자동화 등 다양한 분야에서 널리 사용되고 있다.파이썬은 간결한 문법과 다양한 라이브러리,프레임워크를 통해 빠른 개발과 실험을 지원하여 생산성이 높은 언어로 평가받고 있다.\\n4.선택의 기준\\n자바와 파이썬 중 어떤 언어를 선택해야 할까?선택의 기준은 다양한 요소에 달려있다.만약 대규모 응용 프로그램을 개발하고 기업 환경에서 안정성과 확장성을 중시한다면 자바가 적합한 선택일 수 있다.자바는 타입 시스템의 강력한 체크와 기업 지원을 통해 신뢰성과 안정성을 제공한다. \\n반면에 데이터 분석,머신러닝,웹 개발 등의 분야에서는 파이썬이 뛰어난 생산성과 다양한 라이브러리,프레임워크를 통해 빠른 개발을 가능하게 한다.파이썬은 간결한 문법과 상대적으로 쉬운 학습 곡선을 가지고 있어 초보자에게도 친숙하며,데이터 처리와 과학적인 연구에 특히 적합하다.\\n결론\\n자바와 파이썬은 각각의 특징과 용도에 따라 개발자들에게 다양한 선택지를 제공한다.자바는 정적 타입과 기업 환경에서의 안정성을 중시하는 프로그래밍에 적합하며,파이썬은 동적 타입과 빠른 개발 속도,데이터 분석 등의 영역에 탁월한 성능을 보여준다. \\n개발자들은 프로젝트의 목적과 요구사항을 고려하여 자바와 파이썬 중 어떤 언어를 선택할지 결정해야 한다.선택의 기준은 개발 환경,용도,개발자의 선호도 등 다양한 요소에 의해 영향을 받는다.중요한 것은 언어를 잘 활용하여 원하는 결과를 얻을 수 있는 능력을 갖추는 것이며,이를 통해 더 나은 소프트웨어 개발을 이루어낼 수 있을 것이다.\\n2023.07.05 - [개발] - 자바의 객체지향 프로그래밍: 코드 재사용과 유지보수성의 새로운 차원\\n자바의 객체지향 프로그래밍: 코드 재사용과 유지보수성의 새로운 차원 자바 언어를 활용한 객체지향 프로그래밍의 효과적인 구현 자바(Java)는 현대 소프트웨어 개발에서 가장 널리 사용되는 객체지향 프로그래밍 언어 중 하나다. 객체지향 프로그래밍은 코드의 재 aboutevery.tistory.com\\n2021.06.20 - [개발] - 웹 취약점이란? (보안취약점 / 해킹 / 보안)\\n웹 취약점이란? (보안취약점 / 해킹 / 보안) 어떤 기관의 유지보수(SM)를 하고 있다면 시도 때도 없이 나오는 웹 취약 점검에 스트레스를 받고 있을 수 있다. 공공기관이라면 국가정보원의 점검, 행안부의 점검, 기관 자체의 점검 등 분기별 aboutevery.tistory.com\\n좋아요 1\\n공유하기\\nURL 복사 카카오톡 공유 페이스북 공유 엑스 공유\\n게시글 관리\\n구독하기about Everything\\n'개발' 카테고리의 다른 글\\n| 서버 기동 시 Out of Memory(OOM) 오류 원인과 해결 방법(0) | 2025.03.12 |\\n| --- |\\n| 일반적인 오라클 에러 이해 및 해결 (오라클 에러코드): 개발자 가이드(0) | 2023.12.23 |\\n| 자바의 객체지향 프로그래밍: 코드 재사용과 유지보수성의 새로운 차원(0) | 2023.07.05 |\\n| IT세상에서 가장 인기있는 프로그래밍 언어 순위와 전망(파이썬, 자바스크립트, 자바 등)(0) | 2023.03.17 |\\n| VPN 서버에 대한 간단한 설명(0) | 2023.03.11 |\\n태그\\njava, python, 자바, 자바 파이썬, 자바 파이썬 차이, 파이썬, 파이썬의 특징, 프로그래밍언어\\n관련글\\n\\n서버 기동 시 Out of Memory(OOM) 오류 원인과 해결 방법\\n일반적인 오라클 에러 이해 및 해결 (오라클 에러코드): 개발자 가이드\\n자바의 객체지향 프로그래밍: 코드 재사용과 유지보수성의 새로운 차원\\nIT세상에서 가장 인기있는 프로그래밍 언어 순위와 전망(파이썬, 자바스크립트, 자바 등)\\n\\n댓글 0\\nabout Everythinggarlicssam 님의 블로그입니다.구독하기\\n\\n\\n분류 전체보기\\n위스키\\n가족\\n코딩교육\\nmilitary\\n인물\\nscience\\nIT 기기\\n가상화폐\\n개발\\n이슈\\n정보\\n자동차\\n부동산정보\\n순위\\n대중문화\\n프린터드라이버\\n교통사고\\n법률\\n회생파산\\n경제\\n역사\\n보험\\n금융\\n대출\\n\\n\\n\\n공지사항\\n최근글인기글\\n\\n[2025 인도-파키스탄 분쟁 공중전 분석] J-⋯2025.05.12\\n2025 기아 니로 하이브리드 가격표 및 트림별 ⋯2025.05.10\\n[외신번역]라팔 사상 첫 격추? 파키스탄 주장대로⋯2025.05.08\\n지급명령 : 신속하고 효율적인 채권 회수를 위한⋯2025.05.08\\n\\n교통사고 2주 진단 합의금, 얼마나 받을 수 있을⋯2025.05.08\\n\\n\\n윈도우 비번을 까먹었을 때 어떻게 하지? (윈도우⋯2023.03.13\\n\\n교통사고 2주 통원치료 시 합의금은 어떻게 될까?2024.04.20\\n호환성보기 설정 (크롬, 엣지, 익스플로러)2021.06.16\\n교통사고 차량 격락손해(감가상각) 보상 2024.06.08\\n교통사고 2주 진단 합의금, 얼마나 받을 수 있을⋯2025.05.08\\n\\n최근댓글\\n\\n윈도우 8 이상부터 생긴 빠른시작켜기 기능을 켜두시고 ⋯\\n감삼다ㅠㅠ\\ntaskkill 오류로 한참 고생했는데 안전모드로 부팅⋯\\n제2의 비트코인 꼭보세요!! (이제 올라갈듯 ㅋ) 2⋯\\n\\n태그\\nKF-21KAI성능전투기F-35카니발 하이브리드가격연비현대인증중고차홈페이지현대인증중고차엡손 프린터 드라이버트림전기차경차엔카 가격비교하이브리드FA-50르노코리아옵션기아자동차크기제네시스 SUV전비쏘렌토 하이브리드중형SUV코로나19제네시스k방산쏘렌토팰리세이드 하이브리드\\n전체 방문자\\n436,788\\nToday : 107\\nYesterday : 173\\n\\nTOP\\nTEL. 02.1234.5678 / 경기 성남시 분당구 판교역로\\n© Kakao Corp.\\n티스토리툴바\\n닫기\\n단축키\\n\\n내 블로그\\n| 내 블로그 - 관리자 홈 전환 | Q Q |\\n| --- |\\n| 새 글 쓰기 | W W |\\n블로그 게시글\\n| 글 수정 (권한 있는 경우) | E E |\\n| --- |\\n| 댓글 영역으로 이동 | C C |\\n모든 영역\\n| 이 페이지의 URL 복사 | S S |\\n| --- |\\n| 맨 위로 이동 | T T |\\n| 티스토리 홈 이동 | H H |\\n| 단축키 안내 | Shift + / ⇧ + / |\\n\\n단축키는 한글/영문 대소문자로 이용 가능하며, 티스토리 기본 도메인에서만 동작합니다.\\n\"}, {'title': '자바와 파이썬의 차이점 3가지(문법,성능,사용용도) 알아보기 - IT치트키', 'url': 'https://itcheatkey.tistory.com/5', 'content': '반면에 파이썬은 비교적 간결한 문법을 가진 스크립트 언어입니다. 파이썬 코드는 들여쓰기로 코드 블록을 정의하며, 문장의 끝을 표시할 필요가 없습니다. 이로 인해 코드가 간결하고 가독성이 좋지만, 코드의 구조가 드러나지 않을 수 있어 유지보수에 어려움을 겪을 수도 있습니다.\\n\\n2. 성능\\n\\n자바는 바이트 코드로 컴파일되어 JVM(Java Virtual Machine) 상에서 실행됩니다. 이로 인해 실행 속도가 매우 빠르며, 고성능 및 대규모 애플리케이션 개발에 적합합니다.\\n\\n반면에 파이썬은 인터프리터 언어이기 때문에 실행 속도가 상대적으로 느리지만, C 언어와의 결합을 통해 속도를 높일 수 있습니다. 또한 파이썬은 코드의 간결성과 직관성이 높아 빠른 프로토타이핑과 개발에 적합합니다.\\n\\n3. 사용 용도\\n\\n자바는 대규모 애플리케이션, 네트워크, 게임 및 안드로이드 앱 개발에 주로 사용됩니다. 또한 자바는 다양한 플랫폼에서 동작하기 때문에 크로스 플랫폼 개발에 적합합니다. [...] 자바와 파이썬의 차이점 3가지(문법,성능,사용용도) 알아보기\\n\\n\\n\\n\\n\\n안녕하세요 IT치트키 입니다.\\n\\n\\n\\nIT\\xa0산업에서\\xa0가장\\xa0많이\\xa0사용되는\\xa0프로그래밍\\xa0언어\\xa0중에\\xa0파이썬과\\xa0자바가\\xa0있습니다.\\xa0이\\xa0둘은\\xa0모두\\xa0고급\\xa0언어이지만\\xa0몇\\xa0가지\\xa0중요한\\xa0차이점이\\xa0있습니다.\\xa0이번\\xa0글에서는\\xa0파이썬과\\xa0자바의\\xa0가장\\xa0큰\\xa0차이점을\\xa0살펴보고,\\xa0둘\\xa0중\\xa0어떤\\xa0것을\\xa0선택해야\\xa0할지\\xa0고민하는\\xa0분들을\\xa0위해\\xa0도움이\\xa0될\\xa0만한\\xa0정보를\\xa0제공하겠습니다.\\n\\n1. 문법\\n\\n자바는 C++에서 기원한 객체 지향 프로그래밍 언어로, 세미콜론을 사용하여 문장의 끝을 표시하고 중괄호로 코드 블록을 정의합니다. 이로 인해 코드가 길어지고 가독성이 떨어질 수 있지만, 규모가 큰 프로젝트에서는 코드의 유지보수 및 확장성 측면에서 장점을 가집니다. [...] 반면에 파이썬은 데이터 분석, 인공지능, 머신 러닝, 웹 개발 및 자동화 등의 분야에 많이 사용됩니다. 특히 파이썬은 다양한 라이브러리와 프레임워크가 있어 데이터 분석, 인공지능 및 머신 러닝에 적합합니다. 또한 파이썬은 쉽게 배우고 사용하기 때문에 초보자부터 전문가까지 다양한 수준의 개발자가\\n\\n4. 자바를 선택해야 하는 경우\\n\\n5. 파이썬을 선택해야 하는 경우\\n\\n6. 결론\\n\\n파이썬과 자바는 각각의 장단점이 있기 때문에, 선택하는 언어는 사용 용도에 따라 달라질 수 있습니다. 따라서 프로젝트의 목적과 요구 사항을 고려하여 적절한 언어를 선택하는 것이 중요합니다. 또한 개발자의 선호도나 경험, 개발 환경 등도 선택에 영향을 미치기 때문에 이러한 요인들도 고려해야 합니다.\\n\\n\\n\\n파이썬과 자바는 각각 성숙하고 인기 있는 언어이기 때문에, 이러한 언어들을 모두 익히는 것이 더 좋을 수도 있습니다. 이는 다양한 프로젝트에서 다양한 문제를 해결할 수 있는 유연성과 경험을 제공할 것입니다.', 'score': 0.942002, 'raw_content': '자바와 파이썬의 차이점 3가지(문법,성능,사용용도) 알아보기\\n\\n\\n\\n\\n\\n안녕하세요 IT치트키 입니다.\\n\\n\\n\\nIT\\xa0산업에서\\xa0가장\\xa0많이\\xa0사용되는\\xa0프로그래밍\\xa0언어\\xa0중에\\xa0파이썬과\\xa0자바가\\xa0있습니다.\\xa0이\\xa0둘은\\xa0모두\\xa0고급\\xa0언어이지만\\xa0몇\\xa0가지\\xa0중요한\\xa0차이점이\\xa0있습니다.\\xa0이번\\xa0글에서는\\xa0파이썬과\\xa0자바의\\xa0가장\\xa0큰\\xa0차이점을\\xa0살펴보고,\\xa0둘\\xa0중\\xa0어떤\\xa0것을\\xa0선택해야\\xa0할지\\xa0고민하는\\xa0분들을\\xa0위해\\xa0도움이\\xa0될\\xa0만한\\xa0정보를\\xa0제공하겠습니다.\\n\\n1. 문법\\n\\n자바는 C++에서 기원한 객체 지향 프로그래밍 언어로, 세미콜론을 사용하여 문장의 끝을 표시하고 중괄호로 코드 블록을 정의합니다. 이로 인해 코드가 길어지고 가독성이 떨어질 수 있지만, 규모가 큰 프로젝트에서는 코드의 유지보수 및 확장성 측면에서 장점을 가집니다.\\n\\n반면에 파이썬은 비교적 간결한 문법을 가진 스크립트 언어입니다. 파이썬 코드는 들여쓰기로 코드 블록을 정의하며, 문장의 끝을 표시할 필요가 없습니다. 이로 인해 코드가 간결하고 가독성이 좋지만, 코드의 구조가 드러나지 않을 수 있어 유지보수에 어려움을 겪을 수도 있습니다.\\n\\n2. 성능\\n\\n자바는 바이트 코드로 컴파일되어 JVM(Java Virtual Machine) 상에서 실행됩니다. 이로 인해 실행 속도가 매우 빠르며, 고성능 및 대규모 애플리케이션 개발에 적합합니다.\\n\\n반면에 파이썬은 인터프리터 언어이기 때문에 실행 속도가 상대적으로 느리지만, C 언어와의 결합을 통해 속도를 높일 수 있습니다. 또한 파이썬은 코드의 간결성과 직관성이 높아 빠른 프로토타이핑과 개발에 적합합니다.\\n\\n3. 사용 용도\\n\\n자바는 대규모 애플리케이션, 네트워크, 게임 및 안드로이드 앱 개발에 주로 사용됩니다. 또한 자바는 다양한 플랫폼에서 동작하기 때문에 크로스 플랫폼 개발에 적합합니다.\\n\\n반면에 파이썬은 데이터 분석, 인공지능, 머신 러닝, 웹 개발 및 자동화 등의 분야에 많이 사용됩니다. 특히 파이썬은 다양한 라이브러리와 프레임워크가 있어 데이터 분석, 인공지능 및 머신 러닝에 적합합니다. 또한 파이썬은 쉽게 배우고 사용하기 때문에 초보자부터 전문가까지 다양한 수준의 개발자가\\n\\n4. 자바를 선택해야 하는 경우\\n\\n5. 파이썬을 선택해야 하는 경우\\n\\n6. 결론\\n\\n파이썬과 자바는 각각의 장단점이 있기 때문에, 선택하는 언어는 사용 용도에 따라 달라질 수 있습니다. 따라서 프로젝트의 목적과 요구 사항을 고려하여 적절한 언어를 선택하는 것이 중요합니다. 또한 개발자의 선호도나 경험, 개발 환경 등도 선택에 영향을 미치기 때문에 이러한 요인들도 고려해야 합니다.\\n\\n\\n\\n파이썬과 자바는 각각 성숙하고 인기 있는 언어이기 때문에, 이러한 언어들을 모두 익히는 것이 더 좋을 수도 있습니다. 이는 다양한 프로젝트에서 다양한 문제를 해결할 수 있는 유연성과 경험을 제공할 것입니다.\\n\\n\\n\\n감사합니다.\\n\\n태그목록\\n\\n'}, {'title': 'Python vs Java: 각 언어의 강점과 활용 분야 - naver.HOW data lake by AI', 'url': 'https://naver.how/wp/2025/04/17/python-vs-java-각-언어의-강점과-활용-분야/', 'content': '결론\\n파이썬과 자바는 각기 다른 강점을 가진 언어로, 서로 경쟁하기보다는 상호 보완적인 관계라고 볼 수 있습니다. 파이썬은 데이터 과학, AI, 빠른 프로토타이핑이 필요한 환경에서 탁월한 성능을 보여주며, 자바는 안정성, 확장성, 성능이 중요한 엔터프라이즈 환경과 모바일 개발 분야에서 강점을 발휘합니다.\\n개발자로서는 두 언어의 특성을 이해하고, 프로젝트의 요구사항에 따라 적절한 언어를 선택하는 것이 중요합니다. 많은 현대적인 소프트웨어 시스템에서는 파이썬과 자바를 함께 사용하여 각 언어의 강점을 최대한 활용하는 경우도 많습니다. 예를 들어, 데이터 처리와 모델 개발은 파이썬으로, 실시간 서비스와 대규모 백엔드 시스템은 자바로 구현하는 방식입니다.\\n두 언어 모두 계속해서 진화하고 있으며, 서로의 장점을 흡수하면서 발전하고 있습니다. 어떤 언어가 “더 좋다”라고 단정 짓기보다는, 각 상황에 맞는 최적의 도구를 선택하는 지혜가 필요합니다.', 'score': 0.94174546, 'raw_content': 'Python vs Java: 각 언어의 강점과 활용 분야 – naver.HOW data lake by AI\\n콘텐츠로 바로가기\\nnaver.HOW data lake by AI\\n\\n…\\n…\\n…\\n…\\n\\nPython vs Java: 각 언어의 강점과 활용 분야\\nWritten by\\nsp\\nin\\n미분류\\n프로그래밍 언어는 각자의 설계 철학과 특성에 따라 서로 다른 분야에서 두각을 나타냅니다. 파이썬과 자바는 둘 다 세계적으로 인기 있는 언어이지만, 각기 다른 환경과 목적에 최적화되어 있습니다. 이 포스팅에서는 두 언어의 고유한 강점과 주요 활용 분야를 살펴보겠습니다.\\n파이썬(Python)의 강점과 활용 분야\\n1. 데이터 과학과 인공지능\\n파이썬이 AI와 데이터 과학 분야에서 지배적인 위치를 차지하는 이유는 명확합니다:\\n\\n풍부한 생태계: NumPy, Pandas, SciPy, Matplotlib, Scikit-learn, TensorFlow, PyTorch 등 강력한 데이터 분석 및 머신러닝 라이브러리\\n간결한 문법: 복잡한 알고리즘을 더 적은 코드로 구현 가능\\n빠른 프로토타이핑: 아이디어에서 실행 가능한 모델까지의 시간 단축\\nJupyter Notebook: 대화형 개발과 시각화에 최적화된 환경\\n\\n```\\n파이썬의 머신러닝 코드 예시\\nimport numpy as np\\nfrom sklearn.model_selection import train_test_split\\nfrom sklearn.ensemble import RandomForestClassifier\\nfrom sklearn.metrics import accuracy_score\\n데이터 준비\\nX = np.random.random((100, 5))\\ny = np.random.randint(0, 2, 100)\\n학습/테스트 데이터 분리\\nX_train, X_test, y_train, y_test = train_test_split(X, y, test_size=0.3)\\n모델 학습\\nmodel = RandomForestClassifier()\\nmodel.fit(X_train, y_train)\\n예측 및 평가\\npredictions = model.predict(X_test)\\naccuracy = accuracy_score(y_test, predictions)\\nprint(f\"모델 정확도: {accuracy:.2f}\")\\n```\\n2. 웹 개발\\n\\nDjango, Flask: 강력하고 유연한 웹 프레임워크\\n빠른 개발 속도: 적은 코드로 빠르게 MVP(Minimum Viable Product) 개발 가능\\n풍부한 라이브러리: 웹 스크래핑, API 개발 등 다양한 웹 관련 작업 지원\\n\\n3. 자동화 및 스크립팅\\n\\n간결한 문법: 시스템 관리, 파일 처리, 자동화 작업에 최적화\\n크로스 플랫폼: Windows, Linux, macOS 등 다양한 환경에서 동일하게 동작\\n표준 라이브러리: 파일 시스템, 네트워크, 프로세스 관리 등 다양한 기능 내장\\n\\n4. 교육\\n\\n낮은 진입 장벽: 초보자도 쉽게 배울 수 있는 직관적인 문법\\n가독성 중시: “Python is executable pseudocode”라는 말이 있을 정도로 읽기 쉬운 코드\\n다양한 학습 자료: 풍부한 온라인 튜토리얼과 커뮤니티 지원\\n\\n자바(Java)의 강점과 활용 분야\\n1. 엔터프라이즈 애플리케이션\\n\\n안정성과 확장성: 대규모 기업 시스템에 이상적\\n강력한 타입 시스템: 컴파일 시점에 많은 오류 감지\\nSpring 프레임워크: 엔터프라이즈 개발을 위한 포괄적인 솔루션\\n백엔드 시스템: 은행, 금융, 보험 등 미션 크리티컬한 시스템에서 널리 사용\\n\\n```\\n// 자바의 엔터프라이즈 애플리케이션 예시 (Spring Boot)\\n@RestController\\n@RequestMapping(\"/api/users\")\\npublic class UserController {\\nprivate final UserService userService;\\n\\n@Autowired\\npublic UserController(UserService userService) {\\n    this.userService = userService;\\n}\\n\\n@GetMapping(\"/{id}\")\\npublic ResponseEntity<User> getUserById(@PathVariable Long id) {\\n    return userService.findById(id)\\n            .map(user -> ResponseEntity.ok().body(user))\\n            .orElse(ResponseEntity.notFound().build());\\n}\\n\\n@PostMapping\\npublic ResponseEntity<User> createUser(@RequestBody @Valid UserDTO userDTO) {\\n    User createdUser = userService.create(userDTO);\\n    return ResponseEntity.created(URI.create(\"/api/users/\" + createdUser.getId()))\\n            .body(createdUser);\\n}\\n\\n}\\n```\\n2. 모바일 애플리케이션 개발\\n\\n안드로이드: 구글의 안드로이드 앱 개발에 자바가 공식 언어로 오랫동안 사용됨\\n크로스 플랫폼 도구: 자바 기반의 다양한 모바일 개발 프레임워크 존재\\n성능 최적화: 모바일 환경에서의 리소스 관리에 유리\\n\\n3. 대규모 분산 시스템\\n\\n하둡 에코시스템: 빅데이터 처리를 위한 하둡, Spark 등이 자바/JVM 기반\\n멀티스레딩: 동시성 처리를 위한 강력한 기능 제공\\n안정성: 장기간 운영되는 시스템에 적합한 메모리 관리와 예외 처리\\n\\n4. 임베디드 시스템 및 IoT\\n\\nJVM: 다양한 하드웨어에서 동일하게 동작\\n실시간 성능: GC(Garbage Collection) 튜닝을 통한 예측 가능한 성능\\n보안: 강력한 보안 기능으로 IoT 디바이스 보호\\n\\n언어 특성 비교\\n| 특성 | 파이썬 | 자바 |\\n| --- | --- | --- |\\n| 타입 시스템 | 동적 타입 | 정적 타입 |\\n| 실행 방식 | 인터프리터 | 컴파일 후 JVM에서 실행 |\\n| 문법 스타일 | 간결함 우선 | 명시적 선언 우선 |\\n| 메모리 관리 | 자동 (GC) | 자동 (GC) |\\n| 병렬 처리 | GIL 제약 있음 | 강력한 멀티스레딩 지원 |\\n| 개발 속도 | 매우 빠름 | 중간 |\\n| 실행 속도 | 상대적으로 느림 | 상대적으로 빠름 |\\n| 에러 처리 | 런타임에 발견 | 많은 오류가 컴파일 시 발견 |\\n각 언어의 진화와 발전 방향\\n파이썬의 발전 방향\\n\\n성능 개선: JIT 컴파일러, 병렬 처리 등을 통한 성능 향상 시도\\n타입 힌팅: Python 3.5부터 도입된 타입 힌트로 코드 품질 향상\\nAI 특화 기능: 머신러닝과 데이터 과학을 위한 기능 지속 개선\\n비동기 프로그래밍: asyncio를 통한 고성능 비동기 처리 지원\\n\\n자바의 발전 방향\\n\\n간결한 문법: 최신 버전에서는 var 키워드, 람다식 등으로 코드 간소화\\n모듈 시스템: Java 9부터 도입된 모듈 시스템으로 더 나은 구조화\\n함수형 프로그래밍: Stream API, 람다 등 함수형 프로그래밍 요소 강화\\n변화 속도 향상: 6개월마다 새 버전을 출시하는 빠른 릴리스 사이클\\n\\n결론\\n파이썬과 자바는 각기 다른 강점을 가진 언어로, 서로 경쟁하기보다는 상호 보완적인 관계라고 볼 수 있습니다. 파이썬은 데이터 과학, AI, 빠른 프로토타이핑이 필요한 환경에서 탁월한 성능을 보여주며, 자바는 안정성, 확장성, 성능이 중요한 엔터프라이즈 환경과 모바일 개발 분야에서 강점을 발휘합니다.\\n개발자로서는 두 언어의 특성을 이해하고, 프로젝트의 요구사항에 따라 적절한 언어를 선택하는 것이 중요합니다. 많은 현대적인 소프트웨어 시스템에서는 파이썬과 자바를 함께 사용하여 각 언어의 강점을 최대한 활용하는 경우도 많습니다. 예를 들어, 데이터 처리와 모델 개발은 파이썬으로, 실시간 서비스와 대규모 백엔드 시스템은 자바로 구현하는 방식입니다.\\n두 언어 모두 계속해서 진화하고 있으며, 서로의 장점을 흡수하면서 발전하고 있습니다. 어떤 언어가 “더 좋다”라고 단정 짓기보다는, 각 상황에 맞는 최적의 도구를 선택하는 지혜가 필요합니다.\\n←Modulo Operation in Mathematics vs. Programming Languages\\n아르고 주요 개요→\\n코멘트\\n답글 남기기 응답 취소\\n이메일 주소는 공개되지 않습니다.필수 필드는 *로 표시됩니다\\n댓글 *\\n이름 *\\n이메일 *\\n웹사이트\\n\\n[x] 다음 번 댓글 작성을 위해 이 브라우저에 이름, 이메일, 그리고 웹사이트를 저장합니다.\\n\\nMore posts\\n\\n\\nDeveloping a Stunning JavaFX Lottery Number Generator\\n\\n\\n2025년 05월 19일\\n*   ### 이더리움 네트워크 심층 보고서\\n2025년 05월 19일\\n*   ### 신뢰로 연결되는 글로벌 성공, AudreyDEV와 함께하세요!\\n2025년 05월 19일\\n*   ### Creating 360° VR Panoramic Backgrounds with Stable Diffusion\\n2025년 05월 19일 \\nnaver.HOW data lake by AI\\nowned by programmer HJH\\n\\n…\\n…\\n…\\n\\n…\\n\\n\\n…\\n\\n…\\n…\\n…\\n'}]\n"
          ]
        }
      ],
      "source": [
        "# ✅ Tavily 검색 도구 연동\n",
        "# os.environ['TAVILY_API_KEY'] = ''\n",
        "from langchain_community.tools.tavily_search import TavilySearchResults\n",
        "web_search_tool = TavilySearchResults(\n",
        "    max_results=5,\n",
        "    include_answer=True,\n",
        "    include_raw_content=True\n",
        ")\n",
        "\n",
        "# ✅ 검색 도구 테스트\n",
        "search_result = web_search_tool.invoke(\"파이썬과 자바의 차이점\")\n",
        "print(search_result)\n"
      ]
    },
    {
      "cell_type": "code",
      "execution_count": 6,
      "id": "gyi5RlqlKoJh",
      "metadata": {
        "colab": {
          "base_uri": "https://localhost:8080/"
        },
        "id": "gyi5RlqlKoJh",
        "outputId": "73e3ce80-0884-42b9-c211-d46fedcf08c8"
      },
      "outputs": [
        {
          "name": "stdout",
          "output_type": "stream",
          "text": [
            "[답변]: 여름에 입을 트렌디한 빈티지 옷을 검색해 드릴게요.\n"
          ]
        }
      ],
      "source": [
        "# ✅ 도구 바인딩\n",
        "language_model_with_tools = language_model.bind_tools([web_search_tool])\n",
        "qa_chain_with_tool = structured_prompt | language_model_with_tools\n",
        "\n",
        "# ✅ 도구 호출 포함 질문\n",
        "tool_response = qa_chain_with_tool.invoke({\"inquiry\": \"여름에 입을 트렌디한 빈티지 옷을 검색해줘!\"})\n",
        "print(tool_response.content)"
      ]
    },
    {
      "cell_type": "code",
      "execution_count": 7,
      "id": "MOu8eKvtKrXp",
      "metadata": {
        "colab": {
          "base_uri": "https://localhost:8080/"
        },
        "id": "MOu8eKvtKrXp",
        "outputId": "e7fb9e15-117f-4baf-d258-882dcbd353e6"
      },
      "outputs": [
        {
          "name": "stdout",
          "output_type": "stream",
          "text": [
            "[{'title': 'Summer Vintage Outfits 2024: 34+ Ideas You Will LOVE', 'url': 'https://vintaked.com/summer-vintage-outfits/', 'content': 'How can I style vintage pieces for a modern summer look?\\nMix vintage items with contemporary pieces, experiment with layering, accessorize with modern jewelry or shoes to create a unique outfit.\\nWhat are some popular vintage summer outfit trends?\\nMidi dresses, high-waisted shorts, floral prints, oversized sunglasses, straw hats, and platform sandals are all popular vintage summer trends to try. [...] by Pinterest\\nOh my gosh, I absolutely adore this summer vintage outfit! The light denim overalls are such a timeless piece, and they give off that effortlessly cool vibe. Paired with a simple white tank top, it’s the perfect blend of comfort and style for those warm, sunny days. Plus, the rolled-up shorts add a cute, playful touch that makes it a must-have for any vintage lover’s wardrobe!\\nCharming Summer Vintage Outfit [...] by Pinterest\\nOh, I absolutely adore this summer vintage outfit! The high-waisted denim shorts paired with the cropped white tank top give off such a relaxed yet stylish vibe. The loose, unbuttoned shirt adds a perfect layer of casual coolness, and those classic white sneakers tie the whole look together effortlessly. It’s the ultimate blend of comfort and retro charm, making it a must-have for any summer wardrobe!\\nSummer Vintage Outfit Inspiration', 'score': 0.9057319, 'raw_content': \"Published Time: 2024-07-01T14:59:51+01:00\\nSummer Vintage Outfits 2024: 34+ Ideas You Will LOVE\\n===============\\nSkip to content\\nNo results \\n\\n\\nVintage Decor\\n\\nBest Vintage Decor Ideas\\nLiving Room Decor\\nBohemian Vintage Decor Designs\\nVintage Decor Bedroom Ideas\\nDIY Vintage Decor Inspirations\\nVintage Industrial\\nBohemian Vintage\\nVintage Home Styles\\nVintage Wedding Ideas\\nVintage Room Ideas\\nVintage Suitcases\\nVintage New Year’s Eve\\nVintage Americana\\nVintage Maximalist\\nVintage Christmas\\n\\n\\n\\nVintage Fashion\\n\\nVintage 90s Outfits\\nWinter Dress Ideas\\nVintage Outfits For Black Women\\nVintage Hats\\nVintage Engagement Rings\\nVintage Graphic Tees\\nVintage Outfit Ideas\\nVintage Sweatshirts\\nHow to Dress Vintage\\nHow to Make a Shirt Look Vintage\\nVintage Hair Styles\\n\\n\\n\\nVintage Gifts\\n\\nBest Vintage Gifts\\nValentine’s Day Gifts\\n\\n\\n\\nVintage Art\\n\\nHow to Make Photos Look Vintage\\nVintage Tattoo Art\\nVintage Sci-Fi Art\\nVintage Collage Art\\n\\n\\n\\nVintage Cars\\n\\nVintage Style Campers\\nVintage Convertible Cars\\nVintage Race Cars\\nVintage Car Logos\\nVintage Police Cars\\n\\n\\n\\n\\n\\nHome\\n\\nAbout\\n\\nAbout Us\\nAnti-Ai Policy\\nContributors\\nEditorial Guidelines\\n\\n\\n\\nContact Us\\n\\n\\n\\n\\n\\nVintage Decor\\n\\nBest Vintage Decor Ideas\\nLiving Room Decor\\nBohemian Vintage Decor Designs\\nVintage Decor Bedroom Ideas\\nDIY Vintage Decor Inspirations\\nVintage Industrial\\nBohemian Vintage\\nVintage Home Styles\\nVintage Wedding Ideas\\nVintage Room Ideas\\nVintage Suitcases\\nVintage New Year’s Eve\\nVintage Americana\\nVintage Maximalist\\nVintage Christmas\\n\\n\\n\\nVintage Fashion\\n\\nVintage 90s Outfits\\nWinter Dress Ideas\\nVintage Outfits For Black Women\\nVintage Hats\\nVintage Engagement Rings\\nVintage Graphic Tees\\nVintage Outfit Ideas\\nVintage Sweatshirts\\nHow to Dress Vintage\\nHow to Make a Shirt Look Vintage\\nVintage Hair Styles\\n\\n\\n\\nVintage Gifts\\n\\nBest Vintage Gifts\\nValentine’s Day Gifts\\n\\n\\n\\nVintage Art\\n\\nHow to Make Photos Look Vintage\\nVintage Tattoo Art\\nVintage Sci-Fi Art\\nVintage Collage Art\\n\\n\\n\\nVintage Cars\\n\\nVintage Style Campers\\nVintage Convertible Cars\\nVintage Race Cars\\nVintage Car Logos\\nVintage Police Cars\\n\\n\\n\\nSearch\\n\\n\\nMenu Search\\nSummer Vintage Outfits 2024: 34+ Ideas You Will LOVE\\n\\nFrank Gutsmuths\\n1 July 2024\\nVintage Fashion\\n\\n\\nIG: catherinegauthier_\\nShare your love\\n\\nWelcome to our latest blog post on Summer Vintage Outfits!\\nGet ready to be inspired by the hottest trends of 2024 with our curated list of 34+ ideas that you will absolutely LOVE.\\nFrom retro dresses to classic accessories, we’ve got your summer style covered. Let’s dive into the world of timeless fashion and elevate your wardrobe with a touch of vintage charm.\\nTable of Contents\\nToggle\\n\\n\\n34+ Must-See Summer Vintage Outfits\\n\\nSummer Vintage Outfit Must-Have\\nSummer Vintage Outfit Obsession\\nTimeless Summer Vintage Outfit Essentials\\nSummer Vintage Chic Green Outfit\\nChic Summer Vintage Outfit Inspo\\nSummer Vintage Outfit Inspiration\\nChic Summer Vintage Outfit Inspiration\\nChic Nautical Vintage Summer Outfit\\nSummer Vintage Outfit Inspiration\\nSummer Vintage Outfit Perfection\\nEffortlessly Chic Summer Vintage Outfit\\nSummer Vintage Cool Outfit Essentials\\nSummer Vintage Overalls: Effortlessly Cool Style\\nCharming Summer Vintage Outfit\\nSummer Vintage Chic Outfit Inspiration\\nSummer Vintage Outfit Inspiration\\nEffortless Chic Summer Vintage Outfit\\nEffortlessly Chic Summer Vintage Outfit\\nEffortless Summer Vintage Outfit Vibes\\nChic Summer Vintage Outfit Inspiration\\nDreamy Vintage Garden Party Ensemble\\nEffortlessly Cool Summer Vintage Outfit\\nEffortlessly Cool Summer Vintage Outfit\\nEffortless Cool Vintage Summer Outfit\\nRetro Summer Outfit Inspiration\\nEffortlessly Cool Summer Vintage Outfit\\nEffortlessly Cool Summer Vintage Outfit\\nEffortless Summer Vintage Outfit Charm\\n\\n\\n\\nFAQ\\n\\nWhere can I find authentic vintage summer outfits?\\nHow can I style vintage pieces for a modern summer look?\\nWhat are some popular vintage summer outfit trends?\\n\\n\\n\\n34+ Must-See Summer Vintage Outfits\\nSummer Vintage Outfit Must-Have\\n\\nby Pinterest\\nOh my goodness, I am absolutely in love with this summer vintage outfit! The tie-front blouse paired with those high-waisted trousers is such a timeless combo that screams effortless chic. And can we talk about the accessories? The straw hat and retro sunglasses add the perfect touch of nostalgia, making this look an absolute must-have for any vintage fashion lover.\\nSummer Vintage Outfit Obsession\\n\\nby Pinterest\\nOh my gosh, I am absolutely in love with this summer vintage outfit! The vibrant, geometric patterns on the oversized shirt scream retro chic and pair perfectly with those high-waisted, frayed denim shorts. It’s such a cool, laid-back look that effortlessly blends comfort with style – definitely a must-have for any vintage fashion lover like me!\\nTimeless Summer Vintage Outfit Essentials\\n\\nby Pinterest\\nI absolutely adore this summer vintage outfit! The high-waisted shorts paired with the delicate, puff-sleeve blouse give off such a timeless, elegant vibe. It’s effortlessly chic and perfect for a leisurely stroll or a day out reading by the fountain. The soft, neutral tones make it a versatile must-have for any vintage lover’s wardrobe.\\nSummer Vintage Chic Green Outfit\\n\\nby Pinterest\\nOh, I absolutely adore this summer vintage outfit! The vibrant green blouse paired with high-waisted denim shorts is such a refreshing and chic combo. The bold belt adds a touch of sophistication, making it a must-have for anyone looking to blend comfort with a dash of retro flair. Plus, the relaxed yet stylish vibe is perfect for those sunny days out!\\nChic Summer Vintage Outfit Inspo\\n\\nby Pinterest\\nOh, I absolutely adore this summer vintage outfit! The high-waisted denim shorts paired with the cropped white tank top give off such a relaxed yet stylish vibe. The loose, unbuttoned shirt adds a perfect layer of casual coolness, and those classic white sneakers tie the whole look together effortlessly. It’s the ultimate blend of comfort and retro charm, making it a must-have for any summer wardrobe!\\nSummer Vintage Outfit Inspiration\\n\\nby Pinterest\\nI absolutely adore this summer vintage outfit! The denim overalls paired with a simple white tee give off such a relaxed, effortlessly cool vibe. And that floral headscarf? It’s the perfect touch of retro charm that makes this look a must-have for any sunny day adventure.\\nChic Summer Vintage Outfit Inspiration\\n\\nby Pinterest\\nI absolutely adore this summer vintage outfit! The olive green knit top paired with high-waisted beige shorts gives off such a relaxed yet chic vibe. The headband and belt add the perfect touch of retro charm, making it a must-have for any vintage lover’s wardrobe. Plus, it’s the ideal ensemble for a sunny day out, sipping on a refreshing drink and enjoying the outdoors.\\nChic Nautical Vintage Summer Outfit\\n\\nby Pinterest\\nOh, I absolutely adore this summer vintage outfit! The bold navy stripes on the blouse paired with those crisp white high-waisted shorts give off such a chic, nautical vibe that’s perfect for a day by the marina. The classic belt and the mini handbag add just the right touch of sophistication, making this look effortlessly stylish and a must-have for any vintage fashion lover.\\nSummer Vintage Outfit Inspiration\\n\\nby Pinterest\\nI absolutely adore this summer vintage outfit! The vibrant orange floral shirt paired with high-waisted denim shorts is such a nostalgic nod to the carefree vibes of the ’90s. It’s effortlessly cool and perfect for lounging in the sun with a refreshing drink in hand. The cropped white top adds a modern twist, making it a must-have for any summer wardrobe.\\nSummer Vintage Outfit Perfection\\n\\nby Pinterest\\nOh my gosh, I absolutely adore this summer vintage outfit! The combination of the crisp white button-up crop top with the playful polka dot skirt is just perfection. It’s effortlessly chic and gives off such a nostalgic, yet timeless vibe. Plus, the little details like the wooden buttons and the net bag add that extra touch of vintage charm that makes it a must-have for any summer wardrobe.\\nEffortlessly Chic Summer Vintage Outfit\\n\\nby Pinterest\\nI absolutely adore this summer vintage outfit! The combination of the relaxed, rolled-up sleeve top in that warm, earthy tone with the edgy, distressed black denim skirt is just perfection. It’s effortlessly cool and gives off such a laid-back, yet stylish vibe—definitely a must-have for those sunny days when you want to look chic without trying too hard.\\nSummer Vintage Cool Outfit Essentials\\n\\nby Pinterest\\nOh my gosh, I am absolutely in love with this summer vintage outfit! The oversized denim overalls paired with a vibrant red tank top just scream effortless cool and comfort. It’s such a must-have because it’s perfect for those laid-back summer days, and the retro vibe is just too good to pass up. Plus, the leopard print bag adds a fun, quirky touch that I can’t get enough of!\\nSummer Vintage Overalls: Effortlessly Cool Style\\n\\nby Pinterest\\nOh my gosh, I absolutely adore this summer vintage outfit! The light denim overalls are such a timeless piece, and they give off that effortlessly cool vibe. Paired with a simple white tank top, it’s the perfect blend of comfort and style for those warm, sunny days. Plus, the rolled-up shorts add a cute, playful touch that makes it a must-have for any vintage lover’s wardrobe!\\nCharming Summer Vintage Outfit\\n\\nby Pinterest\\nI absolutely adore this summer vintage outfit! The whimsical print on the sleeveless blouse is so charming and unique, and it pairs perfectly with the high-waisted, pleated skirt that gives off such a timeless vibe. The straw hat and classic accessories just tie the whole look together, making it an effortlessly chic and must-have ensemble for any vintage lover.\\nSummer Vintage Chic Outfit Inspiration\\n\\nby Pinterest\\nOh my goodness, this summer vintage outfit is everything! I absolutely adore the retro sunset graphic tee paired with that stunning patchwork suede skirt. The earthy tones and bold patterns just scream 70s chic, making it a total must-have for any vintage lover like me. Plus, it’s the perfect blend of casual and stylish, ideal for those sunny days when you want to look effortlessly cool.\\nSummer Vintage Outfit Inspiration\\n\\nby Pinterest\\nOh, I absolutely adore this summer vintage outfit! The oversized black tee paired with those classic high-waisted jeans is effortlessly cool and comfy. The chunky gold chain and retro headscarf add just the right amount of flair, making it a must-have look for anyone wanting to channel some serious vintage vibes. Plus, those tiny sunglasses are just the cherry on top!\\nEffortless Chic Summer Vintage Outfit\\n\\nby Pinterest\\nOh my goodness, I absolutely adore this summer vintage outfit! The oversized cream shirt paired with high-waisted shorts and a cute blue headscarf is just the epitome of effortless chic. It’s perfect for a laid-back summer day, and the retro vibes make it a must-have for anyone looking to add a touch of nostalgia to their wardrobe. Plus, the whole look just screams comfort and style!\\nEffortlessly Chic Summer Vintage Outfit\\n\\nby Pinterest\\nOh, I absolutely adore this summer vintage outfit! The combination of the breezy white slip dress with the oversized denim shirt is just effortlessly chic and perfect for those warm, sunny days. It’s such a cool and versatile look that you can dress up with some cute accessories or keep casual for a laid-back vibe. Plus, the denim shirt adds that perfect touch of vintage charm that I can’t get enough of!\\nEffortless Summer Vintage Outfit Vibes\\n\\nby Pinterest\\nOh, I absolutely adore this summer vintage outfit! The oversized graphic tee paired with the mini skirt is such a relaxed yet chic combo that screams effortless style. Plus, those retro sneakers and the tiny handbag add the perfect touch of nostalgia, making this look a must-have for anyone wanting to channel some cool, laid-back vintage vibes.\\nChic Summer Vintage Outfit Inspiration\\n\\nby Pinterest\\nOh, I absolutely adore this summer vintage outfit! The high-waisted skirt with suspenders paired with that charming button-up blouse gives off such a classic, timeless vibe. It’s effortlessly chic and perfect for a sunny day out, making it a must-have for anyone who loves to blend elegance with a touch of nostalgia. Plus, those brown heels and the striped bag add just the right amount of flair!\\nDreamy Vintage Garden Party Ensemble\\n\\nby Pinterest\\nOh my goodness, this summer vintage outfit is an absolute dream! I adore the floral corset top paired with those whimsical sheer sleeves – it’s like stepping into a romantic garden party from another era. The high-waisted pleated skirt with the lace-up detail adds just the right amount of modern flair, making this ensemble a must-have for anyone who loves blending vintage charm with contemporary style.\\nEffortlessly Cool Summer Vintage Outfit\\n\\nby Pinterest\\nI absolutely adore this summer vintage outfit! The high-waisted denim shorts paired with the loose, patterned shirt give off such a relaxed and effortlessly cool vibe. Plus, the round sunglasses and headscarf add just the right touch of retro flair, making it a must-have look for any vintage fashion lover.\\nEffortlessly Cool Summer Vintage Outfit\\n\\nby Pinterest\\nOh, I absolutely adore this summer vintage outfit! The relaxed, striped green shirt paired with the classic white tee underneath just screams effortless cool. The brown trousers and retro sneakers tie the whole look together, making it a perfect blend of comfort and style. This outfit is a must-have for anyone wanting to channel that laid-back, nostalgic vibe while still looking totally put-together.\\nEffortless Cool Vintage Summer Outfit\\n\\nby Pinterest\\nI absolutely adore this summer vintage outfit! The crisp white shirt with its subtle texture paired with those high-waisted trousers is the epitome of effortless cool. It’s a must-have because it blends timeless elegance with a relaxed vibe, making it perfect for any summer day out. Plus, the classic shades and tattoos add a modern twist that I can’t get enough of!\\nRetro Summer Outfit Inspiration\\n\\nby Pinterest\\nOh, I absolutely love this summer vintage outfit! The colorful striped polo shirt paired with light denim shorts screams retro vibes and effortlessly cool style. The whole look is so laid-back yet stylish, making it a must-have for anyone wanting to channel that nostalgic summer feel. Plus, those classic white sneakers and socks combo just ties everything together perfectly!\\nEffortlessly Cool Summer Vintage Outfit\\n\\nby Pinterest\\nI absolutely adore this summer vintage look! The light, breezy shirt paired with those earthy-toned trousers is the perfect blend of comfort and style. And that cap? It adds just the right touch of old-school charm, making this outfit a must-have for anyone looking to capture that effortlessly cool, timeless vibe.\\nEffortlessly Cool Summer Vintage Outfit\\n\\nby Pinterest\\nI absolutely adore this summer vintage outfit! The light green short-sleeve shirt paired with high-waisted beige shorts gives off such a relaxed yet stylish vibe, perfect for a sunny day by the water. The woven bag and retro sunglasses add that extra touch of effortless cool, making this look a must-have for any vintage fashion lover.\\nEffortless Summer Vintage Outfit Charm\\n\\nby Pinterest\\nI absolutely adore this summer vintage outfit! The combination of the relaxed brown tee with the rolled-up khaki pants gives off such a cool, effortless vibe. Plus, those classic Converse sneakers and white socks just scream timeless style. It’s the perfect blend of comfort and retro charm, making it a must-have for any vintage lover’s wardrobe.\\n\\nby Pinterest\\nI absolutely adore this vintage summer outfit! The relaxed green overalls paired with the classic white tee scream effortless cool and comfort, making it perfect for those laid-back summer days. Plus, the retro laundromat backdrop just adds that extra touch of nostalgia. This look is a must-have because it’s both stylish and practical, blending a timeless vibe with modern flair.\\n\\nby Pinterest\\nI can’t get enough of this chic vintage summer outfit! The embroidered vest paired with wide-leg jeans gives off such a breezy, bohemian vibe that’s perfect for strolling through city streets. I love how effortlessly cool it looks, making it a must-have for anyone wanting to embrace a stylish yet relaxed summer aesthetic.\\n\\nby Pinterest\\nThis vintage summer outfit is a favorite of mine because of its effortlessly chic vibe. The crisp white blouse tucked into high-waisted jeans creates a timeless look that’s both comfortable and stylish, making it a must-have for any summer wardrobe. The simplicity of this ensemble is what makes it so cool and versatile!\\n\\nby Pinterest\\nI just love this guy’s look! The relaxed white tee paired with vintage denim and that effortlessly cool flannel tied around his waist screams timeless style. It’s a must-have for anyone wanting a laid-back yet polished summer vibe. This outfit totally embodies that retro charm I adore, making it a standout in any wardrobe.\\n\\nby Pinterest\\nI absolutely adore this look! The combination of the sleek navy jacket with the retro-striped shirt and those perfectly tailored brown pants creates such a polished yet effortlessly cool vibe. It’s a must-have for anyone looking to add a touch of vintage sophistication to their summer wardrobe.\\n\\nby Pinterest\\nI’m in love with this vintage summer dress! The vibrant red with delicate floral prints is so charming and playful. It’s perfect for a breezy bike ride or a casual day out, making it an essential piece for a fun and stylish summer.\\n\\nby Pinterest\\nI’m absolutely captivated by this vintage summer dress! The delicate floral pattern and soft, flowing fabric give it such an effortlessly romantic feel. It’s a must-have for those sunny days when I want to look stylish and feel comfortable all at once.\\nFAQ\\nWhere can I find authentic vintage summer outfits?\\nLook for vintage shops, thrift stores, online marketplaces like Etsy, or attend vintage fairs and flea markets for unique finds.\\nHow can I style vintage pieces for a modern summer look?\\nMix vintage items with contemporary pieces, experiment with layering, accessorize with modern jewelry or shoes to create a unique outfit.\\nWhat are some popular vintage summer outfit trends?\\nMidi dresses, high-waisted shorts, floral prints, oversized sunglasses, straw hats, and platform sandals are all popular vintage summer trends to try.\\nIf you liked this blog article about summer vintage outfits, don’t forget to follow us on Pinterest so you don’t miss any more news. Or take a look at our other articles:\\n\\nMy 22+ Best Vintage Outfit Inspiration You’ll Love\\n13 Brilliant Styles of Vintage Hats: Discover the Perfect One for You!\\n30+ Vintage Home Styles You Don’t Want to Miss in 2024\\nBest Vintage Gifts 2024: Unearth the Magic with 12 Unique Picks for Pure Delight\\n\\nShare your love\\n\\n\\nFrank Gutsmuths\\nMeet Frank, the curator of nostalgia and vintage aficionado behind Vintaked. With a passion for bygone eras and an eye for timeless treasures, Frank takes readers on a journey through the enchanting world of vintage.\\nDrawing from a deep-seated love for history and aesthetics, Frank infuses each blog post with a blend of storytelling and expertise. Whether it's exploring the intricate details of antique jewelry or unraveling the stories behind vintage fashion trends, Frank brings a fresh perspective to the table.\\n\\nArticles:100\\nRelated Posts\\n\\n26 Best Vintage Decor Essentials Every Home Needs\\n\\nFrank Gutsmuths\\n4 November 2024\\n\\n\\n25 Classy Vintage Outfits That Will Elevate Your Wardrobe Instantly\\n\\nFrank Gutsmuths\\n15 October 2024\\n\\n\\n27 Vintage Farmhouse Decor Secrets Vintage Lovers Can’t Resist!\\n\\nFrank Gutsmuths\\n15 October 2024\\n\\n\\n20+ Stunning Vintage Wedding Dresses That Will Take Your Breath Away\\n\\nFrank Gutsmuths\\n18 August 2024\\n\\nLeave a ReplyCancel Reply\\nYour email address will not be published.Required fields are marked *\\nName *\\nEmail *\\nAdd Comment*\\n\\n[x] Save my name, email, and website in this browser for the next time I comment.\\n\\nPost Comment\\n\\n\\nPrivacy Policy\\nLegal Notice\\nContact Us\\nAbout Us\\nContributors\\nAnti-Ai Policy\\nEditorial Guidelines\\nSitemap\\n\\n\\nWho We Are\\nOur passion for vintage gems mirrors yours.\\nDelving into Classic Eras and Timeless Designs, Bringing You Today’s Best Vintage Finds and Inspiration. \\n_Relive it. Vintake it._\\nContact Us\\nPhone:+49 163 4430077\\nEmail:contact@vintaked.com\\nCopyright © 2025 - Vintaked\\nVintaked is operated by Blum und Steffes NicheLink GbR (VAT Reg. No.: DE363123811), a registered German company\\nc/o COCENTER Koppoldstr. 1, 86551 Aichach\\n\\nx\"}, {'title': '5 Best Online Stores to Buy Cool Vintage Clothes for Summer', 'url': 'https://www.justbeablog.com/post/5-best-online-stores-to-buy-cool-vintage-clothes-for-summer', 'content': 'click here \\nBeyond Retro is a UK-based vintage retailer with an impressive selection of summer-ready pieces. Think vintage Levi’s cut-off shorts, Hawaiian shirts, and floaty floral dresses. They also emphasize sustainability by repurposing and upcycling vintage clothing.\\n4. Depop', 'score': 0.8409005, 'raw_content': \"Published Time: 2025-02-07T22:32:47.913Z\\n5 Best Online Stores to Buy Cool Vintage Clothes for Summer\\n===============\\ntop of page\\nJust Bea\\n\\nHome\\nMy Blog\\nAbout\\nMore   \\n\\nUse tab to navigate through the menu items.\\n\\nAll Posts\\nTravel\\nBeauty\\nFashion\\nLifestyle\\nReviews\\nPersonal growth\\nSelfcare\\nFood\\nEntertainment\\nHealth\\nDIY\\n\\nSearch\\n5 Best Online Stores to Buy Cool Vintage Clothes for Summer\\n\\n Justbea\\nFeb 8\\n2 min read\\n\\nSummer is the perfect season to refresh your wardrobe with unique vintage pieces that stand out. Whether you love retro sundresses, classic denim, or funky 90s graphic tees, shopping online makes it easy to find rare gems from the comfort of your home.\\nHere are five of the best online stores to score cool vintage clothes for summer:\\n1. ThredUp\\n\\nclick here \\nIf you’re looking for a mix of affordable and designer vintage, ThredUp is a great place to start. This online thrift store offers secondhand and vintage clothes at up to 90% off retail prices. You’ll find light summer dresses, retro swimwear, and stylish blouses perfect for hot days.\\n2. Etsy\\n\\nclick here \\nEtsy is a goldmine for unique, handpicked vintage fashion. Independent sellers curate collections of everything from 70s boho dresses to 90s grunge T-shirts. Since each shop has its own vibe, you can explore a variety of styles and eras to match your summer aesthetic.\\n3. Beyond Retro\\n\\nclick here \\nBeyond Retro is a UK-based vintage retailer with an impressive selection of summer-ready pieces. Think vintage Levi’s cut-off shorts, Hawaiian shirts, and floaty floral dresses. They also emphasize sustainability by repurposing and upcycling vintage clothing.\\n4. Depop\\n\\nclick here \\nDepop is like a mix of Instagram and a vintage thrift store. Sellers from around the world offer stylish secondhand finds, from Y2K streetwear to classic 80s summer dresses. Prices vary depending on the seller, but you can often negotiate for a great deal.\\n5. Rokit Vintage\\n\\nclick here \\nRokit is one of the best online destinations for high-quality vintage clothing. Their summer collection features everything from retro swimwear to breezy cotton tops. They also have a great selection of reworked vintage pieces for a modern twist on classic styles.\\nTags:\\n\\nfashion\\nvintage\\n\\nshopping\\n\\n\\nFashion\\n\\n\\nRecent Posts\\nSee All\\n\\nSummer fashion guide: Best Places to Buy Vintage Dresses\\n\\nWhere to buy shabby chic clothes\\n\\n5 Shops to Buy Shabby Chic Style Clothes\\n\\nHi, thanks for stopping by!\\nThank you for stopping by! ✨\\nI truly appreciate you taking the time to read my blog, and I hope you found the content inspiring and enjoyable! 💖\\nIf you loved what you read, don’t be shy—leave a comment, share it with others, and let’s keep the conversation going! 💬💕\\nThere’s always something new and exciting coming your way, so be sure to check back soon for more tips, stories, and inspiration. Can’t wait to see you here again! ✨👋\\nLet the posts\\ncome to you.\\nEmail \\nSubscribe\\nThanks for submitting!\\nLet me know what's on your mind\\nFirst Name \\nEmail \\nLast Name \\nLeave us a message... \\nSubmit\\nThanks for submitting!\\nbottom of page\"}, {'title': 'The Best Vintage Items to Buy This Summer | Who What Wear', 'url': 'https://www.whowhatwear.com/vintage-summer-fashion', 'content': 'The momentum for all things sheer isn\\'t slowing down any time soon. We saw a whole host of ethereal dresses and skirts in white, pastels, and gray float across the spring/summer runways from the likes of Prada, Givenchy, and Coperni, to name but a few. If you\\'re shopping for the trend, then there are plenty of vintage options to suit your style. Whether you opt for romantic lace dresses, delicate organza blouses, or minimal \\'90s slip skirts, they\\'re the perfect option for the sun-drenched days [...] attire—think vintage tennis dresses, polos, and pleated skirts—and look for heritage brands such as Fila, Wilson, Sergio Tacchini, Lacoste, and Nike that are perfect for a \"country-club chic\" look.', 'score': 0.8325776, 'raw_content': 'shop with isa\\n\\nshop with isa\\n\\nVintage or Nothing: 4 Summer Styles You Can (and Should) Buy Secondhand\\n\\n\\n\\nWhen you purchase through links on our site, we may earn an affiliate commission. Here’s how it works.\\n\\n.\\n\\nAs fashion editors, it\\'s our job to cover all things cutting-edge and new, but if you talk to anyone on our team, you\\'ll see that our love for vintage runs deep. The mere word sparks immediate excitement on Slack, in our meetings, and at our happy hours together. Whether it\\'s a favorite hidden vintage store, a designer piece we scored at a flea market in Paris, a cool Instagram account we love, or a unique piece we cherish in our wardrobe, everyone seems to have a story or connection to a vintage or thrifted piece they own.\\n\\nThere is, of course, nothing quite like the thrill of finding a one-of-a-kind piece that you know no one else will be wearing. Not only does shopping vintage maintain individualism and encourage expression, but it also offers more access to designer heritage brands (hello, Prada, Chanel, and Dior!), favors quality over quantity, and encourages sustainability.\\n\\nWith this in mind, we\\'re excited to share our first installment of Vintage or Nothing. Each month, we\\'ll comb through our favorite retailers and vintage brands to share the best vintage buys. Summer is at the forefront of our minds, so below, you\\'ll find four of-the-moment aesthetics that you can and should buy vintage. From the colorful and retro prints of Palm Royale\\'s \\'60s style to the delicate sheer fabrics dominating the season, get inspired by the mood boards below and shop our edit of cool-girl vintage treasures that would make a special addition to your summer wardrobe.\\n\\n\\n\\nThe momentum for all things sheer isn\\'t slowing down any time soon. We saw a whole host of ethereal dresses and skirts in white, pastels, and gray float across the spring/summer runways from the likes of Prada, Givenchy, and Coperni, to name but a few. If you\\'re shopping for the trend, then there are plenty of vintage options to suit your style. Whether you opt for romantic lace dresses, delicate organza blouses, or minimal \\'90s slip skirts, they\\'re the perfect option for the sun-drenched days ahead.\\n\\nShop vintage sheer pieces:\\n\\n\\n\\n\\n\\n\\n\\n\\n\\n\\n\\n\\n\\n\\n\\n\\n\\n\\n\\n\\n\\n\\n\\n\\n\\n\\n\\n\\n\\n\\n\\n\\n\\n\\n\\n\\n\\n\\n\\n\\n\\n\\n\\n\\n\\n\\n\\nFrom the 1960s-inspired minidresses we saw dominate on the spring/summer 2024 runways to the sherbet-colored world of Apple TV+\\'s Palm Royale, there is no doubt that the 1960s are having a major moment in fashion right now. Summer is the perfect time to lean into the colorful and captivating decade. Whether you get yourself a vintage floral Lilly Pulitzer shift dress, a caftan swirled in marbly prints, an iconic Pucci print scarf, or \\'60s statement sunglasses, there are plenty of chic ways to add the bold and vibrant styles to your summer wardrobe. We are all about emulating Maxine Dellacorte\\'s wardrobe for our upcoming summer vacations.\\n\\nShop vintage Palm Royale style:\\n\\n\\n\\n\\n\\n\\n\\n\\n\\n\\n\\n\\n\\n\\n\\n\\n\\n\\n\\n\\n\\n\\n\\n\\n\\n\\n\\n\\n\\n\\n\\n\\n\\n\\n\\n\\n\\n\\n\\n\\n\\n\\n\\n\\n\\n\\n\\n\\n\\n\\n\\nLaunched back into the mainstream by Zendaya\\'s iconic Challengers press tour wardrobe, the tenniscore aesthetic is taking the spotlight this season. Tennis is a sport that has been long adored by fashion, and its enduring appeal isn\\'t to be underestimated. With its elegant, refined, and well-moneyed connotations, it has always had a strong hold on those looking for a chic yet sporty summer vibe. Whether you\\'re serving looks on or off the court, lean into the preppy and retro athletic attire—think vintage tennis dresses, polos, and pleated skirts—and look for heritage brands such as Fila, Wilson, Sergio Tacchini, Lacoste, and Nike that are perfect for a \"country-club chic\" look.\\n\\nShop vintage tennis pieces:\\n\\n\\n\\n\\n\\n\\n\\n\\n\\n\\n\\n\\n\\n\\n\\n\\n\\n\\n\\n\\n\\n\\n\\n\\n\\n\\n\\n\\n\\n\\n\\n\\n\\n\\n\\n\\n\\n\\n\\n\\n\\n\\n\\n\\n\\n\\n\\n\\n\\n\\n\\nOur love for \\'90s fashion knows no bounds here at Who What Wear, which is why we were all ecstatic when we saw a whole host of \\'90s minimalism–inspired silhouettes and styles all over the recent runways, from column skirts and gray tailoring to relaxed straight-leg jeans, slip dresses, and boatneck silhouettes. Designers such as Proenza Schouler, Gucci, and Staud brought fresh iterations to these silhouettes. There\\'s no doubt we\\'re constantly looking back to the \\'90s runways for inspiration (Calvin Klein S/S 99 and Prada S/S 95 are some of our favorites), as they serve as good starting points when looking for the perfect pieces to add to your forever wardrobe.\\n\\nShop vintage \\'90s pieces:\\n\\n\\n\\n\\n\\n\\n\\n\\n\\n\\n\\n\\n\\n\\n\\n\\n\\n\\n\\n\\n\\n\\n\\n\\n\\n\\n\\n\\n\\n\\n\\n\\n\\n\\n\\n\\n\\n\\n\\n\\n\\n\\n\\n\\n\\n\\n\\n\\n\\n\\n\\n\\n\\n.\\n\\nJudith Jones is the associate shopping director at Who What Wear and has worked in fashion for over a decade. She specializes in shopping content and trend stories with high-affiliate impact. She shares the coolest, most desirable fashion market finds and brands for every budget. Previous to working in fashion, Judith worked as a TV host on the PBS travel show Globe Trekker (airing on Netflix and Amazon Prime) sharing her passion for travel and culture.\\n\\nMy wish list is miles long.\\n\\n\\n\\nIts ultra-viral bags are on the top of my wish list.\\n\\n\\n\\nFashion history resurrected.\\n\\n\\n\\nGet ready to bid on every look.\\n\\n\\n\\nRead our full secondhand report.\\n\\n\\n\\nIt\\'s as chic as ever.\\n\\n\\n\\nAn homage.\\n\\n\\n\\nThese boho-chic finds are guaranteed to sell out.\\n\\n\\n\\nThey won\\'t last.\\n\\n\\n\\nAn Alexander McQueen original.\\n\\n\\n\\nWho What Wear is part of Future US Inc, an international media group and leading digital publisher. Visit our corporate site.\\n\\n©\\nFuture US, Inc. Full 7th Floor, 130 West 42nd Street,\\nNew York,\\nNY 10036.\\n\\n'}, {'title': 'Vintage Summer Clothing - Retro Stage', 'url': 'https://www.retro-stage.com/collections/summer?srsltid=AfmBOooAVX0g1xYaM_-JzTbofCDnxhFejw0Y4bjmuVF7aYfPNkdvMOFf', 'content': \"Sizzle in style with Retro Stage's vintage summer clothing! Our sun-soaked pieces blend timeless charm with breezy comfort. Picnic-perfect dresses, poolside glamour, and boardwalk-ready ensembles await. Embrace the warmth of nostalgia in looks that never go out of season.\\n\\n$52.99\\n\\n\\n$38.99\\n\\n$51.99\\n\\n\\n$28.99\\n\\n$85.99\\n\\n\\n$42.99\\n\\n$68.99\\n\\n\\n$36.99\\n\\n$74.99\\n\\n\\n$37.99\\n\\n$84.99\\n\\n\\n$37.99\\n\\n$76.99\\n\\n\\n$44.99\\n\\n$81.99\\n\\n\\n$42.99\\n\\n$39.99\\n\\n\\n$23.99\\n\\n$39.99\\n\\n\\n$23.99\\n\\n$36.99\\n\\n\\n$21.99\\n\\n$80.99\\n\\n\\n$41.99\\n\\n$47.99\\n\\n\\n$26.99\", 'score': 0.826278, 'raw_content': \"Retro Stage\\n\\nLogin\\n\\n$93.99\\n\\n\\n$43.99\\n\\n$73.99\\n\\n\\n$37.99\\n\\n$52.99\\n\\n\\n$24.99\\n\\n$69.99\\n\\n\\n$36.99\\n\\n$65.99\\n\\n\\n$34.99\\n\\n$53.99\\n\\n\\n$28.99\\n\\nFeatured Products\\n\\n$51.99\\n$24.99\\n\\n$59.99\\n$32.99\\n\\n$62.99\\n$35.99\\n\\n$44.99\\n$25.99\\n\\n$57.99\\n$25.99\\n\\nVintage Swimsuits\\n\\nWhether it's a polka-dot swimdress or a geometric print two-piece, vintage swimsuits continue to make waves in modern beach scenes, offering a delightful mix of history and style.\\n\\nFeatured Products\\n\\n$89.99\\n$48.99\\n\\n$83.99\\n$48.99\\n\\n1930s Fashion\\n\\nStep into the elegance of the 1930s with our meticulously curated clothing collection. Each vintage clothing in this series captures the essence of an era defined by sophistication and glamour.\\n\\n1940s Fashion\\n\\nEmbrace the iconic style of the 1940s with our captivating clothing collection. Each piece in this series is a tribute to an era marked by resilience and vintage fashion.\\n\\n1950s Fashion\\n\\nStep into the elegance and charm of the 1950s with our exquisite vintage clothes collection. Each piece in this series is a tribute to a decade renowned for its classic silhouettes and timeless style.\\n\\n1960s Fashion\\n\\nTravel back to the revolutionary 1960s with our eclectic clothing collection. Each piece in this retro style series is a celebration of an era that redefined fashion with its bold colors, daring patterns, and innovative designs.\\n\\nVintage Accessories\\n\\nComplete your look with our curated collection of accessories, including stunning earrings, stylish petticoats, elegant necklaces, chic bags, fashionable shoes, and soft stockings. Designed to add that perfect finishing touch, our accessories offer endless ways to elevate your style effortlessly.\\n\\nVintage Hot Sale\\n\\nWhether you're a seasoned vintage enthusiast or new to retro fashion, our irresistible prices make it easy to indulge in nostalgic style. Don't miss this chance to own a piece of fashion history – shop our Vintage Hot Sale now and add some classic flair to your closet!\\n\\nShopping Bag:\\n\\nYour bag is currently empty.\\n\\nVintage Summer Clothing\\n\\n\\n\\nSizzle in style with Retro Stage's vintage summer clothing! Our sun-soaked pieces blend timeless charm with breezy comfort. Picnic-perfect dresses, poolside glamour, and boardwalk-ready ensembles await. Embrace the warmth of nostalgia in looks that never go out of season.\\n\\n$52.99\\n\\n\\n$38.99\\n\\n$51.99\\n\\n\\n$28.99\\n\\n$85.99\\n\\n\\n$42.99\\n\\n$68.99\\n\\n\\n$36.99\\n\\n$74.99\\n\\n\\n$37.99\\n\\n$84.99\\n\\n\\n$37.99\\n\\n$76.99\\n\\n\\n$44.99\\n\\n$81.99\\n\\n\\n$42.99\\n\\n$39.99\\n\\n\\n$23.99\\n\\n$39.99\\n\\n\\n$23.99\\n\\n$36.99\\n\\n\\n$21.99\\n\\n$80.99\\n\\n\\n$41.99\\n\\n$47.99\\n\\n\\n$26.99\\n\\n$87.99\\n\\n\\n$41.99\\n\\n$75.99\\n\\n\\n$40.99\\n\\n$65.99\\n\\n\\n$30.99\\n\\n$56.99\\n\\n\\n$28.99\\n\\n$59.99\\n\\n\\n$31.99\\n\\n$83.99\\n\\n\\n$48.99\\n\\n$59.99\\n\\n\\n$30.99\\n\\n$46.99\\n\\n\\n$26.99\\n\\n$85.99\\n\\n\\n$47.99\\n\\n$43.99\\n\\n\\n$21.99\\n\\n$83.99\\n\\n\\n$39.99\\n\\n$103.99\\n\\n\\n$53.99\\n\\n$61.99\\n\\n\\n$32.99\\n\\n$44.99\\n\\n\\n$24.99\\n\\n$41.99\\n\\n\\n$22.99\\n\\n$81.99\\n\\n\\n$46.99\\n\\n$72.99\\n\\n\\n$33.99\\n\\n$47.99\\n\\n\\n$23.99\\n\\n$64.99\\n\\n\\n$34.99\\n\\n$62.99\\n\\n\\n$38.99\\n\\n$46.99\\n\\n\\n$25.99\\n\\n$68.99\\n\\n\\n$38.99\\n\\n$62.99\\n\\n\\n$33.99\\n\\n$72.99\\n\\n\\n$39.99\\n\\n$64.99\\n\\n\\n$38.99\\n\\n$42.99\\n\\n\\n$23.99\\n\\n$50.99\\n\\n\\n$27.99\\n\\nShowing: \\n    1 -\\n    \\n      40\\n    \\n    of\\n    3212\\n\\nRecently Viewed Products\\n\\nSign Up For More\\n\\nGet In Touch\\n\\nShop\\n\\nNavigate\\n\\nAbout Store\\n\\nContact Us: service@retro-stage.com\\n\\n© 2017-2025 Retrostage. All rights reserved.\\n\\nwas successfully added to your shopping bag.\\n\\n\"}, {'title': 'Best Vintage Inspired Summer Outfit Ideas from Old Hollywood', 'url': 'https://classiccriticscorner.com/vintage-summer-outfits/', 'content': 'Whether you prefer dresses, shorts, palazzo pants, or swimsuits, there are vintage summer outfit ideas for everyone!\\nWhat makes an outfit look vintage 1940s and 1950s?\\nClassic pieces, and a fit that emphasizes the waist are important to get a 1940s or 1950s vintage look.\\nExamples of classic pieces that are stylish today but could look vintage are a great white blouse, high waisted trousers, a skirt that emphasizes the waist, and a classic shirt dress.', 'score': 0.818055, 'raw_content': 'Published Time: 2024-04-19T23:19:50+00:00\\nBest Vintage Inspired Summer Outfit Ideas from Old Hollywood - Classic Critics Corner\\n===============\\nSkip to content\\n\\n\\n\\nVintage Fashion by Era\\n\\n1920s Fashion\\n1930s Fashion\\n1940s Fashion\\n1950s Fashion\\n1960s Fashion\\n\\n\\n\\nClassic Movies & Old Hollywood Fashion\\n\\n“Best of” Movies Lists\\nFilm Noir\\nOld Hollywood Fashion\\nHitchcock Movies\\n\\n\\n\\nBlog\\n\\n\\n\\n Classic Critics Corner\\nExplore\\n\\nHome\\nBlog\\nAbout Us\\n\\nThe Blog\\n\\nVintage Fashion\\n1930s Fashion\\n1940s Fashion\\n1950s Fashion\\n1960s Fashion\\nClassic Movies & Old Hollywood Fashion\\nFilm Noir\\nHitchcock Blondes & Hitchcock Heroine Fashion\\nHitchcock Movies & Fashion\\n“Best of” Movies Lists\\n\\nConnect\\n\\nPinterest\\nTikTok\\n\\nApril 19, 2024 May 1, 2025 May 1, 2025Old Hollywood Fashion, 1940s Fashion, 1950s Fashion, Vintage Fashion\\nBest Vintage Inspired Summer Outfit Ideas from Old Hollywood\\nThis post may contain affiliate links\\nHow to get the Vintage Summer Outfits Aesthetic from Old Hollywood stars like Audrey Hepburn, Grace Kelly, Lana Turner and more.\\n\\nThis post is all about the Best Vintage Summer Outfit Inspiration from Old Hollywood\\nWith the warm weather in the summer time, it can be hard to find a chic outfit with some vintage vibes when all you want is to stay cool in the heat.\\nYou’ve come to the right place, because we put together some of our favorite vintage looks for the summer, inspired by style icons like Grace Kelly,Audrey Hepburn and Marilyn Monroe.\\nWhether you prefer dresses, shorts, palazzo pants, or swimsuits, there are vintage summer outfit ideas for everyone!\\nWhat makes an outfit look vintage 1940s and 1950s?\\nClassic pieces, and a fit that emphasizes the waist are important to get a 1940s or 1950s vintage look.\\nExamples of classic pieces that are stylish today but could look vintage are a great white blouse, high waisted trousers, a skirt that emphasizes the waist, and a classic shirt dress.\\nTo give the outfit even more of a vintage period vibe, period specific hair, makeup, and accessories really take it to the next level.\\nThere’s nothing like pin-curls and red lipstick to get a retro vibe!\\nVintage Clothing Outfit Inspiration: Dresses\\nFor laid back summer outfits, it’s time to put away the pencil skirts and bring out the summer dresses!\\nFeminine summer dresses are always in style.\\nPopularized during WWII for practicality, the 1940s house dress has been a classic for a long time.\\nIt has a straight or a-line skirt and often emphasizes the waist, creating that vintage look.\\nTo get even more of a vintage vibe, choose a style with fuller skirt to really get that 1950s aesthetic.\\nPair your summer dress with some sandals or a pair of espadrilles to make it feel casual, or with heels to dress it up.\\n\\nTake summer style inspiration from Old Hollywood actresses Lana Turner and Marilyn Monroe and wear a simple, classy shirtdress.\\nMarilyn Monroe wears a simple black sleeveless shirtdress (right) and Lana Turner wears a white hot short-sleeved shirtdress in the film noir The Postman Always Rings Twice.(left)\\nThe good news is that both of these outfits would look just as stylish today.\\nVintage Summer Outfits Inspiration: Shorts\\nIf shorts are your favorite summer go-to outfit, but you’re not sure how to make them feel chic and put together, you’ve come to the right place.\\nNext time you reach for that pair of shorts, take inspiration from Old Hollywood Fashion and make them a pair of high waist shorts.\\nHiking up the waist on everything generally makes it more flattering and feminine, plus it’s key to getting that vintage look.\\nVintage Summer Outfits:High-waisted Shorts with a White Blouse\\nLana Turner and Anita Eckberg wear pair their high-waisted shorts with a white blouse.\\nWhether you wear a more bermuda style short like Lana Turner, or a super short shorts like Anita Eckberg, pairing it with a white blouse makes it feel both classy and casual the same time.\\nThere’s a reason the white blouse is still a style classic!\\nFor other feminine white blouse outfit inspiration you might like:\\nHow to Dress Feminine | Vintage Elegant Style and Classic Outfits\\n\\nVintage summer outfits:Shorts with Knitwear\\nAnother chic and simple shorts combination is to combine shorts with knitwear like 50s style icons Ava Gardner and Marilyn Monroe.\\nAva Gardner pairs a sweater tee with short shorts. (bottom left)\\nMarilyn Monroe pairs a turtleneck with shorts and sandals.(bottom right)\\nIf you want a sexier 50’s vibe, you could also wear a bullet bra under your sweater like Marilyn Monroe.\\nFor more on the 50s bullet bra trend:\\nVintage 1950s Bullet Bras – Behind the Bizarre Trend\\n\\nVintage summer outfit inspiration: Palazzo pants\\nHigh-waisted palazzo pants are chic and feminine.\\nPlus they are loose and comfortable when it’s so hot out that you don’t want anything sticking to your skin.\\nBelow, Ginger Rogers pairs her palazzo pants with a white blouse, (yep, there’s the classic white blouse again) and with knitwear, in this case a short-sleeved knit tee.\\n\\nVintage summer outfit inspiration: Tied-up Blouse\\nLooking to add a more casual vibe to your outfit with your blouse?\\nTake inspiration from Audrey Hepburn and Ava Gardner and tie up your blouse.\\nIt emphasizes the waist in a casual way without needing a belt or tucking in the blouse.\\nIt also works whether paired with a skirt like Audrey Hepburn, (bottom left) or a casual pair of pants like Ava Gardner. (bottom right)\\n\\nVintage summer clothes inspiration: Swimsuits\\nNothing screams summer like a good swimsuit.\\nPerfect for hot lazy days of lounging by the pool.\\nVintage swimsuits came in either one piece or two-piece, similar to today, but with some differences.\\n1940s style two-piece swimsuits had a high-waisted bottom, with a full coverage bra top, and looked very similar to a one-piece suit but with a little slice cut out of the middle.\\nOne piece swimsuits could have little skirts, be wrap style, and were usually super figure-flattering.\\nTo play up the vintage style of your summer look, take inspiration from Marilyn Monroe, Gene Tierney and Grace Kelly and select swim styles that are high waisted or have small skirts.\\n\\nAbove, Marilyn Monroe and Gene Tierney wear vintage style two-piece bathing suits.\\nThink that one piece swimsuits are boring?\\nCheck out how chic Grace Kelly is in her one-piece bathing suits during the filming of To Catch a Thief. (below images)\\n\\nHer simple black swimsuit on the left could easily be worn today, and her adorable yellow swimsuit with the little skirt will play up the vintage look.\\nLove the vintage swimwear aesthetic?\\nOther posts you might like:\\n1930s Swimsuits: Vintage Swimwear & Bathing Styles\\nHow to Rock the Vintage Swimwear Aesthetic Like an Old Hollywood Glam Star\\nThe Golden Age of the Pinup – Pin-Up Girl History and Style\\n7 Sexy Vintage Head Scarf Styles – Inspiring Retro 1940s and 1950s Head Scarf Outfits\\nThis post was all about best vintage summer outfit inspiration\\nWhich summer outfit is your favorite?\\nPost Tags: #Anita Eckberg#Audrey Hepburn#Ava Gardner#Gene Tierney#Ginger Rogers#Grace Kelly#Lana Turner#Marilyn Monroe#Old Hollywood Fashion 1\\nPost navigation\\nPrevious Gene Tierney in Laura 1944 – Film Summary and 1940s Fashion\\nNext 1940s Movies List By Genre – From Westerns to Comedies\\nYou’ll Also Love\\n\\nGrace Kelly | 1950s Fashion | Old Hollywood Fashion | Vintage Fashion\\nGrace Kelly Espadrilles – 5 Classy Ways to Wear the Classic Shoe\\n\\n1930s Fashion | Old Hollywood Fashion | Vintage Fashion\\n1930s Swimsuits: Vintage Swimwear & Bathing Styles\\n\\nMarilyn Monroe | 1940s Fashion | 1950s Fashion | 1960s Fashion | Old Hollywood Fashion | Vintage Fashion\\n33 Bombshell Marilyn Monroe Sweater Outfits from the 1940s – 1960s\\n\\nGene Tierney | 1940s Fashion | Classic Movies | Film Noir | Old Hollywood Fashion | Vintage Fashion\\nGene Tierney in Laura 1944 – Film Summary and 1940s Fashion\\n\\nAudrey Hepburn | 1960s Fashion | Classic Movies | Old Hollywood Fashion | Vintage Fashion\\nAudrey Hepburn Paris When it Sizzles – Her Sizzling 1960s Fashion\\n\\n1930s Fashion | Old Hollywood Fashion | Vintage Fashion\\nInsanely Glam 1930’s Gowns worn by Old Hollywood | 1930s Evening Dresses\\n\\nGrace Kelly | 1950s Fashion | Old Hollywood Fashion | Vintage Fashion\\nGrace Kelly Espadrilles – 5 Classy Ways to Wear the Classic Shoe\\n\\n1930s Fashion | Old Hollywood Fashion | Vintage Fashion\\n1930s Swimsuits: Vintage Swimwear & Bathing Styles\\n\\nMarilyn Monroe | 1940s Fashion | 1950s Fashion | 1960s Fashion | Old Hollywood Fashion | Vintage Fashion\\n33 Bombshell Marilyn Monroe Sweater Outfits from the 1940s – 1960s\\n\\nGene Tierney | 1940s Fashion | Classic Movies | Film Noir | Old Hollywood Fashion | Vintage Fashion\\nGene Tierney in Laura 1944 – Film Summary and 1940s Fashion\\n\\nAudrey Hepburn | 1960s Fashion | Classic Movies | Old Hollywood Fashion | Vintage Fashion\\nAudrey Hepburn Paris When it Sizzles – Her Sizzling 1960s Fashion\\n\\n1930s Fashion | Old Hollywood Fashion | Vintage Fashion\\nInsanely Glam 1930’s Gowns worn by Old Hollywood | 1930s Evening Dresses\\n\\nGrace Kelly | 1950s Fashion | Old Hollywood Fashion | Vintage Fashion\\nGrace Kelly Espadrilles – 5 Classy Ways to Wear the Classic Shoe\\n\\n1930s Fashion | Old Hollywood Fashion | Vintage Fashion\\n1930s Swimsuits: Vintage Swimwear & Bathing Styles\\n\\nMarilyn Monroe | 1940s Fashion | 1950s Fashion | 1960s Fashion | Old Hollywood Fashion | Vintage Fashion\\n33 Bombshell Marilyn Monroe Sweater Outfits from the 1940s – 1960s\\n\\nGene Tierney | 1940s Fashion | Classic Movies | Film Noir | Old Hollywood Fashion | Vintage Fashion\\nGene Tierney in Laura 1944 – Film Summary and 1940s Fashion\\n\\nAudrey Hepburn | 1960s Fashion | Classic Movies | Old Hollywood Fashion | Vintage Fashion\\nAudrey Hepburn Paris When it Sizzles – Her Sizzling 1960s Fashion\\n\\n1930s Fashion | Old Hollywood Fashion | Vintage Fashion\\nInsanely Glam 1930’s Gowns worn by Old Hollywood | 1930s Evening Dresses\\n\\nWelcome to Classic Critics Corner, your escape to vintage life.\\nMore About Us\\n\\nPinterest\\nTikTok\\n\\nSubscribe to our Classic Connoisseur newsletter\\nSearch\\nWhat are you looking for?\\nSearch for: \\nStay in the loop!\\nNever miss an update with our Classic Connoisseur newsletter.\\n\\nClassic Critics Corner\\n\\nPrivacy Policy\\nGlossary\\n\\nAbout us\\nTerms & Conditions\\nPrivacy Policy\\nDisclaimer\\nAs an Amazon Associate we earn from qualifying purchases.\\nOn the blog\\n\\nVintage Fashion\\n1930s Fashion\\n1940s Fashion\\n1950s Fashion\\n1960s Fashion\\nClassic Movies & Old Hollywood Fashion\\nFilm Noir\\nHitchcock Blondes & Hitchcock Heroine Fashion\\nHitchcock Movies & Fashion\\n\\n“Best of” Movies Lists\\n\\n\\nPrivacy Policy\\n\\nGlossary\\n\\n© 2025 Classic Critics Corner\\n\\n\\nHome\\nBlog\\nAbout Us\\n\\nPinterestTikTok\\nWhat are you looking for?\\nSearch for: \\nDO NOT SELL OR SHARE MY INFORMATION'}]\n"
          ]
        }
      ],
      "source": [
        "# ✅ Tool Call 분석 및 실행\n",
        "from langchain_core.messages import AIMessage\n",
        "\n",
        "tool_mapping = {'tavily_search_results_json': web_search_tool}\n",
        "\n",
        "executed_tool_result = None\n",
        "\n",
        "if hasattr(tool_response, \"tool_calls\") and tool_response.tool_calls:\n",
        "    tool_call = tool_response.tool_calls[0]\n",
        "    tool_name = tool_call['name'] if isinstance(tool_call, dict) else tool_call.name\n",
        "    tool_args = tool_call['args'] if isinstance(tool_call, dict) else tool_call.args\n",
        "    tool_executor = tool_mapping.get(tool_name)\n",
        "\n",
        "    if tool_executor:\n",
        "        executed_tool_result = tool_executor.invoke(tool_args)\n",
        "        print(executed_tool_result)\n",
        "    else:\n",
        "        print(\"❌ 도구 이름이 일치하지 않습니다.\")\n",
        "else:\n",
        "    print(\"❌ 도구 호출 정보가 없습니다.\")"
      ]
    },
    {
      "cell_type": "code",
      "execution_count": 8,
      "id": "tFUY4T1PKxhn",
      "metadata": {
        "colab": {
          "base_uri": "https://localhost:8080/"
        },
        "id": "tFUY4T1PKxhn",
        "outputId": "205c625d-7582-4a06-e702-f0ffd6cc0f90"
      },
      "outputs": [
        {
          "name": "stdout",
          "output_type": "stream",
          "text": [
            " [...] by Pinterest\n",
            "This summer vintage outfit is absolutely charming! The loose-fitting linen pants offer ultimate comfort and breathability, perfect for those hot days. Paired with the simple white top, it creates a clean, effortless look. The addition of the wide-brimmed hat not only protects from the sun but also adds a touch of vintage elegance. It’s the ideal ensemble for a stroll through the park or a casual day out.\n",
            "Summer Vintage Outfit Inspiration [...] by Pinterest\n",
            "This summer vintage outfit is absolutely enchanting! The flowy, floral maxi dress exudes a timeless elegance, perfect for warm, sunny days. Paired with delicate sandals and minimal jewelry, it creates an effortlessly chic look. The dress’s soft fabric and vibrant pattern capture the essence of summer, making it a must-have for any vintage lover’s wardrobe.\n",
            "Summer Vintage Outfit Inspiration [...] by Pinterest\n",
            "This summer vintage outfit is absolutely charming! The high-waisted denim shorts paired with the tucked-in striped tee create a classic, retro vibe. The addition of the straw hat not only adds a touch of sun protection but also enhances the vintage feel. Complete with simple sandals or sneakers, it’s the perfect ensemble for a casual summer day out.\n",
            "Summer Vintage Outfit Inspiration [...] by Pinterest\n",
            "This summer vintage outfit is absolutely adorable! The high-waisted gingham shorts paired with the simple white crop top create a playful, retro vibe. Adding a touch of whimsy with a colorful headscarf and classic sunglasses completes the look perfectly. It’s a fun and stylish ensemble, ideal for picnics, beach outings, or any sunny day adventure.\n",
            "Summer Vintage Outfit Inspiration [...] by Pinterest\n",
            "This summer vintage outfit is absolutely stunning! The elegant midi skirt with a delicate floral print exudes timeless charm. Paired with a simple blouse and classic heels, it creates a sophisticated and feminine look. Perfect for garden parties, afternoon teas, or any special summer occasion, this ensemble is sure to turn heads.\n",
            "Summer Vintage Outfit Inspiration [...] by Pinterest\n",
            "This summer vintage outfit is absolutely chic! The wide-leg trousers paired with a fitted tank top create a stylish and comfortable look. Adding a touch of elegance with a statement belt and classic sunglasses elevates the ensemble. Perfect for brunch dates or a day of shopping, this outfit is both versatile and fashionable.\n",
            "Summer Vintage Outfit Inspiration [...] by Pinterest\n",
            "This summer vintage outfit is absolutely fabulous! The breezy, polka-dot dress exudes a playful and retro charm. Paired with simple sandals and a cute basket bag, it creates an effortlessly stylish look. Perfect for picnics, beach days, or a casual stroll, this ensemble captures the essence of summer fun.\n",
            "Summer Vintage Outfit Inspiration [...] by Pinterest\n",
            "This summer vintage outfit is absolutely delightful! The playful romper with a vintage print exudes a fun and carefree vibe. Paired with comfortable sandals or sneakers, it’s perfect for a day of exploring or relaxing outdoors. Adding a touch of whimsy with a sun hat and sunglasses completes the look.\n",
            "Summer Vintage Outfit Inspiration [...] by Pinterest\n",
            "This summer vintage outfit is absolutely gorgeous! The lace-trimmed camisole paired with high-waisted denim shorts creates a delicate and feminine look. Adding a touch of elegance with layered necklaces and strappy sandals elevates the ensemble. Perfect for summer evenings or special occasions, this outfit is both romantic and chic.\n",
            "Summer Vintage Outfit Inspiration [...] by Pinterest\n",
            "This summer vintage outfit is absolutely amazing! The bold, graphic print dress exudes a retro and confident vibe. Paired with platform sandals and statement earrings, it creates a striking and memorable look. Perfect for parties, festivals, or any event where you want to stand out, this ensemble is sure to make a statement.\n",
            "Summer Vintage Outfit Inspiration [...] by Pinterest\n",
            "This summer vintage outfit is absolutely stunning! The flowy maxi skirt paired with a simple crop top creates an effortlessly chic and bohemian look. Adding a touch of elegance with layered necklaces and strappy sandals elevates the ensemble. Perfect for beach days, summer festivals, or any occasion where you want to embrace your free-spirited style, this outfit is sure to turn heads.\n",
            "Summer Vintage Outfit Inspiration [...] by Pinterest\n",
            "This summer vintage outfit is absolutely charming! The high-waisted shorts paired with a tucked-in graphic tee create a fun and retro vibe. Adding a touch of personality with a denim jacket and sneakers completes the look perfectly. It’s a casual and stylish ensemble, ideal for concerts, casual outings, or any day you want to express your unique style.\n",
            "Summer Vintage Outfit Inspiration [...] by Pinterest\n",
            "This summer vintage outfit is absolutely fabulous! The off-the-shoulder top paired with a high-waisted skirt creates a romantic and feminine look. Adding a touch of elegance with delicate jewelry and heels elevates the ensemble. Perfect for summer dates, garden parties, or any special occasion where you want to feel beautiful and confident, this outfit is sure to impress.\n",
            "Summer Vintage Outfit Inspiration [...] by Pinterest\n",
            "This summer vintage outfit is absolutely delightful! The playful sundress with a retro print exudes a fun and carefree vibe. Paired with comfortable sandals or espadrilles, it’s perfect for a day of exploring or relaxing outdoors. Adding a touch of whimsy with a sun hat and sunglasses completes the look.\n",
            "Summer Vintage Outfit Inspiration [...] by Pinterest\n",
            "This summer vintage outfit is absolutely gorgeous! The lace-trimmed camisole paired with high-waisted denim shorts creates a delicate and feminine look. Adding a touch of elegance with layered necklaces and strappy sandals elevates the ensemble. Perfect for summer evenings or special occasions, this outfit is both romantic and chic.\n",
            "Summer Vintage Outfit Inspiration [...] by Pinterest\n",
            "This summer vintage outfit is absolutely amazing! The bold, graphic print dress exudes a retro and confident vibe. Paired with platform sandals and statement earrings, it creates a striking and memorable look. Perfect for parties, festivals, or any event where you want to stand out, this ensemble is sure to make a statement.\n",
            "Summer Vintage Outfit Inspiration [...] by Pinterest\n",
            "This summer vintage outfit is absolutely stunning! The flowy maxi skirt paired with a simple crop top creates an effortlessly chic and bohemian look. Adding a touch of elegance with layered necklaces and strappy sandals elevates the ensemble. Perfect for beach days, summer festivals, or any occasion where you want to embrace your free-spirited style, this outfit is sure to turn heads.\n",
            "Summer Vintage Outfit Inspiration [...] by Pinterest\n",
            "This summer vintage outfit is absolutely charming! The high-waisted shorts paired with a tucked-in graphic tee create a fun and retro vibe. Adding a touch of personality with a denim jacket and sneakers completes the look perfectly. It’s a casual and stylish ensemble, ideal for concerts, casual outings, or any day you want to express your unique style.\n",
            "Summer Vintage Outfit Inspiration [...] by Pinterest\n",
            "This summer vintage outfit is absolutely fabulous! The off-the-shoulder top paired with a high-waisted skirt creates a romantic and feminine look. Adding a touch of elegance with delicate jewelry and heels elevates the ensemble. Perfect for summer dates, garden parties, or any special occasion where you want to feel beautiful and confident, this outfit is sure to impress.\n",
            "Summer Vintage Outfit Inspiration [...] by Pinterest\n",
            "This summer vintage outfit is absolutely delightful! The playful sundress with a retro print exudes a fun and carefree vibe. Paired with comfortable sandals or espadrilles, it’s perfect for a day of exploring or relaxing outdoors. Adding a touch of whimsy with a sun hat and sunglasses completes the look.\n",
            "Summer Vintage Outfit Inspiration [...] by Pinterest\n",
            "This summer vintage outfit is absolutely gorgeous! The lace-trimmed camisole paired with high-waisted denim shorts creates a delicate and feminine look. Adding a touch of elegance with layered necklaces and strappy sandals elevates the ensemble. Perfect for summer evenings or special occasions, this outfit is both romantic and chic.\n",
            "Summer Vintage Outfit Inspiration [...] by Pinterest\n",
            "This summer vintage outfit is absolutely amazing! The bold, graphic print dress exudes a retro and confident vibe. Paired with platform sandals and statement earrings, it creates a striking and memorable look. Perfect for parties, festivals, or any event where you want to stand out, this ensemble is sure to make a statement.\n",
            "Summer Vintage Outfit Inspiration [...] by Pinterest\n",
            "This summer vintage outfit is absolutely stunning! The flowy maxi skirt paired with a simple crop top creates an effortlessly chic and bohemian look. Adding a touch of elegance with layered necklaces and strappy sandals elevates the ensemble. Perfect for beach days, summer festivals, or any occasion where you want to embrace your free-spirited style, this outfit is sure to turn heads.\n",
            "Summer Vintage Outfit Inspiration [...] by Pinterest\n",
            "This summer vintage outfit is absolutely charming! The high-waisted shorts paired with a tucked-in graphic tee create a fun and retro vibe. Adding a touch of personality with a denim jacket and sneakers completes the look perfectly. It’s a casual and stylish ensemble, ideal for concerts, casual outings, or any day you want to express your unique style.\n",
            "Summer Vintage Outfit Inspiration [...] by Pinterest\n",
            "This summer vintage outfit is absolutely fabulous! The off-the-shoulder top paired with a high-waisted skirt creates a romantic and feminine look. Adding a touch of elegance with delicate jewelry and heels elevates the ensemble. Perfect for summer dates, garden parties, or any special occasion where you want to feel beautiful and confident, this outfit is sure to impress.\n",
            "Summer Vintage Outfit Inspiration [...] by Pinterest\n",
            "This summer vintage outfit is absolutely delightful! The playful sundress with a retro print exudes a fun and carefree vibe. Paired with comfortable sandals or espadrilles, it’s perfect for a day of exploring or relaxing outdoors. Adding a touch of whimsy with a sun hat and sunglasses completes the look.\n",
            "Summer Vintage Outfit Inspiration [...] by Pinterest\n",
            "This summer vintage outfit is absolutely gorgeous! The lace-trimmed camisole paired with high-waisted denim shorts creates a delicate and feminine look. Adding a touch of elegance with layered necklaces and strappy sandals elevates the ensemble. Perfect for summer evenings or special occasions, this outfit is both romantic and chic.\n",
            "Summer Vintage Outfit Inspiration [...] by Pinterest\n",
            "This summer vintage outfit is absolutely amazing! The bold, graphic print dress exudes a retro and confident vibe. Paired with platform sandals and statement earrings, it creates a striking and memorable look. Perfect for parties, festivals, or any event where you want to stand out, this ensemble is sure to make a statement.\n",
            "Summer Vintage Outfit Inspiration [...] by Pinterest\n",
            "This summer vintage outfit is absolutely stunning! The flowy maxi skirt paired with a simple crop top creates an effortlessly chic and bohemian look. Adding a touch of elegance with layered necklaces and strappy sandals elevates the ensemble. Perfect for beach days, summer festivals, or any occasion where you want to embrace your free-spirited style, this outfit is sure to turn heads.\n",
            "Summer Vintage Outfit Inspiration [...] by Pinterest\n",
            "This summer vintage outfit is absolutely charming! The high-waisted shorts paired with a tucked-in graphic tee create a fun and retro vibe. Adding a touch of personality with a denim jacket and sneakers completes the look perfectly. It’s a casual and stylish ensemble, ideal for concerts, casual outings, or any day you want to express your unique style.\n",
            "Summer Vintage Outfit Inspiration [...] by Pinterest\n",
            "This summer vintage outfit is absolutely fabulous! The off-the-shoulder top paired with a high-waisted skirt creates a romantic and feminine look. Adding a touch of elegance with delicate jewelry and heels elevates the ensemble. Perfect for summer dates, garden parties, or any special occasion where you want to feel beautiful and confident, this outfit is sure to impress.\n",
            "Summer Vintage Outfit Inspiration [...] by Pinterest\n",
            "This summer vintage outfit is absolutely delightful! The playful sundress with a retro print exudes a fun and carefree vibe. Paired with comfortable sandals or espadrilles, it’s perfect for a day of exploring or relaxing outdoors. Adding a touch of whimsy with a sun hat and sunglasses completes the look.\n",
            "Summer Vintage Outfit Inspiration [...] by Pinterest\n",
            "This summer vintage outfit is absolutely gorgeous! The lace-trimmed camisole paired with high-waisted denim shorts creates a delicate and feminine look. Adding a touch of elegance with layered necklaces and strappy sandals elevates the ensemble. Perfect for summer evenings or special occasions, this outfit is both romantic and chic.\n",
            "Summer Vintage Outfit Inspiration [...] by Pinterest\n",
            "This summer vintage outfit is absolutely amazing! The bold, graphic print dress exudes a retro and confident vibe. Paired with platform sandals and statement earrings, it creates a striking and memorable look. Perfect for parties, festivals, or any event where you want to stand out, this ensemble is sure to make a statement.\n",
            "Summer Vintage Outfit Inspiration [...] by Pinterest\n",
            "This summer vintage outfit is absolutely stunning! The flowy maxi skirt paired with a simple crop top creates an effortlessly chic and bohemian look. Adding a touch of elegance with layered necklaces and strappy sandals elevates the ensemble. Perfect for beach days, summer festivals, or any occasion where you want to embrace your free-spirited style, this outfit is sure to turn heads.\n",
            "Summer Vintage Outfit Inspiration [...] by Pinterest\n",
            "This summer vintage outfit is absolutely charming! The high-waisted shorts paired with a tucked-in graphic tee create a fun and retro vibe. Adding a touch of personality with a denim jacket and sneakers completes the look perfectly. It’s a casual and stylish ensemble, ideal for concerts, casual outings, or any day you want to express your unique style.\n",
            "Summer Vintage Outfit Inspiration [...] by Pinterest\n",
            "This summer vintage outfit is absolutely fabulous! The off-the-shoulder top paired with a high-waisted skirt creates a romantic and feminine look. Adding a touch of elegance with delicate jewelry and heels elevates the ensemble. Perfect for summer dates, garden parties, or any special occasion where you want to feel beautiful and confident, this outfit is sure to impress.\n",
            "Summer Vintage Outfit Inspiration [...] by Pinterest\n",
            "This summer vintage outfit is absolutely delightful! The playful sundress with a retro print exudes a fun and carefree vibe. Paired with comfortable sandals or espadrilles, it’s perfect for a day of exploring or relaxing outdoors. Adding a touch of whimsy with a sun hat and sunglasses completes the look.\n",
            "Summer Vintage Outfit Inspiration [...] by Pinterest\n",
            "This summer vintage outfit is absolutely gorgeous! The lace-trimmed camisole paired with high-waisted denim shorts creates a delicate and feminine look. Adding a touch of elegance with layered necklaces and strappy sandals elevates the ensemble. Perfect for summer evenings or special occasions, this outfit is both romantic and chic.\n",
            "Summer Vintage Outfit Inspiration [...] by Pinterest\n",
            "This summer vintage outfit is absolutely amazing! The bold, graphic print dress exudes a retro and confident vibe. Paired with platform sandals and statement earrings, it creates a striking and memorable look. Perfect for parties, festivals, or any event where you want to stand out, this ensemble is sure to make a statement.\n",
            "Summer Vintage Outfit Inspiration [...] by Pinterest\n",
            "This summer vintage outfit is absolutely stunning! The flowy maxi skirt paired with a simple crop top creates an effortlessly chic and bohemian look. Adding a touch of elegance with layered necklaces and strappy sandals elevates the ensemble. Perfect for beach days, summer festivals, or any occasion where you want to embrace your free-spirited style, this outfit is sure to turn heads.\n",
            "Summer Vintage Outfit Inspiration [...] by Pinterest\n",
            "This summer vintage outfit is absolutely charming! The high-waisted shorts paired with a tucked-in graphic tee create a fun and retro vibe. Adding a touch of personality with a denim jacket and sneakers completes the look perfectly. It’s a casual and stylish ensemble, ideal for concerts, casual outings, or any day you want to express your unique style.\n",
            "Summer Vintage Outfit Inspiration [...] by Pinterest\n",
            "This summer vintage outfit is absolutely fabulous! The off-the-shoulder top paired with a high-waisted skirt creates a romantic and feminine look. Adding a touch of elegance with delicate jewelry and heels elevates the ensemble. Perfect for summer dates, garden parties, or any special occasion where you want to feel beautiful and confident, this outfit is sure to impress.\n",
            "Summer Vintage Outfit Inspiration [...] by Pinterest\n",
            "This summer vintage outfit is absolutely delightful! The playful sundress with a retro print exudes a fun and carefree vibe. Paired with comfortable sandals or espadrilles, it’s perfect for a day of exploring or relaxing outdoors. Adding a touch of whimsy with a sun hat and sunglasses completes the look.\n",
            "Summer Vintage Outfit Inspiration [...] by Pinterest\n",
            "This summer vintage outfit is absolutely gorgeous! The lace-trimmed camisole paired with high-waisted denim shorts creates a delicate and feminine look. Adding a touch of elegance with layered necklaces and strappy sandals elevates the ensemble. Perfect for summer evenings or special occasions, this outfit is both romantic and chic.\n",
            "Summer Vintage Outfit Inspiration [...] by Pinterest\n",
            "This summer vintage outfit is absolutely amazing! The bold, graphic print dress exudes a retro and confident vibe. Paired with platform sandals and statement earrings, it creates a striking and memorable look. Perfect for parties, festivals, or any event where you want to stand out, this ensemble is sure to make a statement.\n",
            "Summer Vintage Outfit Inspiration [...] by Pinterest\n",
            "This summer vintage outfit is absolutely stunning! The flowy maxi skirt paired with a simple crop top creates an effortlessly chic and bohemian look. Adding a touch of elegance with layered necklaces and strappy sandals elevates the ensemble. Perfect for beach days, summer festivals, or any occasion where you want to embrace your free-spirited style, this outfit is sure to turn heads.\n",
            "Summer Vintage Outfit Inspiration [...] by Pinterest\n",
            "This summer vintage outfit is absolutely charming! The high-waisted shorts paired with a tucked-in graphic tee create a fun and retro vibe. Adding a touch of personality with a denim jacket and sneakers completes the look perfectly. It’s a casual and stylish ensemble, ideal for concerts, casual outings, or any day you want to express your unique style.\n",
            "Summer Vintage Outfit Inspiration [...] by Pinterest\n",
            "This summer vintage outfit is absolutely fabulous! The off-the-shoulder top paired with a high-waisted skirt creates a romantic and feminine look. Adding a touch of elegance with delicate jewelry and heels elevates the ensemble. Perfect for summer dates, garden parties, or any special occasion where you want to feel beautiful and confident, this outfit is sure to impress.\n",
            "Summer Vintage Outfit Inspiration [...] by Pinterest\n",
            "This summer vintage outfit is absolutely delightful! The playful sundress with a retro print exudes a fun and carefree vibe. Paired with comfortable sandals or espadrilles, it’s perfect for a day of exploring or relaxing outdoors. Adding a touch of whimsy with a sun hat and sunglasses completes the look.\n",
            "Summer Vintage Outfit Inspiration [...] by Pinterest\n",
            "This summer vintage outfit is absolutely gorgeous! The lace-trimmed camisole paired with high-waisted denim shorts creates a delicate and feminine look. Adding a touch of elegance with layered necklaces and strappy sandals elevates the ensemble. Perfect for summer evenings or special occasions, this outfit is both romantic and chic.\n",
            "Summer Vintage Outfit Inspiration [...] by Pinterest\n",
            "This summer vintage outfit is absolutely amazing! The bold, graphic print dress exudes a retro and confident vibe. Paired with platform sandals and statement earrings, it creates a striking and memorable look. Perfect for parties, festivals, or any event where you want to stand out, this ensemble is sure to make a statement.\n",
            "Summer Vintage Outfit Inspiration [...] by Pinterest\n",
            "This summer vintage outfit is absolutely stunning! The flowy maxi skirt paired with a simple crop top creates an effortlessly chic and bohemian look. Adding a touch of elegance with layered necklaces and strappy sandals elevates the ensemble. Perfect for beach days, summer festivals, or any occasion where you want to embrace your free-spirited style, this outfit is sure to turn heads.\n",
            "Summer Vintage Outfit Inspiration [...] by Pinterest\n",
            "This summer vintage outfit is absolutely charming! The high-waisted shorts paired with a tucked-in graphic tee create a fun and retro vibe. Adding a touch of personality with a denim jacket and sneakers completes the look perfectly. It’s a casual and stylish ensemble, ideal for concerts, casual outings, or any day you want to express your unique style.\n",
            "Summer Vintage Outfit Inspiration [...] by Pinterest\n",
            "This summer vintage outfit is absolutely fabulous! The off-the-shoulder top paired with a high-waisted skirt creates a romantic and feminine look. Adding a touch of elegance with delicate jewelry and heels elevates the ensemble. Perfect for summer dates, garden parties, or any special occasion where you want to feel beautiful and confident, this outfit is sure to impress.\n",
            "Summer Vintage Outfit Inspiration [...] by Pinterest\n",
            "This summer vintage outfit is absolutely delightful! The playful sundress with a retro print exudes a fun and carefree vibe. Paired with comfortable sandals or espadrilles, it’s perfect for a day of exploring or relaxing outdoors. Adding a touch of whimsy with a sun hat and sunglasses completes the look.\n",
            "Summer Vintage Outfit Inspiration [...] by Pinterest\n",
            "This summer vintage outfit is absolutely gorgeous! The lace-trimmed camisole paired with high-waisted denim shorts creates a delicate and feminine look. Adding a touch of elegance with layered necklaces and strappy sandals elevates the ensemble. Perfect for summer evenings or special occasions, this outfit is both romantic and chic.\n",
            "Summer Vintage Outfit Inspiration [...] by Pinterest\n",
            "This summer vintage outfit is absolutely amazing! The bold, graphic print dress exudes a retro and confident vibe. Paired with platform sandals and statement earrings, it creates a striking and memorable look. Perfect for parties, festivals, or any event where you want to stand out, this ensemble is sure to make a statement.\n",
            "Summer Vintage Outfit Inspiration [...] by Pinterest\n",
            "This summer vintage outfit is absolutely stunning! The flowy maxi skirt paired with a simple crop top creates an effortlessly chic and bohemian look. Adding a touch of elegance with layered necklaces and strappy sandals elevates the ensemble. Perfect for beach days, summer festivals, or any occasion where you want to embrace your free-spirited style, this outfit is sure to turn heads.\n",
            "Summer Vintage Outfit Inspiration [...] by Pinterest\n",
            "This summer vintage outfit is absolutely charming! The high-waisted shorts paired with a tucked-in graphic tee create a fun and retro vibe. Adding a touch of personality with a denim jacket and sneakers completes the look perfectly. It’s a casual and stylish ensemble, ideal for concerts, casual outings, or any day you want to express your unique style.\n",
            "Summer Vintage Outfit Inspiration [...] by Pinterest\n",
            "This summer vintage outfit is absolutely fabulous! The off-the-shoulder top paired with a high-waisted skirt creates a romantic and feminine look. Adding a touch of elegance with delicate jewelry and heels elevates the ensemble. Perfect for summer dates, garden parties, or any special occasion where you want to feel beautiful and confident, this outfit is sure to impress.\n",
            "Summer Vintage Outfit Inspiration [...] by Pinterest\n",
            "This summer vintage outfit is absolutely delightful! The playful sundress with a retro print exudes a fun and carefree vibe. Paired with comfortable sandals or espadrilles, it’s perfect for a day of exploring or relaxing outdoors. Adding a touch of whimsy with a sun hat and sunglasses completes the look.\n",
            "Summer Vintage Outfit Inspiration [...] by Pinterest\n",
            "This summer vintage outfit is absolutely gorgeous! The lace-trimmed camisole paired with high-waisted denim shorts creates a delicate and feminine look. Adding a touch of elegance with layered necklaces and strappy sandals elevates the ensemble. Perfect for summer evenings or special occasions, this outfit is both romantic and chic.\n",
            "Summer Vintage Outfit Inspiration [...] by Pinterest\n",
            "This summer vintage outfit is absolutely amazing! The bold, graphic print dress exudes a retro and confident vibe. Paired with platform sandals and statement earrings, it creates a striking and memorable look. Perfect for parties, festivals, or any event where you want to stand out, this ensemble is sure to make a statement.\n",
            "Summer Vintage Outfit Inspiration [...] by Pinterest\n",
            "This summer vintage outfit is absolutely stunning! The flowy maxi skirt paired with a simple crop top creates an effortlessly chic and bohemian look. Adding a touch of elegance with layered necklaces and strappy sandals elevates the ensemble. Perfect for beach days, summer festivals, or any occasion where you want to embrace your free-spirited style, this outfit is sure to turn heads.\n",
            "Summer Vintage Outfit Inspiration [...] by Pinterest\n",
            "This summer vintage outfit is absolutely charming! The high-waisted shorts paired with a tucked-in graphic tee create a fun and retro vibe. Adding a touch of personality with a denim jacket and sneakers completes the look perfectly. It’s a casual and stylish ensemble, ideal for concerts, casual outings, or any day you want to express your unique style.\n",
            "Summer Vintage Outfit Inspiration [...] by Pinterest\n",
            "This summer vintage outfit is absolutely fabulous! The off-the-shoulder top paired with a high-waisted skirt creates a romantic and feminine look. Adding a touch of elegance with delicate jewelry and heels elevates the ensemble. Perfect for summer dates, garden parties, or any special occasion where you want to feel beautiful and confident, this outfit is sure to impress.\n",
            "Summer Vintage Outfit Inspiration [...] by Pinterest\n",
            "This summer vintage outfit is absolutely delightful! The playful sundress with a retro print exudes a fun and carefree vibe. Paired with comfortable sandals or espadrilles, it’s perfect for a day of exploring or relaxing outdoors. Adding a touch of whimsy with a sun hat and sunglasses completes the look.\n",
            "Summer Vintage Outfit Inspiration [...] by Pinterest\n",
            "This summer vintage outfit is absolutely gorgeous! The lace-trimmed camisole paired with high-waisted denim shorts creates a delicate and feminine look. Adding a touch of elegance with layered necklaces and strappy sandals elevates the ensemble. Perfect for summer evenings or special occasions, this outfit is both romantic and chic.\n",
            "Summer Vintage Outfit Inspiration [...] by Pinterest\n",
            "This summer vintage outfit is absolutely amazing! The bold, graphic print dress exudes a retro and confident vibe. Paired with platform sandals and statement earrings, it creates a striking and memorable look. Perfect for parties, festivals, or any event where you want to stand out, this ensemble is sure to make a statement.\n",
            "Summer Vintage Outfit Inspiration [...] by Pinterest\n",
            "This summer vintage outfit is absolutely stunning! The flowy maxi skirt paired with a simple crop top creates an effortlessly chic and bohemian look. Adding a touch of elegance with layered necklaces and strappy sandals elevates the ensemble. Perfect for beach days, summer festivals, or any occasion where you want to embrace your free-spirited style, this outfit is sure to turn heads.\n",
            "Summer Vintage Outfit Inspiration [...] by Pinterest\n",
            "This summer vintage outfit is absolutely charming! The high-waisted shorts paired with a tucked-in graphic tee create a fun and retro vibe. Adding a touch of personality with a denim jacket and sneakers completes the look perfectly. It’s a casual and stylish ensemble, ideal for concerts, casual outings, or any day you want to express your unique style.\n",
            "Summer Vintage Outfit Inspiration [...] by Pinterest\n",
            "This summer vintage outfit is absolutely fabulous! The off-the-shoulder top paired with a high-waisted skirt creates a romantic and feminine look. Adding a touch of elegance with delicate jewelry and heels elevates the ensemble. Perfect for summer dates, garden parties, or any special occasion where you want to feel beautiful and confident, this outfit is sure to impress.\n",
            "Summer Vintage Outfit Inspiration [...] by Pinterest\n",
            "This summer vintage outfit is absolutely delightful! The playful sundress with a retro print exudes a fun and carefree vibe. Paired with comfortable sandals or espadrilles, it’s perfect for a day of exploring or relaxing outdoors. Adding a touch of whimsy with a sun hat and sunglasses completes the look.\n",
            "Summer Vintage Outfit Inspiration [...] by Pinterest\n",
            "This summer vintage outfit is absolutely gorgeous! The lace-trimmed camisole paired with high-waisted denim shorts creates a delicate and feminine look. Adding a touch of elegance with layered necklaces and strappy sandals elevates the ensemble. Perfect for summer evenings or special occasions, this outfit is both romantic and chic.\n",
            "Summer Vintage Outfit Inspiration [...] by Pinterest\n",
            "This summer vintage outfit is absolutely amazing! The bold, graphic print dress exudes a retro and confident vibe. Paired with platform sandals and statement earrings, it creates a striking and memorable look. Perfect for parties, festivals, or any event where you want to stand out, this ensemble is sure to make a statement.\n",
            "Summer Vintage Outfit Inspiration [...] by Pinterest\n",
            "This summer vintage outfit is absolutely stunning! The flowy maxi skirt paired with a simple crop top creates an effortlessly chic and bohemian look. Adding a touch of elegance with layered necklaces and strappy sandals elevates the ensemble. Perfect for beach days, summer festivals, or any occasion where you want to embrace your free-spirited style, this outfit is sure to turn heads.\n",
            "Summer Vintage Outfit Inspiration [...] by Pinterest\n",
            "This summer vintage outfit is absolutely charming! The high-waisted shorts paired with a tucked-in graphic tee create a fun and retro vibe. Adding a touch of personality with a denim jacket and sneakers completes the look perfectly. It’s a casual and stylish ensemble, ideal for concerts, casual outings, or any day you want to express your unique style.\n",
            "Summer Vintage Outfit Inspiration [...] by Pinterest\n",
            "This summer vintage outfit is absolutely fabulous! The off-the-shoulder top paired with a high-waisted skirt creates a romantic and feminine look. Adding a touch of elegance with delicate jewelry and heels elevates the ensemble. Perfect for summer dates, garden parties, or any special occasion where you want to feel beautiful and confident, this outfit is sure to impress.\n",
            "Summer Vintage Outfit Inspiration [...] by Pinterest\n",
            "This summer vintage outfit is absolutely delightful! The playful sundress with a retro print exudes a fun and carefree vibe. Paired with comfortable sandals or espadrilles, it’s perfect for a day of exploring or relaxing outdoors. Adding a touch of whimsy with a sun hat and sunglasses completes the look.\n",
            "Summer Vintage Outfit Inspiration [...] by Pinterest\n",
            "This summer vintage outfit is absolutely gorgeous! The lace-trimmed camisole paired with high-waisted denim shorts creates a delicate and feminine look. Adding a touch of elegance with layered necklaces and strappy sandals elevates the ensemble. Perfect for summer evenings or special occasions, this outfit is both romantic and chic.\n",
            "Summer Vintage Outfit Inspiration [...] by Pinterest\n",
            "This summer vintage outfit is absolutely amazing! The bold, graphic print dress exudes a retro and confident vibe. Paired with platform sandals and statement earrings, it creates a striking and memorable look. Perfect for parties, festivals, or any event where you want to stand out, this ensemble is sure to make a statement.\n",
            "Summer Vintage Outfit Inspiration [...] by Pinterest\n",
            "This summer vintage outfit is absolutely stunning! The flowy maxi skirt paired with a simple crop top creates an effortlessly chic and bohemian look. Adding a touch of elegance with layered necklaces and strappy sandals elevates the ensemble. Perfect for beach days, summer festivals, or any occasion where you want to embrace your free-spirited style, this outfit is sure to turn heads.\n",
            "Summer Vintage Outfit Inspiration [...] by Pinterest\n",
            "This summer vintage outfit is absolutely charming! The high-waisted shorts paired with a tucked-in graphic tee create a fun and retro vibe. Adding a touch of personality with a denim jacket and sneakers completes the look perfectly. It’s a casual and stylish ensemble, ideal for concerts, casual outings, or any day you want to express your unique style.\n",
            "Summer Vintage Outfit Inspiration [...] by Pinterest\n",
            "This summer vintage outfit is absolutely fabulous! The off-the-shoulder top paired with a high-waisted skirt creates a romantic and feminine look. Adding a touch of elegance with delicate jewelry and heels elevates the ensemble. Perfect for summer dates, garden parties, or any special occasion where you want to feel beautiful and confident, this outfit is sure to impress.\n",
            "Summer Vintage Outfit Inspiration [...] by Pinterest\n",
            "This summer vintage outfit is absolutely delightful! The playful sundress with a retro print exudes a fun and carefree vibe. Paired with comfortable sandals or espadrilles, it’s perfect for a day of exploring or relaxing outdoors. Adding a touch of whimsy with a sun hat and sunglasses completes the look.\n",
            "Summer Vintage Outfit Inspiration [...] by Pinterest\n",
            "This summer vintage outfit is absolutely gorgeous! The lace-trimmed camisole paired with high-waisted denim shorts creates a delicate and feminine look. Adding a touch of elegance with layered necklaces and strappy sandals elevates the ensemble. Perfect for summer evenings or special occasions, this outfit is both romantic and chic.\n",
            "Summer Vintage Outfit Inspiration [...] by Pinterest\n",
            "This summer vintage outfit is absolutely amazing! The bold, graphic print dress exudes a retro and confident vibe. Paired with platform sandals and statement earrings, it creates a striking and memorable look. Perfect for parties, festivals, or any event where you want to stand out, this ensemble is sure to make a statement.\n",
            "Summer Vintage Outfit Inspiration [...] by Pinterest\n",
            "This summer vintage outfit is absolutely stunning! The flowy maxi skirt paired with a simple crop top creates an effortlessly chic and bohemian look. Adding a touch of elegance with layered necklaces and strappy sandals elevates the ensemble. Perfect for beach days, summer festivals, or any occasion where you want to embrace your free-spirited style, this outfit is sure to turn heads.\n",
            "Summer Vintage Outfit Inspiration [...] by Pinterest\n",
            "This summer vintage outfit is absolutely charming! The high-waisted shorts paired with a tucked-in graphic tee create a fun and retro vibe. Adding a touch of personality with a denim jacket and sneakers completes the look perfectly. It’s a casual and stylish ensemble, ideal for concerts, casual outings, or any day you want to express your unique style.\n",
            "Summer Vintage Outfit Inspiration [...] by Pinterest\n",
            "This summer vintage outfit is absolutely fabulous! The off-the-shoulder top paired with a high-waisted skirt creates a romantic and feminine look. Adding a touch of elegance with delicate jewelry and heels elevates the ensemble. Perfect for summer dates, garden parties, or any special occasion where you want to feel beautiful and confident, this outfit is sure to impress.\n",
            "Summer Vintage Outfit Inspiration [...] by Pinterest\n",
            "This summer vintage outfit is absolutely delightful! The playful sundress with a retro print exudes a fun and carefree vibe. Paired with comfortable sandals or espadrilles, it’s perfect for a day of exploring or relaxing outdoors. Adding a touch of whimsy with a sun hat and sunglasses completes the look.\n",
            "Summer Vintage Outfit Inspiration [...] by Pinterest\n",
            "This summer vintage outfit is absolutely gorgeous! The lace-trimmed camisole paired with high-waisted denim shorts creates a delicate and feminine look. Adding a touch of elegance with layered necklaces and strappy sandals elevates the ensemble. Perfect for summer evenings or special occasions, this outfit is both romantic and chic.\n",
            "Summer Vintage Outfit Inspiration [...] by Pinterest\n",
            "This summer vintage outfit is absolutely amazing! The bold, graphic print dress exudes a retro and confident vibe. Paired with platform sandals and statement earrings, it creates a striking and memorable look. Perfect for parties, festivals, or any event where you want to stand out, this ensemble is sure to make a statement.\n",
            "Summer Vintage Outfit Inspiration [...] by Pinterest\n",
            "This summer vintage outfit is absolutely stunning! The flowy maxi skirt paired with a simple crop top creates an effortlessly chic and bohemian look. Adding a touch of elegance with layered necklaces and strappy sandals elevates the ensemble. Perfect for beach days, summer festivals, or any occasion where you want to embrace your free-spirited style, this outfit is sure to turn heads.\n",
            "Summer Vintage Outfit Inspiration [...] by Pinterest\n",
            "This summer vintage outfit is absolutely charming! The high-waisted shorts paired with a tucked-in graphic tee create a fun and retro vibe. Adding a touch of personality with a denim jacket and sneakers completes the look perfectly. It’s a casual and stylish ensemble, ideal for concerts, casual outings, or any day you want to express your unique style.\n",
            "Summer Vintage Outfit Inspiration [...] by Pinterest\n",
            "This summer vintage outfit is absolutely fabulous! The off-the-shoulder top paired with a high-waisted skirt creates a romantic and feminine look. Adding a touch of elegance with delicate jewelry and heels elevates the ensemble. Perfect for summer dates, garden parties, or any special occasion where you want to feel beautiful and confident, this outfit is sure to impress.\n",
            "Summer Vintage Outfit Inspiration [...] by Pinterest\n",
            "This summer vintage outfit is absolutely delightful! The playful sundress with a retro print exudes a fun and carefree vibe. Paired with comfortable sandals or espadrilles, it’s perfect for a day of exploring or relaxing outdoors. Adding a touch of whimsy with a sun hat and sunglasses completes the look.\n",
            "Summer Vintage Outfit Inspiration [...] by Pinterest\n",
            "This summer vintage outfit is absolutely gorgeous! The lace-trimmed camisole paired with high-waisted denim shorts creates a delicate and feminine look. Adding a touch of elegance with layered necklaces and strappy sandals elevates the ensemble. Perfect for summer evenings or special occasions, this outfit is both romantic and chic.\n",
            "Summer Vintage Outfit Inspiration [...] by Pinterest\n",
            "This summer vintage outfit is absolutely amazing! The bold, graphic print dress exudes a retro and confident vibe. Paired with platform sandals and statement earrings, it creates a striking and memorable look. Perfect for parties, festivals, or any event where you want to stand out, this ensemble is sure to make a statement.\n",
            "Summer Vintage Outfit Inspiration [...] by Pinterest\n",
            "This summer vintage outfit is absolutely stunning! The flowy maxi skirt paired with a simple crop top creates an effortlessly chic and bohemian look. Adding a touch of elegance with layered necklaces and strappy sandals elevates the ensemble. Perfect for beach days, summer festivals, or any occasion where you want to embrace your free-spirited style, this outfit is sure to turn heads.\n",
            "Summer Vintage Outfit Inspiration [...] by Pinterest\n",
            "This summer vintage outfit is absolutely charming! The high-waisted shorts paired with a tucked-in graphic tee create a fun and retro vibe. Adding a touch of personality with a denim jacket and sneakers completes the look perfectly. It’s a casual and stylish ensemble, ideal for concerts, casual outings, or any day you want to express your unique style.\n",
            "Summer Vintage Outfit Inspiration [...] by Pinterest\n",
            "This summer vintage outfit is absolutely fabulous! The off-the-shoulder top paired with a high-waisted skirt creates a romantic and feminine look. Adding a touch of elegance with delicate jewelry and heels elevates the ensemble. Perfect for summer dates, garden parties, or any special occasion where you want to feel beautiful and confident, this outfit is sure to impress.\n",
            "Summer Vintage Outfit Inspiration [...] by Pinterest\n",
            "This summer vintage outfit is absolutely delightful! The playful sundress with a retro print exudes a fun and carefree vibe. Paired with comfortable sandals or espadrilles, it’s perfect for a day of exploring or relaxing outdoors. Adding a touch of whimsy with a sun hat and sunglasses completes the look.\n",
            "Summer Vintage Outfit Inspiration [...] by Pinterest\n",
            "This summer vintage outfit is absolutely gorgeous! The lace-trimmed camisole paired with high-waisted denim shorts creates a delicate and feminine look. Adding a touch of elegance with layered necklaces and strappy sandals elevates the ensemble. Perfect for summer evenings or special occasions, this outfit is both romantic and chic.\n",
            "Summer Vintage Outfit Inspiration [...] by Pinterest\n",
            "This summer vintage outfit is absolutely amazing! The bold, graphic print dress exudes a retro and confident vibe. Paired with platform sandals and statement earrings, it creates a striking and memorable look. Perfect for parties, festivals, or any event where you want to stand out, this ensemble is sure to make a statement.\n",
            "Summer Vintage Outfit Inspiration [...] by Pinterest\n",
            "This summer vintage outfit is absolutely stunning! The flowy maxi skirt paired with a simple crop top creates an effortlessly chic and bohemian look. Adding a touch of elegance with layered necklaces and strappy sandals elevates the ensemble. Perfect for beach days, summer festivals, or any occasion where you want to embrace your free-spirited style, this outfit is sure to turn heads.\n",
            "Summer Vintage Outfit Inspiration [...] by Pinterest\n",
            "This summer vintage outfit is absolutely charming! The high-waisted shorts paired with a tucked-in graphic tee\n"
          ]
        }
      ],
      "source": [
        "from langchain_core.messages import HumanMessage, AIMessage\n",
        "\n",
        "if executed_tool_result:\n",
        "    # 리스트의 첫 번째 항목을 사용\n",
        "    first_result = executed_tool_result[0] if isinstance(executed_tool_result, list) and executed_tool_result else {}\n",
        "    result_text = first_result.get(\"answer\") or first_result.get(\"content\", \"검색 결과가 없습니다.\")\n",
        "\n",
        "    conversation = [\n",
        "        HumanMessage(content=\"여름에 입을 트렌디한 빈티지 옷을 검색해줘!\"),\n",
        "        AIMessage(content=tool_response.content),\n",
        "        AIMessage(content=result_text)\n",
        "    ]\n",
        "\n",
        "    final_result = language_model_with_tools.invoke(conversation)\n",
        "    print(final_result.content)\n"
      ]
    },
    {
      "cell_type": "code",
      "execution_count": 9,
      "id": "RbdV9sRq6HT8",
      "metadata": {
        "colab": {
          "base_uri": "https://localhost:8080/"
        },
        "id": "RbdV9sRq6HT8",
        "outputId": "5d749f96-0724-400c-f486-7b87003688f9"
      },
      "outputs": [
        {
          "name": "stdout",
          "output_type": "stream",
          "text": [
            "[질문 입력]: 애플의 2024년 주요 제품은 무엇인가요?\n",
            " 2024년에 예상되는 애플의 주요 제품은 다음과 같습니다:\n",
            "\n",
            "*   아이폰 16/16 플러스 & 16 프로/울트라\n",
            "*   애플 워치 X\n",
            "*   OLED 아이패드 프로\n",
            "*   M3 맥북 에어\n",
            "*   에어팟 4세대\n",
            "*   에어팟 맥스 2세대\n"
          ]
        }
      ],
      "source": [
        "# ✅ 전체 워크플로우 함수화\n",
        "# 위 과정을 자동화하는 함수. 질문을 넣으면 알아서 판단, 검색, 응답까지 수행합니다.\n",
        "from langchain_core.messages import ToolMessage\n",
        "\n",
        "def query_with_tool_support(llm, question, tools=[web_search_tool]):\n",
        "    tool_dict = {tool.name: tool for tool in tools}  # 도구 이름으로 매핑\n",
        "    model_with_tools = llm.bind_tools(tools)         # 모델에 도구 바인딩\n",
        "\n",
        "    print(\"[질문 입력]:\", question)\n",
        "    query_message = HumanMessage(content=question)\n",
        "    response = model_with_tools.invoke([query_message])\n",
        "\n",
        "    if response.tool_calls:\n",
        "        # 도구 호출이 포함된 경우 → 실제로 실행 후 응답 생성\n",
        "        selected_tool = tool_dict[response.tool_calls[0]['name']]\n",
        "        tool_result = selected_tool.invoke(response.tool_calls[0])\n",
        "\n",
        "        full_conversation = [query_message, response, tool_result]\n",
        "        final_answer = model_with_tools.invoke(full_conversation)\n",
        "    else:\n",
        "        # 도구 없이도 답할 수 있을 경우, 바로 응답 반환\n",
        "        final_answer = response\n",
        "\n",
        "    return final_answer.content\n",
        "\n",
        "# ✅ 실행 예시\n",
        "# 질문을 함수에 넣기만 하면 AI가 알아서 판단하고 필요한 작업을 수행합니다.\n",
        "print(query_with_tool_support(language_model, \"애플의 2024년 주요 제품은 무엇인가요?\"))"
      ]
    }
  ],
  "metadata": {
    "colab": {
      "provenance": []
    },
    "kernelspec": {
      "display_name": "multicampus",
      "language": "python",
      "name": "python3"
    },
    "language_info": {
      "codemirror_mode": {
        "name": "ipython",
        "version": 3
      },
      "file_extension": ".py",
      "mimetype": "text/x-python",
      "name": "python",
      "nbconvert_exporter": "python",
      "pygments_lexer": "ipython3",
      "version": "3.11.7"
    }
  },
  "nbformat": 4,
  "nbformat_minor": 5
}
