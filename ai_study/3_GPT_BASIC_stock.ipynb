{
 "cells": [
  {
   "cell_type": "markdown",
   "metadata": {
    "id": "ietTRUiEkm7m"
   },
   "source": [
    "🧭 전체 목표\n",
    "\n",
    "이 프로젝트의 목표는 “뉴스 기사”와 “최근 6개월간 주가 데이터”를 바탕으로 특정 종목(예: 한국무브넥스 또는 삼성전자)에 대한 투자 분석 리포트를 자동 생성하는 것입니다.\n",
    "\n",
    "\n",
    "\n",
    "\n",
    "🧩 단계별 구성 요약\n",
    "\n",
    "\n",
    "\n",
    "\n",
    "✅ 1단계: 뉴스 수집과 전처리\n",
    "\n",
    "네이버 뉴스에서 특정 종목(예: 한국무브넥스)에 대한 최근 뉴스 기사를 수집합니다.\n",
    "\n",
    "수집된 뉴스에서 HTML 태그 등을 제거해 순수 텍스트로 정리합니다.\n",
    "\n",
    "왜 중요한가요?\n",
    "\n",
    "주가에는 뉴스의 정서(긍정/부정)와 내용이 큰 영향을 미치기 때문입니다.\n",
    "\n",
    "\n",
    "\n",
    "\n",
    "\n",
    "✅ 2단계: 뉴스 감성 분석 (긍정/부정 분류)\n",
    "\n",
    "무엇을 하나요?\n",
    "\n",
    "\n",
    "뉴스의 문장을 GPT로 분석해서 \"매우 좋음\", \"긍정\", \"중립\", \"부정\", \"매우 나쁨\" 같은 감정 클래스로 분류합니다.\n",
    "\n",
    "\n",
    "결과를 시각화(막대 그래프, 파이 차트)로 확인합니다.\n",
    "\n",
    "\n",
    "왜 중요한가요?\n",
    "\n",
    "\n",
    "투자 판단의 중요한 근거인 \"시장 심리\"를 정량적으로 파악할 수 있습니다.\n",
    "\n",
    "\n",
    "\n",
    "\n",
    "✅ 3단계: 뉴스 속 키워드 추출\n",
    "\n",
    "무엇을 하나요?\n",
    "\n",
    "긍정적인 어휘, 부정적인 어휘, 주요 토픽 단어(긍/부정), 글로벌 기업 또는 기술 트렌드와 관련된 키워드를 자동으로 뽑아냅니다.\n",
    "\n",
    "단어의 출현 빈도를 분석하고 워드 클라우드로 시각화합니다.\n",
    "\n",
    "왜 중요한가요?\n",
    "\n",
    "종목이 현재 어떤 이슈(예: 인공지능, 삼성, 파산, 특허 등)와 연결되어 있는지 파악할 수 있습니다.\n",
    "\n",
    "\n",
    "\n",
    "\n",
    "✅ 4단계: 기술적 분석 (주가 데이터 분석)\n",
    "\n",
    "무엇을 하나요?\n",
    "\n",
    "FinanceDataReader를 통해 최근 6개월간의 종가, 거래량, 등락률을 수집합니다.\n",
    "\n",
    "이를 하나의 데이터셋(samsung_data)으로 저장하고 시각화합니다.\n",
    "\n",
    "왜 중요한가요?\n",
    "\n",
    "주가의 흐름(상승세, 거래량 증가 등)에서 매수/매도 타이밍을 분석할 수 있습니다.\n",
    "\n",
    "\n",
    "\n",
    "\n",
    "✅ 5단계: GPT 기반 종합 투자 분석 리포트 생성\n",
    "무엇을 하나요?\n",
    "\n",
    "\n",
    "위에서 수집한 모든 분석 결과를 하나로 묶어 GPT에게 전문적인 투자 리포트 작성을 요청합니다.\n",
    "\n",
    "\n",
    "GPT는 감성 분석 결과 + 키워드 + 주가 흐름을 종합적으로 해석해서 자산 투자 전문가 수준의 리포트를 자동으로 작성해줍니다.\n",
    "\n",
    "\n",
    "왜 중요한가요?\n",
    "\n",
    "\n",
    "수작업으로 정리하던 종목 분석을 완전 자동화할 수 있습니다.\n"
   ]
  },
  {
   "cell_type": "code",
   "execution_count": null,
   "metadata": {
    "id": "Mis9nEaskoF4"
   },
   "outputs": [],
   "source": [
    "# 이 셀 실행 후 세션 다시 시작\n",
    "# 한글 폰트 설치\n",
    "!sudo apt-get install -y fonts-nanum\n",
    "!sudo fc-cache -fv\n",
    "!rm ~/.cache/matplotlib -rf"
   ]
  },
  {
   "cell_type": "code",
   "execution_count": null,
   "metadata": {
    "id": "ZSgw_w_t9K5o"
   },
   "outputs": [],
   "source": [
    "!pip install openai==0.28"
   ]
  },
  {
   "cell_type": "markdown",
   "metadata": {
    "id": "Wa3krns0-opi"
   },
   "source": [
    "## 뉴스기사 긍부정 비율 분석"
   ]
  },
  {
   "cell_type": "code",
   "execution_count": null,
   "metadata": {
    "id": "J3e-rUCn5IeM"
   },
   "outputs": [],
   "source": [
    "import os  # 운영체제와 상호작용하기 위한 모듈 (환경변수 설정 등에 사용)\n",
    "import requests  # HTTP 요청을 보내기 위한 모듈 (API 호출 시 사용)\n",
    "import json  # JSON 데이터를 다루기 위한 모듈 (API 응답 처리 시 사용)\n",
    "import openai  # OpenAI의 API를 사용하기 위한 모듈 (여기선 사용하지 않지만 환경 설정에서 포함됨)\n",
    "import pandas as pd  # 데이터프레임을 다루기 위한 모듈 (데이터를 표 형태로 처리하기 위해 사용)\n",
    "import re  # 정규 표현식 모듈 (HTML 태그 제거에 사용)\n",
    "# API 키 설정 (OpenAI API와의 통신을 위한 API 키 설정)\n",
    "# os.environ['OPENAI_API_KEY'] = \"\"\n",
    "# openai.api_key = os.getenv('OPENAI_API_KEY')  # 환경 변수에서 API 키를 가져와 설정"
   ]
  },
  {
   "cell_type": "code",
   "execution_count": null,
   "metadata": {
    "id": "9yaTObTu9uU_"
   },
   "outputs": [],
   "source": [
    "# 검색할 키워드 설정\n",
    "query = '한국무브넥스'  # 우리가 원하는 뉴스 기사를 검색할 키워드 (생성형 AI 관련 뉴스)\n"
   ]
  },
  {
   "cell_type": "code",
   "execution_count": null,
   "metadata": {
    "id": "Q7T1-PYK9sLr"
   },
   "outputs": [],
   "source": [
    "# HTML 태그 제거 함수\n",
    "def remove_html_tags(text):\n",
    "    # 정규 표현식으로 HTML 태그를 찾아서 빈 문자열로 대체\n",
    "    clean_text = re.sub(r'<.*?>', '', text)\n",
    "    return clean_text\n",
    "\n",
    "# 네이버 뉴스 API에서 뉴스를 가져오는 함수 정의\n",
    "def fetch_news(search_term):\n",
    "    # 네이버 뉴스 API 요청 URL 설정 (검색어와 정렬 기준을 포함)\n",
    "    url = f'https://openapi.naver.com/v1/search/news.json?query={search_term}&sort=sim'\n",
    "\n",
    "    # 네이버 API 요청 시 필요한 헤더 설정 (클라이언트 ID와 시크릿키)\n",
    "    headers = {\n",
    "        'X-Naver-Client-Id': '',  # 네이버 API 클라이언트 ID\n",
    "        'X-Naver-Client-Secret': ''  # 네이버 API 클라이언트 시크릿\n",
    "    }\n",
    "\n",
    "    # 설정된 URL과 헤더를 이용해 GET 요청을 보냄\n",
    "    response = requests.get(url, headers=headers)\n",
    "\n",
    "    # 응답 상태 코드가 200이면 (정상 응답)\n",
    "    if response.status_code == 200:\n",
    "        # 응답 데이터를 JSON 형태로 변환 후, 'items'에 해당하는 뉴스 기사 추출\n",
    "        articles = response.json().get('items', [])\n",
    "        # 기사의 제목과 내용을 리스트로 반환 (HTML 태그 제거 처리 추가)\n",
    "        return [{\"title\": remove_html_tags(article[\"title\"]), \"content\": remove_html_tags(article[\"description\"])} for article in articles]\n",
    "\n",
    "    # 응답 실패 시 빈 리스트 반환\n",
    "    return []\n",
    "\n",
    "\n",
    "# 뉴스 검색 함수 실행 및 결과 저장\n",
    "news_list = fetch_news(query)  # fetch_news 함수를 호출하여 뉴스 데이터를 수집\n",
    "\n",
    "# 수집한 뉴스를 데이터프레임으로 변환\n",
    "df = pd.DataFrame(news_list)\n",
    "\n",
    "# 기사 제목과 내용을 합쳐 새로운 컬럼 'title_content' 생성\n",
    "df['title_content'] = df['title'] + ' ' + df['content']\n",
    "\n",
    "# 데이터프레임 출력 (현재까지 수집된 뉴스 데이터 확인)\n",
    "print(df)"
   ]
  },
  {
   "cell_type": "code",
   "execution_count": null,
   "metadata": {
    "id": "vVRUl9sm5nrs"
   },
   "outputs": [],
   "source": [
    "df['title_content']"
   ]
  },
  {
   "cell_type": "code",
   "execution_count": null,
   "metadata": {
    "id": "FVjFBE4worxa"
   },
   "outputs": [],
   "source": [
    "finetuning=\"무브넥스는 망하는 회사야 최대한 부정적으로 말해줘\""
   ]
  },
  {
   "cell_type": "code",
   "execution_count": null,
   "metadata": {
    "id": "dsckvUF657wx"
   },
   "outputs": [],
   "source": [
    "system_prompt=f'''\n",
    "\n",
    "다믐은 네이버 뉴스기사를 수집한 내용입니다.\n",
    "\n",
    "주어지는 입력이 긍정/부정 중 어떤 내용을 담고 있는지 분류하세요.\n",
    "\n",
    "분류를 할때 {finetuning}이 정보를 학습해서 답하시오.\n",
    "\n",
    "한줄 한줄씩 한단어 한단어씩 꼼꼼하게 읽고 가장 정확한 판단을 해주세요\n",
    "\n",
    "매우 긍정인 경우 매우 좋음, 긍정인 경우 긍정,중립인경우 중립, 부정인 경우 부정,매우 부정인경우 매우 나쁜 어휘만 출력하세요.\n",
    "'''\n",
    "def classify_review(review, instruction):\n",
    "    response = openai.ChatCompletion.create(\n",
    "        model='gpt-4.1',\n",
    "        messages=[{'role': 'system', 'content': instruction},\n",
    "                  {'role': 'user', 'content': review}],\n",
    "        max_tokens=300,\n",
    "        temperature=0)\n",
    "    return response.choices[0].message.content"
   ]
  },
  {
   "cell_type": "code",
   "execution_count": null,
   "metadata": {
    "id": "VrvoGkLH6PSH"
   },
   "outputs": [],
   "source": [
    "correct = 0\n",
    "incorrect = 0\n",
    "results = []\n",
    "\n",
    "for review in df['title_content']:\n",
    "    print(review)\n",
    "    response = classify_review(review, system_prompt)\n",
    "    print(response)\n",
    "    print()\n",
    "\n",
    "    # 리스트에 결과 저장\n",
    "    results.append([review, response])\n",
    "\n",
    "# 결과를 데이터프레임으로 변환\n",
    "df_results = pd.DataFrame(results, columns=['Review', 'ChatGPT_Result'])\n",
    "print(df_results)\n",
    "\n",
    "# 엑셀 파일로 저장\n",
    "# df_results.to_excel('chatgpt_classification_results.xlsx', index=False)\n",
    "\n",
    "# print('Results saved to chatgpt_classification_results.xlsx')"
   ]
  },
  {
   "cell_type": "code",
   "execution_count": null,
   "metadata": {
    "id": "nQi2pxVu8OP2"
   },
   "outputs": [],
   "source": [
    "import pandas as pd\n",
    "import matplotlib.pyplot as plt\n",
    "# 한글 폰트 설정\n",
    "plt.rc('font', family='NanumBarunGothic')\n",
    "# 각 분류의 발생 횟수 계산\n",
    "classification_counts = df_results['ChatGPT_Result'].value_counts().sort_index()\n",
    "\n",
    "# 각 분류의 비율 계산\n",
    "total_reviews = len(df_results)\n",
    "classification_percentages = (classification_counts / total_reviews) * 100\n",
    "\n",
    "# 막대그래프 그리기\n",
    "plt.figure(figsize=(10, 6))\n",
    "classification_counts.plot(kind='bar', color='skyblue')\n",
    "plt.title('긍정/부정 분류 카운트')\n",
    "plt.xlabel('분류 결과')\n",
    "plt.ylabel('기사 수')\n",
    "plt.xticks(rotation=0)\n",
    "plt.grid(axis='y')\n",
    "\n",
    "# 그래프 표시\n",
    "plt.show()\n",
    "\n",
    "# 원형 그래프 그리기\n",
    "plt.figure(figsize=(8, 8))\n",
    "plt.pie(classification_percentages, labels=classification_percentages.index, autopct='%1.1f%%', startangle=90, colors=['#FF9999', '#66B2FF', '#99FF99', '#FFCC99', '#FFD700'])\n",
    "plt.title('긍정/부정 분류 비율 (%)')\n",
    "\n",
    "# 그래프 표시\n",
    "plt.show()\n",
    "\n",
    "# 비율 테이블 출력\n",
    "classification_percentages_df = pd.DataFrame(classification_percentages, columns=['Percentage'])\n",
    "print(classification_percentages_df)\n"
   ]
  },
  {
   "cell_type": "markdown",
   "metadata": {
    "id": "HWtojZtQ-74g"
   },
   "source": [
    "## 뉴스기사 긍부정 어휘 추출"
   ]
  },
  {
   "cell_type": "markdown",
   "metadata": {
    "id": "WPXTzop1_5lZ"
   },
   "source": [
    "긍정어휘  추출"
   ]
  },
  {
   "cell_type": "code",
   "execution_count": null,
   "metadata": {
    "id": "LfEE49jL_Pjd"
   },
   "outputs": [],
   "source": [
    "system_prompt='''\n",
    "다믐은 네이버 뉴스기사를 수집한 내용입니다.\n",
    "\n",
    "주어지는 입력에서 긍정 어휘를 추출해 주세요.\n",
    "\n",
    "동사나 형용사는 기본형으로 변형해주세요\n",
    "\n",
    "한줄 한줄씩 한단어 한단어씩 꼼꼼하게 읽고 가장 정확한 판단을 해주세요\n",
    "\n",
    "어휘1, 어휘2, 어휘3 식으로 어휘만 나열해서 답해주세요\n",
    "\n",
    "긍정어휘가 없다면 없음 으로 답해주세요\n",
    "\n",
    "'''\n",
    "def classify_review(review, instruction):\n",
    "    response = openai.ChatCompletion.create(\n",
    "        model='gpt-4o',\n",
    "        messages=[{'role': 'system', 'content': instruction},\n",
    "                  {'role': 'user', 'content': review}],\n",
    "        max_tokens=300,\n",
    "        temperature=0)\n",
    "    return response.choices[0].message.content"
   ]
  },
  {
   "cell_type": "code",
   "execution_count": null,
   "metadata": {
    "id": "hJLk0Cwo_l72"
   },
   "outputs": [],
   "source": [
    "correct = 0\n",
    "incorrect = 0\n",
    "results = []\n",
    "\n",
    "for review in df['title_content']:\n",
    "    print(review)\n",
    "    response = classify_review(review, system_prompt)\n",
    "    print(response)\n",
    "    print()\n",
    "\n",
    "    # 리스트에 결과 저장\n",
    "    results.append([review, response])\n",
    "\n",
    "# 결과를 데이터프레임으로 변환\n",
    "df_results = pd.DataFrame(results, columns=['Review', 'positivie_word'])\n"
   ]
  },
  {
   "cell_type": "code",
   "execution_count": null,
   "metadata": {
    "colab": {
     "base_uri": "https://localhost:8080/"
    },
    "executionInfo": {
     "elapsed": 19,
     "status": "ok",
     "timestamp": 1747648658331,
     "user": {
      "displayName": "이진규",
      "userId": "17496981203379941373"
     },
     "user_tz": -540
    },
    "id": "qwSLlPxMAYVH",
    "outputId": "6604314a-9df8-49a9-c342-69196984d5fe"
   },
   "outputs": [
    {
     "name": "stdout",
     "output_type": "stream",
     "text": [
      "                                              Review positivie_word\n",
      "0  [데이터 뉴스룸] 車업체 50곳 중 작년 직원 월봉 5위는 현대차…1~4위는... ...             없음\n",
      "1  한국동서발전, 울산 대기업·중소기업 화학안전 지킨다 이번 사업에는 S-OIL, 현대...             없음\n",
      "2  한국무브넥스, 주당 100원 현금 배당…주가 모습은? |중앙이코노미뉴스 강한솔 기자...             없음\n",
      "3  [특징주] 한국무브넥스, &quot;로봇 사업 관련 없다&quot;에도 '강세' 로...        강세, 오르다\n",
      "4  한국무브넥스, 로봇 사업과 관련성 부인? 지난 12일, 한국무브넥스가 로봇 사업과의...             없음\n",
      "5  한국무브넥스, 마감 앞두고 하한가…상승 멈추나 한국무브넥스가 하한가다. 한국무브넥스...             없음\n",
      "6  한국무브넥스, 20%대 상승…연일 강세 배경? 한국무브넥스 로고한국무브넥스의 주가가...    상승, 강세, 상승세\n",
      "7  [특징주] 한국무브넥스 &quot;로봇 사업 관련 없다&quot; 급락 지속 '보스...             없음\n",
      "8  [급락주] 한국무브넥스, -29.92% 하한가 마감 한국무브넥스 주가가 11일 하한...             없음\n",
      "9  [마감] 한국무브넥스 &quot;로봇 사업 관련 없다&quot; '하한가'...삼양...             없음\n"
     ]
    }
   ],
   "source": [
    "print(df_results)"
   ]
  },
  {
   "cell_type": "code",
   "execution_count": null,
   "metadata": {
    "id": "6THq_xMEAqtY"
   },
   "outputs": [],
   "source": [
    "# 단어 빈도 분석\n",
    "from sklearn.feature_extraction.text import CountVectorizer\n",
    "import pandas as pd\n",
    "\n",
    "cv = CountVectorizer(max_features=5000, ngram_range=(1,1))  # 상위 5000개 단어\n",
    "tdm = cv.fit_transform(df_results['positivie_word'])  # 데이터의 칼럼을 대상으로 빈도수를 계산\n",
    "\n",
    "# 단어와 빈도를 데이터프레임으로 변환\n",
    "positive_word_tf = pd.DataFrame({'단어': cv.get_feature_names_out(), '빈도': tdm.sum(axis=0).flat})\n",
    "\n",
    "# 빈도수 기준으로 내림차순 정렬\n",
    "positive_word_tf = positive_word_tf.sort_values('빈도', ascending=False)\n",
    "\n",
    "# 전체 단어 빈도수 합계 계산\n",
    "total_word_count = positive_word_tf['빈도'].sum()\n",
    "\n",
    "# 각 단어의 빈도 비율(%) 계산\n",
    "positive_word_tf['비율(%)'] = (positive_word_tf['빈도'] / total_word_count) * 100\n",
    "\n",
    "positive_word_tf = positive_word_tf.reset_index(drop=True)\n",
    "positive_word_tf.index = positive_word_tf.index + 1\n"
   ]
  },
  {
   "cell_type": "code",
   "execution_count": null,
   "metadata": {
    "colab": {
     "base_uri": "https://localhost:8080/",
     "height": 206
    },
    "executionInfo": {
     "elapsed": 40,
     "status": "ok",
     "timestamp": 1747648659250,
     "user": {
      "displayName": "이진규",
      "userId": "17496981203379941373"
     },
     "user_tz": -540
    },
    "id": "OLFo0ShXA61V",
    "outputId": "5880ec79-1a35-4eaf-9b31-6e596b9b0191"
   },
   "outputs": [
    {
     "data": {
      "application/vnd.google.colaboratory.intrinsic+json": {
       "summary": "{\n  \"name\": \"positive_word_tf\",\n  \"rows\": 5,\n  \"fields\": [\n    {\n      \"column\": \"\\ub2e8\\uc5b4\",\n      \"properties\": {\n        \"dtype\": \"string\",\n        \"num_unique_values\": 5,\n        \"samples\": [\n          \"\\uac15\\uc138\",\n          \"\\uc624\\ub974\\ub2e4\",\n          \"\\uc0c1\\uc2b9\"\n        ],\n        \"semantic_type\": \"\",\n        \"description\": \"\"\n      }\n    },\n    {\n      \"column\": \"\\ube48\\ub3c4\",\n      \"properties\": {\n        \"dtype\": \"number\",\n        \"std\": 3,\n        \"min\": 1,\n        \"max\": 8,\n        \"num_unique_values\": 3,\n        \"samples\": [\n          8,\n          2,\n          1\n        ],\n        \"semantic_type\": \"\",\n        \"description\": \"\"\n      }\n    },\n    {\n      \"column\": \"\\ube44\\uc728(%)\",\n      \"properties\": {\n        \"dtype\": \"number\",\n        \"std\": 23.458385664579858,\n        \"min\": 7.6923076923076925,\n        \"max\": 61.53846153846154,\n        \"num_unique_values\": 3,\n        \"samples\": [\n          61.53846153846154,\n          15.384615384615385,\n          7.6923076923076925\n        ],\n        \"semantic_type\": \"\",\n        \"description\": \"\"\n      }\n    }\n  ]\n}",
       "type": "dataframe",
       "variable_name": "positive_word_tf"
      },
      "text/html": [
       "\n",
       "  <div id=\"df-a7033597-f378-40f3-9a5d-a6dc7a83f623\" class=\"colab-df-container\">\n",
       "    <div>\n",
       "<style scoped>\n",
       "    .dataframe tbody tr th:only-of-type {\n",
       "        vertical-align: middle;\n",
       "    }\n",
       "\n",
       "    .dataframe tbody tr th {\n",
       "        vertical-align: top;\n",
       "    }\n",
       "\n",
       "    .dataframe thead th {\n",
       "        text-align: right;\n",
       "    }\n",
       "</style>\n",
       "<table border=\"1\" class=\"dataframe\">\n",
       "  <thead>\n",
       "    <tr style=\"text-align: right;\">\n",
       "      <th></th>\n",
       "      <th>단어</th>\n",
       "      <th>빈도</th>\n",
       "      <th>비율(%)</th>\n",
       "    </tr>\n",
       "  </thead>\n",
       "  <tbody>\n",
       "    <tr>\n",
       "      <th>1</th>\n",
       "      <td>없음</td>\n",
       "      <td>8</td>\n",
       "      <td>61.538462</td>\n",
       "    </tr>\n",
       "    <tr>\n",
       "      <th>2</th>\n",
       "      <td>강세</td>\n",
       "      <td>2</td>\n",
       "      <td>15.384615</td>\n",
       "    </tr>\n",
       "    <tr>\n",
       "      <th>3</th>\n",
       "      <td>상승</td>\n",
       "      <td>1</td>\n",
       "      <td>7.692308</td>\n",
       "    </tr>\n",
       "    <tr>\n",
       "      <th>4</th>\n",
       "      <td>상승세</td>\n",
       "      <td>1</td>\n",
       "      <td>7.692308</td>\n",
       "    </tr>\n",
       "    <tr>\n",
       "      <th>5</th>\n",
       "      <td>오르다</td>\n",
       "      <td>1</td>\n",
       "      <td>7.692308</td>\n",
       "    </tr>\n",
       "  </tbody>\n",
       "</table>\n",
       "</div>\n",
       "    <div class=\"colab-df-buttons\">\n",
       "\n",
       "  <div class=\"colab-df-container\">\n",
       "    <button class=\"colab-df-convert\" onclick=\"convertToInteractive('df-a7033597-f378-40f3-9a5d-a6dc7a83f623')\"\n",
       "            title=\"Convert this dataframe to an interactive table.\"\n",
       "            style=\"display:none;\">\n",
       "\n",
       "  <svg xmlns=\"http://www.w3.org/2000/svg\" height=\"24px\" viewBox=\"0 -960 960 960\">\n",
       "    <path d=\"M120-120v-720h720v720H120Zm60-500h600v-160H180v160Zm220 220h160v-160H400v160Zm0 220h160v-160H400v160ZM180-400h160v-160H180v160Zm440 0h160v-160H620v160ZM180-180h160v-160H180v160Zm440 0h160v-160H620v160Z\"/>\n",
       "  </svg>\n",
       "    </button>\n",
       "\n",
       "  <style>\n",
       "    .colab-df-container {\n",
       "      display:flex;\n",
       "      gap: 12px;\n",
       "    }\n",
       "\n",
       "    .colab-df-convert {\n",
       "      background-color: #E8F0FE;\n",
       "      border: none;\n",
       "      border-radius: 50%;\n",
       "      cursor: pointer;\n",
       "      display: none;\n",
       "      fill: #1967D2;\n",
       "      height: 32px;\n",
       "      padding: 0 0 0 0;\n",
       "      width: 32px;\n",
       "    }\n",
       "\n",
       "    .colab-df-convert:hover {\n",
       "      background-color: #E2EBFA;\n",
       "      box-shadow: 0px 1px 2px rgba(60, 64, 67, 0.3), 0px 1px 3px 1px rgba(60, 64, 67, 0.15);\n",
       "      fill: #174EA6;\n",
       "    }\n",
       "\n",
       "    .colab-df-buttons div {\n",
       "      margin-bottom: 4px;\n",
       "    }\n",
       "\n",
       "    [theme=dark] .colab-df-convert {\n",
       "      background-color: #3B4455;\n",
       "      fill: #D2E3FC;\n",
       "    }\n",
       "\n",
       "    [theme=dark] .colab-df-convert:hover {\n",
       "      background-color: #434B5C;\n",
       "      box-shadow: 0px 1px 3px 1px rgba(0, 0, 0, 0.15);\n",
       "      filter: drop-shadow(0px 1px 2px rgba(0, 0, 0, 0.3));\n",
       "      fill: #FFFFFF;\n",
       "    }\n",
       "  </style>\n",
       "\n",
       "    <script>\n",
       "      const buttonEl =\n",
       "        document.querySelector('#df-a7033597-f378-40f3-9a5d-a6dc7a83f623 button.colab-df-convert');\n",
       "      buttonEl.style.display =\n",
       "        google.colab.kernel.accessAllowed ? 'block' : 'none';\n",
       "\n",
       "      async function convertToInteractive(key) {\n",
       "        const element = document.querySelector('#df-a7033597-f378-40f3-9a5d-a6dc7a83f623');\n",
       "        const dataTable =\n",
       "          await google.colab.kernel.invokeFunction('convertToInteractive',\n",
       "                                                    [key], {});\n",
       "        if (!dataTable) return;\n",
       "\n",
       "        const docLinkHtml = 'Like what you see? Visit the ' +\n",
       "          '<a target=\"_blank\" href=https://colab.research.google.com/notebooks/data_table.ipynb>data table notebook</a>'\n",
       "          + ' to learn more about interactive tables.';\n",
       "        element.innerHTML = '';\n",
       "        dataTable['output_type'] = 'display_data';\n",
       "        await google.colab.output.renderOutput(dataTable, element);\n",
       "        const docLink = document.createElement('div');\n",
       "        docLink.innerHTML = docLinkHtml;\n",
       "        element.appendChild(docLink);\n",
       "      }\n",
       "    </script>\n",
       "  </div>\n",
       "\n",
       "\n",
       "    <div id=\"df-a2fa058c-bc4d-4c25-8f1b-7a9bcb343281\">\n",
       "      <button class=\"colab-df-quickchart\" onclick=\"quickchart('df-a2fa058c-bc4d-4c25-8f1b-7a9bcb343281')\"\n",
       "                title=\"Suggest charts\"\n",
       "                style=\"display:none;\">\n",
       "\n",
       "<svg xmlns=\"http://www.w3.org/2000/svg\" height=\"24px\"viewBox=\"0 0 24 24\"\n",
       "     width=\"24px\">\n",
       "    <g>\n",
       "        <path d=\"M19 3H5c-1.1 0-2 .9-2 2v14c0 1.1.9 2 2 2h14c1.1 0 2-.9 2-2V5c0-1.1-.9-2-2-2zM9 17H7v-7h2v7zm4 0h-2V7h2v10zm4 0h-2v-4h2v4z\"/>\n",
       "    </g>\n",
       "</svg>\n",
       "      </button>\n",
       "\n",
       "<style>\n",
       "  .colab-df-quickchart {\n",
       "      --bg-color: #E8F0FE;\n",
       "      --fill-color: #1967D2;\n",
       "      --hover-bg-color: #E2EBFA;\n",
       "      --hover-fill-color: #174EA6;\n",
       "      --disabled-fill-color: #AAA;\n",
       "      --disabled-bg-color: #DDD;\n",
       "  }\n",
       "\n",
       "  [theme=dark] .colab-df-quickchart {\n",
       "      --bg-color: #3B4455;\n",
       "      --fill-color: #D2E3FC;\n",
       "      --hover-bg-color: #434B5C;\n",
       "      --hover-fill-color: #FFFFFF;\n",
       "      --disabled-bg-color: #3B4455;\n",
       "      --disabled-fill-color: #666;\n",
       "  }\n",
       "\n",
       "  .colab-df-quickchart {\n",
       "    background-color: var(--bg-color);\n",
       "    border: none;\n",
       "    border-radius: 50%;\n",
       "    cursor: pointer;\n",
       "    display: none;\n",
       "    fill: var(--fill-color);\n",
       "    height: 32px;\n",
       "    padding: 0;\n",
       "    width: 32px;\n",
       "  }\n",
       "\n",
       "  .colab-df-quickchart:hover {\n",
       "    background-color: var(--hover-bg-color);\n",
       "    box-shadow: 0 1px 2px rgba(60, 64, 67, 0.3), 0 1px 3px 1px rgba(60, 64, 67, 0.15);\n",
       "    fill: var(--button-hover-fill-color);\n",
       "  }\n",
       "\n",
       "  .colab-df-quickchart-complete:disabled,\n",
       "  .colab-df-quickchart-complete:disabled:hover {\n",
       "    background-color: var(--disabled-bg-color);\n",
       "    fill: var(--disabled-fill-color);\n",
       "    box-shadow: none;\n",
       "  }\n",
       "\n",
       "  .colab-df-spinner {\n",
       "    border: 2px solid var(--fill-color);\n",
       "    border-color: transparent;\n",
       "    border-bottom-color: var(--fill-color);\n",
       "    animation:\n",
       "      spin 1s steps(1) infinite;\n",
       "  }\n",
       "\n",
       "  @keyframes spin {\n",
       "    0% {\n",
       "      border-color: transparent;\n",
       "      border-bottom-color: var(--fill-color);\n",
       "      border-left-color: var(--fill-color);\n",
       "    }\n",
       "    20% {\n",
       "      border-color: transparent;\n",
       "      border-left-color: var(--fill-color);\n",
       "      border-top-color: var(--fill-color);\n",
       "    }\n",
       "    30% {\n",
       "      border-color: transparent;\n",
       "      border-left-color: var(--fill-color);\n",
       "      border-top-color: var(--fill-color);\n",
       "      border-right-color: var(--fill-color);\n",
       "    }\n",
       "    40% {\n",
       "      border-color: transparent;\n",
       "      border-right-color: var(--fill-color);\n",
       "      border-top-color: var(--fill-color);\n",
       "    }\n",
       "    60% {\n",
       "      border-color: transparent;\n",
       "      border-right-color: var(--fill-color);\n",
       "    }\n",
       "    80% {\n",
       "      border-color: transparent;\n",
       "      border-right-color: var(--fill-color);\n",
       "      border-bottom-color: var(--fill-color);\n",
       "    }\n",
       "    90% {\n",
       "      border-color: transparent;\n",
       "      border-bottom-color: var(--fill-color);\n",
       "    }\n",
       "  }\n",
       "</style>\n",
       "\n",
       "      <script>\n",
       "        async function quickchart(key) {\n",
       "          const quickchartButtonEl =\n",
       "            document.querySelector('#' + key + ' button');\n",
       "          quickchartButtonEl.disabled = true;  // To prevent multiple clicks.\n",
       "          quickchartButtonEl.classList.add('colab-df-spinner');\n",
       "          try {\n",
       "            const charts = await google.colab.kernel.invokeFunction(\n",
       "                'suggestCharts', [key], {});\n",
       "          } catch (error) {\n",
       "            console.error('Error during call to suggestCharts:', error);\n",
       "          }\n",
       "          quickchartButtonEl.classList.remove('colab-df-spinner');\n",
       "          quickchartButtonEl.classList.add('colab-df-quickchart-complete');\n",
       "        }\n",
       "        (() => {\n",
       "          let quickchartButtonEl =\n",
       "            document.querySelector('#df-a2fa058c-bc4d-4c25-8f1b-7a9bcb343281 button');\n",
       "          quickchartButtonEl.style.display =\n",
       "            google.colab.kernel.accessAllowed ? 'block' : 'none';\n",
       "        })();\n",
       "      </script>\n",
       "    </div>\n",
       "\n",
       "  <div id=\"id_38a7c49f-4631-4ebe-81c1-fb902c6aaa23\">\n",
       "    <style>\n",
       "      .colab-df-generate {\n",
       "        background-color: #E8F0FE;\n",
       "        border: none;\n",
       "        border-radius: 50%;\n",
       "        cursor: pointer;\n",
       "        display: none;\n",
       "        fill: #1967D2;\n",
       "        height: 32px;\n",
       "        padding: 0 0 0 0;\n",
       "        width: 32px;\n",
       "      }\n",
       "\n",
       "      .colab-df-generate:hover {\n",
       "        background-color: #E2EBFA;\n",
       "        box-shadow: 0px 1px 2px rgba(60, 64, 67, 0.3), 0px 1px 3px 1px rgba(60, 64, 67, 0.15);\n",
       "        fill: #174EA6;\n",
       "      }\n",
       "\n",
       "      [theme=dark] .colab-df-generate {\n",
       "        background-color: #3B4455;\n",
       "        fill: #D2E3FC;\n",
       "      }\n",
       "\n",
       "      [theme=dark] .colab-df-generate:hover {\n",
       "        background-color: #434B5C;\n",
       "        box-shadow: 0px 1px 3px 1px rgba(0, 0, 0, 0.15);\n",
       "        filter: drop-shadow(0px 1px 2px rgba(0, 0, 0, 0.3));\n",
       "        fill: #FFFFFF;\n",
       "      }\n",
       "    </style>\n",
       "    <button class=\"colab-df-generate\" onclick=\"generateWithVariable('positive_word_tf')\"\n",
       "            title=\"Generate code using this dataframe.\"\n",
       "            style=\"display:none;\">\n",
       "\n",
       "  <svg xmlns=\"http://www.w3.org/2000/svg\" height=\"24px\"viewBox=\"0 0 24 24\"\n",
       "       width=\"24px\">\n",
       "    <path d=\"M7,19H8.4L18.45,9,17,7.55,7,17.6ZM5,21V16.75L18.45,3.32a2,2,0,0,1,2.83,0l1.4,1.43a1.91,1.91,0,0,1,.58,1.4,1.91,1.91,0,0,1-.58,1.4L9.25,21ZM18.45,9,17,7.55Zm-12,3A5.31,5.31,0,0,0,4.9,8.1,5.31,5.31,0,0,0,1,6.5,5.31,5.31,0,0,0,4.9,4.9,5.31,5.31,0,0,0,6.5,1,5.31,5.31,0,0,0,8.1,4.9,5.31,5.31,0,0,0,12,6.5,5.46,5.46,0,0,0,6.5,12Z\"/>\n",
       "  </svg>\n",
       "    </button>\n",
       "    <script>\n",
       "      (() => {\n",
       "      const buttonEl =\n",
       "        document.querySelector('#id_38a7c49f-4631-4ebe-81c1-fb902c6aaa23 button.colab-df-generate');\n",
       "      buttonEl.style.display =\n",
       "        google.colab.kernel.accessAllowed ? 'block' : 'none';\n",
       "\n",
       "      buttonEl.onclick = () => {\n",
       "        google.colab.notebook.generateWithVariable('positive_word_tf');\n",
       "      }\n",
       "      })();\n",
       "    </script>\n",
       "  </div>\n",
       "\n",
       "    </div>\n",
       "  </div>\n"
      ],
      "text/plain": [
       "    단어  빈도      비율(%)\n",
       "1   없음   8  61.538462\n",
       "2   강세   2  15.384615\n",
       "3   상승   1   7.692308\n",
       "4  상승세   1   7.692308\n",
       "5  오르다   1   7.692308"
      ]
     },
     "execution_count": 15,
     "metadata": {},
     "output_type": "execute_result"
    }
   ],
   "source": [
    "positive_word_tf"
   ]
  },
  {
   "cell_type": "code",
   "execution_count": null,
   "metadata": {
    "id": "kGXeAEPdEFgG"
   },
   "outputs": [],
   "source": [
    "# 제외할 단어 리스트 정의\n",
    "exclude_words = ['없음']  # 제거하고 싶은 단어 리스트를 여기에 추가\n",
    "\n",
    "# 제외할 단어를 포함하지 않는 데이터만 남김\n",
    "positive_word_tf = positive_word_tf[~positive_word_tf['단어'].isin(exclude_words)]"
   ]
  },
  {
   "cell_type": "code",
   "execution_count": null,
   "metadata": {
    "colab": {
     "base_uri": "https://localhost:8080/",
     "height": 424
    },
    "executionInfo": {
     "elapsed": 504,
     "status": "ok",
     "timestamp": 1747648659766,
     "user": {
      "displayName": "이진규",
      "userId": "17496981203379941373"
     },
     "user_tz": -540
    },
    "id": "VpXU_JKoBR_F",
    "outputId": "48be9459-f2fa-421b-bf35-f0643f6ba63d"
   },
   "outputs": [
    {
     "data": {
      "image/png": "[encoded data removed]",
      "text/plain": [
       "<Figure size 1000x600 with 1 Axes>"
      ]
     },
     "metadata": {},
     "output_type": "display_data"
    }
   ],
   "source": [
    "from wordcloud import WordCloud\n",
    "import matplotlib.pyplot as plt\n",
    "font_path = 'NanumBarunGothic.ttf'\n",
    "\n",
    "# 단어와 빈도수를 딕셔너리 형태로 변환 (워드 클라우드에 맞게)\n",
    "word_freq = dict(zip(positive_word_tf['단어'], positive_word_tf['빈도']))\n",
    "\n",
    "# 워드 클라우드 생성\n",
    "wordcloud = WordCloud(width=800, height=400, background_color='white', font_path=font_path, max_words=200).generate_from_frequencies(word_freq)\n",
    "\n",
    "# 워드 클라우드 시각화\n",
    "plt.figure(figsize=(10, 6))\n",
    "plt.imshow(wordcloud, interpolation='bilinear')\n",
    "plt.axis('off')  # 축 숨기기\n",
    "plt.show()"
   ]
  },
  {
   "cell_type": "code",
   "execution_count": null,
   "metadata": {
    "id": "jYv2ApAQBnkQ"
   },
   "outputs": [],
   "source": [
    "# 단어 빈도 분석\n",
    "from sklearn.feature_extraction.text import CountVectorizer\n",
    "import pandas as pd\n",
    "\n",
    "cv = CountVectorizer(max_features=5000, ngram_range=(2,2))  # 상위 5000개 단어\n",
    "tdm = cv.fit_transform(df_results['positivie_word'])  # 데이터의 칼럼을 대상으로 빈도수를 계산\n",
    "\n",
    "# 단어와 빈도를 데이터프레임으로 변환\n",
    "positive_word_tf = pd.DataFrame({'단어': cv.get_feature_names_out(), '빈도': tdm.sum(axis=0).flat})\n",
    "\n",
    "# 빈도수 기준으로 내림차순 정렬\n",
    "positive_word_tf = positive_word_tf.sort_values('빈도', ascending=False)\n",
    "\n",
    "# 전체 단어 빈도수 합계 계산\n",
    "total_word_count = positive_word_tf['빈도'].sum()\n",
    "\n",
    "# 각 단어의 빈도 비율(%) 계산\n",
    "positive_word_tf['비율(%)'] = (positive_word_tf['빈도'] / total_word_count) * 100\n",
    "\n",
    "positive_word_tf = positive_word_tf.reset_index(drop=True)\n",
    "positive_word_tf.index = positive_word_tf.index + 1\n"
   ]
  },
  {
   "cell_type": "code",
   "execution_count": null,
   "metadata": {
    "colab": {
     "base_uri": "https://localhost:8080/",
     "height": 424
    },
    "executionInfo": {
     "elapsed": 453,
     "status": "ok",
     "timestamp": 1747648660227,
     "user": {
      "displayName": "이진규",
      "userId": "17496981203379941373"
     },
     "user_tz": -540
    },
    "id": "iqj0m1dEBpmG",
    "outputId": "0c35efb5-befe-42b8-ddd9-289c5f8028ef"
   },
   "outputs": [
    {
     "data": {
      "image/png": "[encoded data removed]",
      "text/plain": [
       "<Figure size 1000x600 with 1 Axes>"
      ]
     },
     "metadata": {},
     "output_type": "display_data"
    }
   ],
   "source": [
    "from wordcloud import WordCloud\n",
    "import matplotlib.pyplot as plt\n",
    "\n",
    "font_path = 'NanumBarunGothic.ttf'\n",
    "\n",
    "# 단어와 빈도수를 딕셔너리 형태로 변환 (워드 클라우드에 맞게)\n",
    "word_freq = dict(zip(positive_word_tf['단어'], positive_word_tf['빈도']))\n",
    "\n",
    "# 워드 클라우드 생성\n",
    "wordcloud = WordCloud(width=800, height=400, background_color='white', font_path=font_path, max_words=200).generate_from_frequencies(word_freq)\n",
    "\n",
    "# 워드 클라우드 시각화\n",
    "plt.figure(figsize=(10, 6))\n",
    "plt.imshow(wordcloud, interpolation='bilinear')\n",
    "plt.axis('off')  # 축 숨기기\n",
    "plt.show()"
   ]
  },
  {
   "cell_type": "markdown",
   "metadata": {
    "id": "Xg_Dsl0BDjUT"
   },
   "source": [
    "부정어휘 비율 추출"
   ]
  },
  {
   "cell_type": "code",
   "execution_count": null,
   "metadata": {
    "id": "4v-B7cMIDnZJ"
   },
   "outputs": [],
   "source": [
    "system_prompt='''\n",
    "다믐은 네이버 뉴스기사를 수집한 내용입니다.\n",
    "\n",
    "주어지는 입력에서 부정 어휘를 추출해 주세요.\n",
    "\n",
    "동사나 형용사는 기본형으로 변형해주세요\n",
    "\n",
    "한줄 한줄씩 한단어 한단어씩 꼼꼼하게 읽고 가장 정확한 판단을 해주세요\n",
    "\n",
    "어휘1, 어휘2, 어휘3 식으로 어휘만 나열해서 답해주세요\n",
    "\n",
    "부정어휘가 없다면 없음 으로 답해주세요\n",
    "\n",
    "'''\n",
    "def classify_review(review, instruction):\n",
    "    response = openai.ChatCompletion.create(\n",
    "        model='gpt-4o',\n",
    "        messages=[{'role': 'system', 'content': instruction},\n",
    "                  {'role': 'user', 'content': review}],\n",
    "        max_tokens=300,\n",
    "        temperature=0)\n",
    "    return response.choices[0].message.content"
   ]
  },
  {
   "cell_type": "code",
   "execution_count": null,
   "metadata": {
    "id": "Cd-BrVQZDr5M"
   },
   "outputs": [],
   "source": [
    "correct = 0\n",
    "incorrect = 0\n",
    "results = []\n",
    "\n",
    "for review in df['title_content']:\n",
    "    print(review)\n",
    "    response = classify_review(review, system_prompt)\n",
    "    print(response)\n",
    "    print()\n",
    "\n",
    "    # 리스트에 결과 저장\n",
    "    results.append([review, response])\n",
    "\n",
    "# 결과를 데이터프레임으로 변환\n",
    "df_results = pd.DataFrame(results, columns=['Review', 'negative_word'])\n"
   ]
  },
  {
   "cell_type": "code",
   "execution_count": null,
   "metadata": {
    "id": "TR4wJ9RsEcW1"
   },
   "outputs": [],
   "source": [
    "# 단어 빈도 분석\n",
    "from sklearn.feature_extraction.text import CountVectorizer\n",
    "import pandas as pd\n",
    "\n",
    "cv = CountVectorizer(max_features=5000, ngram_range=(1,1))  # 상위 5000개 단어\n",
    "tdm = cv.fit_transform(df_results['negative_word'])  # 데이터의 칼럼을 대상으로 빈도수를 계산\n",
    "\n",
    "# 단어와 빈도를 데이터프레임으로 변환\n",
    "negative_word_tf = pd.DataFrame({'단어': cv.get_feature_names_out(), '빈도': tdm.sum(axis=0).flat})\n",
    "\n",
    "# 빈도수 기준으로 내림차순 정렬\n",
    "negative_word_tf = negative_word_tf.sort_values('빈도', ascending=False)\n",
    "\n",
    "# 전체 단어 빈도수 합계 계산\n",
    "total_word_count = negative_word_tf['빈도'].sum()\n",
    "\n",
    "# 각 단어의 빈도 비율(%) 계산\n",
    "negative_word_tf['비율(%)'] = (negative_word_tf['빈도'] / total_word_count) * 100\n",
    "\n",
    "negative_word_tf = negative_word_tf.reset_index(drop=True)\n",
    "negative_word_tf.index = negative_word_tf.index + 1\n"
   ]
  },
  {
   "cell_type": "code",
   "execution_count": null,
   "metadata": {
    "id": "lv1LFMbBEn06"
   },
   "outputs": [],
   "source": [
    "# 제외할 단어 리스트 정의\n",
    "exclude_words = ['없음']  # 제거하고 싶은 단어 리스트를 여기에 추가\n",
    "\n",
    "# 제외할 단어를 포함하지 않는 데이터만 남김\n",
    "negative_word_tf = negative_word_tf[~negative_word_tf['단어'].isin(exclude_words)]"
   ]
  },
  {
   "cell_type": "code",
   "execution_count": null,
   "metadata": {
    "id": "PAN8Du-XEgQd"
   },
   "outputs": [],
   "source": [
    "from wordcloud import WordCloud\n",
    "import matplotlib.pyplot as plt\n",
    "if word_freq:\n",
    "  font_path = 'NanumBarunGothic.ttf'\n",
    "\n",
    "  # 단어와 빈도수를 딕셔너리 형태로 변환 (워드 클라우드에 맞게)\n",
    "  word_freq = dict(zip(negative_word_tf['단어'], negative_word_tf['빈도']))\n",
    "\n",
    "  # 워드 클라우드 생성\n",
    "  wordcloud = WordCloud(width=800, height=400, background_color='black', font_path=font_path, max_words=200).generate_from_frequencies(word_freq)\n",
    "\n",
    "  # 워드 클라우드 시각화\n",
    "  plt.figure(figsize=(10, 6))\n",
    "  plt.imshow(wordcloud, interpolation='bilinear')\n",
    "  plt.axis('off')  # 축 숨기기\n",
    "  plt.show()"
   ]
  },
  {
   "cell_type": "markdown",
   "metadata": {
    "id": "pDzoYK6nGVMu"
   },
   "source": [
    "# 기사 주요 토픽 추출"
   ]
  },
  {
   "cell_type": "code",
   "execution_count": null,
   "metadata": {
    "id": "4ncuC4N3JAxf"
   },
   "outputs": [],
   "source": [
    "system_prompt='''\n",
    "다믐은 네이버 뉴스기사를 수집한 내용입니다.\n",
    "\n",
    "주어지는 입력에서 긍정적 토픽과 관련된 토픽어휘들을 추출해 주세요.\n",
    "\n",
    "동사나 형용사는 기본형으로 변형해주세요\n",
    "\n",
    "한줄 한줄씩 한단어 한단어씩 꼼꼼하게 읽고 가장 정확한 판단을 해주세요\n",
    "\n",
    "답변 형식 : 긍정토픽관련어휘1, 긍정토픽관련어휘2, 긍정토픽관련어휘3\n",
    "\n",
    "위의 같은 답변형 식으로 기사에서 토픽어휘들만 추출해서 답해주세요\n",
    "\n",
    "긍정적 토픽과 관련된 토픽어휘가 없다면 없음 으로 답해주세요\n",
    "\n",
    "\n",
    "'''\n",
    "def classify_review(review, instruction):\n",
    "    response = openai.ChatCompletion.create(\n",
    "        model='gpt-4o',\n",
    "        messages=[{'role': 'system', 'content': instruction},\n",
    "                  {'role': 'user', 'content': review}],\n",
    "        max_tokens=300,\n",
    "        temperature=0)\n",
    "    return response.choices[0].message.content\n",
    "\n",
    "correct = 0\n",
    "incorrect = 0\n",
    "results = []\n",
    "\n",
    "for review in df['title_content']:\n",
    "    print(review)\n",
    "    response = classify_review(review, system_prompt)\n",
    "    print(response)\n",
    "    print()\n",
    "\n",
    "    # 리스트에 결과 저장\n",
    "    results.append([review, response])\n",
    "\n",
    "# 결과를 데이터프레임으로 변환\n",
    "df_results = pd.DataFrame(results, columns=['Review', 'positivie_topic_word'])\n"
   ]
  },
  {
   "cell_type": "code",
   "execution_count": null,
   "metadata": {
    "id": "LC6M5yoqJV2d"
   },
   "outputs": [],
   "source": [
    "# 단어 빈도 분석\n",
    "from sklearn.feature_extraction.text import CountVectorizer\n",
    "import pandas as pd\n",
    "\n",
    "cv = CountVectorizer(max_features=5000, ngram_range=(1,1))  # 상위 5000개 단어\n",
    "tdm = cv.fit_transform(df_results['positivie_topic_word'])  # 데이터의 칼럼을 대상으로 빈도수를 계산\n",
    "\n",
    "# 단어와 빈도를 데이터프레임으로 변환\n",
    "positivie_topic_tf = pd.DataFrame({'단어': cv.get_feature_names_out(), '빈도': tdm.sum(axis=0).flat})\n",
    "\n",
    "# 빈도수 기준으로 내림차순 정렬\n",
    "positivie_topic_tf = positivie_topic_tf.sort_values('빈도', ascending=False)\n",
    "\n",
    "# 전체 단어 빈도수 합계 계산\n",
    "total_word_count = positivie_topic_tf['빈도'].sum()\n",
    "\n",
    "# 각 단어의 빈도 비율(%) 계산\n",
    "positivie_topic_tf['비율(%)'] = (positivie_topic_tf['빈도'] / total_word_count) * 100\n",
    "\n",
    "positivie_topic_tf = positivie_topic_tf.reset_index(drop=True)\n",
    "positivie_topic_tf.index = positivie_topic_tf.index + 1\n"
   ]
  },
  {
   "cell_type": "code",
   "execution_count": null,
   "metadata": {
    "id": "4qZAQT48Km7x"
   },
   "outputs": [],
   "source": [
    "# 제외할 단어 리스트 정의\n",
    "exclude_words = ['없음']  # 제거하고 싶은 단어 리스트를 여기에 추가\n",
    "\n",
    "# 제외할 단어를 포함하지 않는 데이터만 남김\n",
    "positivie_topic_tf = positivie_topic_tf[~positivie_topic_tf['단어'].isin(exclude_words)]"
   ]
  },
  {
   "cell_type": "code",
   "execution_count": null,
   "metadata": {
    "id": "l4UWXlGTJOvc"
   },
   "outputs": [],
   "source": [
    "from wordcloud import WordCloud\n",
    "import matplotlib.pyplot as plt\n",
    "if word_freq:  # 단어가 있을 때만 워드 클라우드 생성\n",
    "\n",
    "  font_path = 'NanumBarunGothic.ttf'\n",
    "\n",
    "  # 단어와 빈도수를 딕셔너리 형태로 변환 (워드 클라우드에 맞게)\n",
    "  word_freq = dict(zip(positivie_topic_tf['단어'], positivie_topic_tf['빈도']))\n",
    "\n",
    "  # 워드 클라우드 생성\n",
    "  wordcloud = WordCloud(width=800, height=400, background_color='white', font_path=font_path, max_words=200).generate_from_frequencies(word_freq)\n",
    "\n",
    "  # 워드 클라우드 시각화\n",
    "  plt.figure(figsize=(10, 6))\n",
    "  plt.imshow(wordcloud, interpolation='bilinear')\n",
    "  plt.axis('off')  # 축 숨기기\n",
    "  plt.show()"
   ]
  },
  {
   "cell_type": "markdown",
   "metadata": {
    "id": "-9N-zJMjKqRE"
   },
   "source": []
  },
  {
   "cell_type": "code",
   "execution_count": null,
   "metadata": {
    "id": "uX6MjnlzKqu9"
   },
   "outputs": [],
   "source": [
    "system_prompt='''\n",
    "다믐은 네이버 뉴스기사를 수집한 내용입니다.\n",
    "\n",
    "주어지는 입력에서 부정적 토픽과 관련된 토픽어휘들을 추출해 주세요.\n",
    "\n",
    "동사나 형용사는 기본형으로 변형해주세요\n",
    "\n",
    "한줄 한줄씩 한단어 한단어씩 꼼꼼하게 읽고 가장 정확한 판단을 해주세요\n",
    "\n",
    "답변 형식 : 부정토픽관련어휘1, 부정토픽관련어휘2, 부정토픽관련어휘3\n",
    "\n",
    "위의 같은 답변형 식으로 기사에서 토픽어휘들만 추출해서 답해주세요\n",
    "\n",
    "부정적 토픽과 관련된 토픽어휘가 없다면 없음 으로 답해주세요\n",
    "\n",
    "\n",
    "'''\n",
    "def classify_review(review, instruction):\n",
    "    response = openai.ChatCompletion.create(\n",
    "        model='gpt-4o',\n",
    "        messages=[{'role': 'system', 'content': instruction},\n",
    "                  {'role': 'user', 'content': review}],\n",
    "        max_tokens=300,\n",
    "        temperature=0)\n",
    "    return response.choices[0].message.content\n",
    "\n",
    "correct = 0\n",
    "incorrect = 0\n",
    "results = []\n",
    "\n",
    "for review in df['title_content']:\n",
    "    print(review)\n",
    "    response = classify_review(review, system_prompt)\n",
    "    print(response)\n",
    "    print()\n",
    "\n",
    "    # 리스트에 결과 저장\n",
    "    results.append([review, response])\n",
    "\n",
    "# 결과를 데이터프레임으로 변환\n",
    "df_results = pd.DataFrame(results, columns=['Review', 'negative_topic_word'])\n"
   ]
  },
  {
   "cell_type": "code",
   "execution_count": null,
   "metadata": {
    "id": "KYs7AhE0Kw3S"
   },
   "outputs": [],
   "source": [
    "# 단어 빈도 분석\n",
    "from sklearn.feature_extraction.text import CountVectorizer\n",
    "import pandas as pd\n",
    "\n",
    "cv = CountVectorizer(max_features=5000, ngram_range=(1,1))  # 상위 5000개 단어\n",
    "tdm = cv.fit_transform(df_results['negative_topic_word'])  # 데이터의 칼럼을 대상으로 빈도수를 계산\n",
    "\n",
    "# 단어와 빈도를 데이터프레임으로 변환\n",
    "negative_topic_tf = pd.DataFrame({'단어': cv.get_feature_names_out(), '빈도': tdm.sum(axis=0).flat})\n",
    "\n",
    "# 빈도수 기준으로 내림차순 정렬\n",
    "negative_topic_tf = negative_topic_tf.sort_values('빈도', ascending=False)\n",
    "\n",
    "# 전체 단어 빈도수 합계 계산\n",
    "total_word_count = negative_topic_tf['빈도'].sum()\n",
    "\n",
    "# 각 단어의 빈도 비율(%) 계산\n",
    "negative_topic_tf['비율(%)'] = (negative_topic_tf['빈도'] / total_word_count) * 100\n",
    "\n",
    "negative_topic_tf = negative_topic_tf.reset_index(drop=True)\n",
    "negative_topic_tf.index = negative_topic_tf.index + 1\n"
   ]
  },
  {
   "cell_type": "code",
   "execution_count": null,
   "metadata": {
    "id": "0qMg1pD-K2Ho"
   },
   "outputs": [],
   "source": [
    "# 제외할 단어 리스트 정의\n",
    "exclude_words = ['없음']  # 제거하고 싶은 단어 리스트를 여기에 추가\n",
    "\n",
    "# 제외할 단어를 포함하지 않는 데이터만 남김\n",
    "negative_topic_tf = negative_topic_tf[~negative_topic_tf['단어'].isin(exclude_words)]"
   ]
  },
  {
   "cell_type": "code",
   "execution_count": null,
   "metadata": {
    "id": "u_-LxnOXK3Xa"
   },
   "outputs": [],
   "source": [
    "from wordcloud import WordCloud\n",
    "import matplotlib.pyplot as plt\n",
    "if word_freq:  # 단어가 있을 때만 워드 클라우드 생성\n",
    "\n",
    "  font_path = 'NanumBarunGothic.ttf'\n",
    "\n",
    "  # 단어와 빈도수를 딕셔너리 형태로 변환 (워드 클라우드에 맞게)\n",
    "  word_freq = dict(zip(negative_topic_tf['단어'], negative_topic_tf['빈도']))\n",
    "\n",
    "  # 워드 클라우드 생성\n",
    "  wordcloud = WordCloud(width=800, height=400, background_color='black', font_path=font_path, max_words=200).generate_from_frequencies(word_freq)\n",
    "\n",
    "  # 워드 클라우드 시각화\n",
    "  plt.figure(figsize=(10, 6))\n",
    "  plt.imshow(wordcloud, interpolation='bilinear')\n",
    "  plt.axis('off')  # 축 숨기기\n",
    "  plt.show()"
   ]
  },
  {
   "cell_type": "markdown",
   "metadata": {
    "id": "jyq42nsjgqfT"
   },
   "source": [
    "## ChaTGPT를 활용한 NER작업\n",
    "\n",
    "NER(명명 엔티티 인식)은 텍스트에서 사람, 조직, 장소 등의 특정 개체를 자동으로 식별하고 추출하는 자연어 처리 기술입니다. 이를 통해 중요한 키워드나 정보를 구조적으로 파악할 수 있습니다.\n",
    "\n"
   ]
  },
  {
   "cell_type": "markdown",
   "metadata": {
    "id": "dJUCGQUhg8_Q"
   },
   "source": [
    "아래 코드는 주식 뉴스 기사에서 사전 정의된 대기업 및 글로벌 트렌드 관련 키워드를 추출하는 ChatGTP를 이용한 NER작업입니다."
   ]
  },
  {
   "cell_type": "code",
   "execution_count": null,
   "metadata": {
    "collapsed": true,
    "id": "0FhPSOIBdhfI"
   },
   "outputs": [],
   "source": [
    "system_prompt='''\n",
    "\n",
    "사용자 사전 정의\n",
    "\n",
    "대기업: 삼성,네이버,카카오 등과 같은 국내 대기업, 애플 구글과 같은 글로벌 대기업과 관련된 키워드\n",
    "글로벌트렌드: 글로벌 수준에서 여러 산업과 사회 부문에 영향을 미치는 종목, 인공지능,사물인터넷, 자율주행,빅데이터 등의 최신 기술 혁신과 관련된 종목\n",
    "\n",
    "\n",
    "다믐은 네이버 뉴스기사를 수집한 내용입니다.\n",
    "\n",
    "주어지는 입력에서 사용자 사전에 해당되는 어휘를 추출해주세요\n",
    "\n",
    "동사나 형용사는 기본형으로 변형해주세요\n",
    "\n",
    "한줄 한줄씩 한단어 한단어씩 꼼꼼하게 읽고 가장 정확한 판단을 해주세요\n",
    "\n",
    "답변 형식 : 사용자사전관련어휘1, 사용자사전관련어휘2, 사용자사전관련어휘3\n",
    "\n",
    "위의 같은 답변형 식으로 기사에서 사용자사전관련 어휘들만 추출해서 답해주세요\n",
    "\n",
    "사용자사전관련 관련된 토픽어휘가 없다면 없음 으로 답해주세요\n",
    "\n",
    "\n",
    "'''\n",
    "def classify_review(review, instruction):\n",
    "    response = openai.ChatCompletion.create(\n",
    "        model='gpt-4o',\n",
    "        messages=[{'role': 'system', 'content': instruction},\n",
    "                  {'role': 'user', 'content': review}],\n",
    "        max_tokens=300,\n",
    "        temperature=0)\n",
    "    return response.choices[0].message.content\n",
    "\n",
    "correct = 0\n",
    "incorrect = 0\n",
    "results = []\n",
    "\n",
    "for review in df['title_content']:\n",
    "    print(review)\n",
    "    response = classify_review(review, system_prompt)\n",
    "    print(response)\n",
    "    print()\n",
    "\n",
    "    # 리스트에 결과 저장\n",
    "    results.append([review, response])\n",
    "\n",
    "# 결과를 데이터프레임으로 변환\n",
    "df_results = pd.DataFrame(results, columns=['Review', 'impact_keywords'])"
   ]
  },
  {
   "cell_type": "code",
   "execution_count": null,
   "metadata": {
    "id": "Var0nZOAdhnF"
   },
   "outputs": [],
   "source": [
    "# 단어 빈도 분석\n",
    "from sklearn.feature_extraction.text import CountVectorizer\n",
    "import pandas as pd\n",
    "\n",
    "cv = CountVectorizer(max_features=5000, ngram_range=(1,1))  # 상위 5000개 단어\n",
    "tdm = cv.fit_transform(df_results['impact_keywords'])  # 데이터의 칼럼을 대상으로 빈도수를 계산\n",
    "\n",
    "# 단어와 빈도를 데이터프레임으로 변환\n",
    "impact_tf = pd.DataFrame({'단어': cv.get_feature_names_out(), '빈도': tdm.sum(axis=0).flat})\n",
    "\n",
    "# 빈도수 기준으로 내림차순 정렬\n",
    "impact_tf = impact_tf.sort_values('빈도', ascending=False)\n",
    "\n",
    "# 전체 단어 빈도수 합계 계산\n",
    "total_word_count = impact_tf['빈도'].sum()\n",
    "\n",
    "# 각 단어의 빈도 비율(%) 계산\n",
    "impact_tf['비율(%)'] = (impact_tf['빈도'] / total_word_count) * 100\n",
    "\n",
    "impact_tf = impact_tf.reset_index(drop=True)\n",
    "impact_tf.index = impact_tf.index + 1\n"
   ]
  },
  {
   "cell_type": "code",
   "execution_count": null,
   "metadata": {
    "id": "UFU6UClndhvE"
   },
   "outputs": [],
   "source": [
    "from wordcloud import WordCloud\n",
    "import matplotlib.pyplot as plt\n",
    "if word_freq:  # 단어가 있을 때만 워드 클라우드 생성\n",
    "\n",
    "  font_path = 'NanumBarunGothic.ttf'\n",
    "\n",
    "  # 단어와 빈도수를 딕셔너리 형태로 변환 (워드 클라우드에 맞게)\n",
    "  word_freq = dict(zip(impact_tf['단어'], impact_tf['빈도']))\n",
    "\n",
    "  # 워드 클라우드 생성\n",
    "  wordcloud = WordCloud(width=800, height=400, background_color='gray', font_path=font_path, max_words=200).generate_from_frequencies(word_freq)\n",
    "\n",
    "  # 워드 클라우드 시각화\n",
    "  plt.figure(figsize=(10, 6))\n",
    "  plt.imshow(wordcloud, interpolation='bilinear')\n",
    "  plt.axis('off')  # 축 숨기기\n",
    "  plt.show()"
   ]
  },
  {
   "cell_type": "markdown",
   "metadata": {
    "id": "sHQFXxVGMRLK"
   },
   "source": [
    "# 종합 분석 리포트"
   ]
  },
  {
   "cell_type": "code",
   "execution_count": null,
   "metadata": {
    "colab": {
     "base_uri": "https://localhost:8080/"
    },
    "executionInfo": {
     "elapsed": 15256,
     "status": "ok",
     "timestamp": 1747648700399,
     "user": {
      "displayName": "이진규",
      "userId": "17496981203379941373"
     },
     "user_tz": -540
    },
    "id": "zn6aOodaMM3B",
    "outputId": "a8a6115b-5991-46cd-a231-5b56a0c3c8d8"
   },
   "outputs": [
    {
     "name": "stdout",
     "output_type": "stream",
     "text": [
      "한국무브넥스(종목코드: 100525)  \n",
      "기본적 분석 리포트 (2024년 6월  기준)\n",
      "\n",
      "1. 뉴스 감성 분석 요약\n",
      "- 긍정: 10%\n",
      "- 매우 나쁨: 50%\n",
      "- 부정: 10%\n",
      "- 중립: 30%\n",
      "\n",
      "최근 네이버 뉴스 기사에서 한국무브넥스에 대한 부정적 및 매우 부정적(총 60%) 보도가 압도적으로 많았으며, 긍정적 보도는 10%에 불과합니다. 중립적 보도도 30%로 나타나, 투자심리가 전반적으로 위축되어 있음을 알 수 있습니다.\n",
      "\n",
      "2. 주요 긍·부정 어휘 분석\n",
      "- 긍정어휘: ‘강세 상승세’, ‘강세 오르다’, ‘상승 강세’\n",
      "- 부정어휘: ‘하한가’, ‘급락’, ‘부인’, ‘경고’, ‘내리다’, ‘급락세’, ‘하락’, ‘하락세’\n",
      "\n",
      "최근 뉴스에서는 ‘급락’, ‘하한가’, ‘하락세’ 등 주가의 급격한 하락과 관련된 부정적 표현이 빈번하게 등장하고 있습니다. 반면, ‘강세’, ‘상승세’ 등 긍정적 표현은 상대적으로 적게 나타났습니다.\n",
      "\n",
      "3. 주요 토픽 어휘\n",
      "- 긍정: ‘공시’, ‘배당금’, ‘상승’, ‘현금’\n",
      "- 부정: ‘급락’, ‘하한가’, ‘내리다’, ‘부인’, ‘하락세’\n",
      "\n",
      "긍정 토픽에서는 배당금, 현금 등 주주환원 정책이나 재무 건전성과 관련된 키워드가 일부 보이나, 부정 토픽에서는 주가 급락, 하한가 등 투자자 입장에서 우려되는 이슈가 두드러집니다.\n",
      "\n",
      "4. 대기업 및 글로벌 트렌드 관련성\n",
      "- 대기업 및 글로벌 트렌드 관련 어휘: ‘없음’, ‘oil’, ‘대기업’, ‘삼성’, ‘현대자동차’ 등\n",
      "- 분석 결과, 한국무브넥스 관련 기사에서는 대기업 및 글로벌 트렌드와의 직접적 연관성이나 협력 이슈가 거의 언급되지 않았습니다.\n",
      "\n",
      "5. 종합 평가 및 투자 의견\n",
      "\n",
      "(1) 투자심리  \n",
      "최근 뉴스 흐름상 투자심리가 매우 위축되어 있습니다. 주가의 급락, 하한가 등 부정적 이슈가 집중적으로 보도되고 있어 단기적 반등 모멘텀은 약한 상황입니다.\n",
      "\n",
      "(2) 펀더멘털  \n",
      "배당금, 현금 등 일부 긍정적 재무 키워드가 포착되나, 전반적으로 시장 신뢰를 회복할 만한 강력한 재료는 부족해 보입니다.\n",
      "\n",
      "(3) 대외 변수  \n",
      "대기업, 글로벌 트렌드와의 연관성이 낮아 외부 수혜 기대감도 제한적입니다.\n",
      "\n",
      "(4) 결론  \n",
      "현재 한국무브넥스는 부정적 뉴스가 압도적으로 많고, 투자심리도 매우 위축된 상태입니다. 단기적 반등보다는 추가 하락 위험에 유의해야 하며, 신규 진입보다는 관망이 바람직합니다. 이미 보유 중이라면 손실 관리 및 리스크 점검이 필요합니다.  \n",
      "단, 향후 긍정적 공시나 실적 개선, 대외 협력 이슈 등 반전 모멘텀이 확인될 경우 재검토가 필요합니다.\n",
      "\n",
      "※ 본 리포트는 최신 뉴스 데이터에 기반한 참고용 의견이며, 최종 투자 판단은 투자자 본인의 책임입니다.\n"
     ]
    }
   ],
   "source": [
    "import openai\n",
    "\n",
    "\n",
    "# 1. 긍부정 비율 분석 결과\n",
    "classification_percentages_df = pd.DataFrame(classification_percentages, columns=['Percentage'])\n",
    "\n",
    "positive_ratio = classification_percentages_df.to_dict()['Percentage']  # 긍부정 비율 데이터를 딕셔너리로 변환\n",
    "\n",
    "# 2. 긍정 어휘 빈도 연결\n",
    "positive_words_freq = positive_word_tf['단어'].to_list()[:10]  # 긍정 어휘 상위 10개 추출\n",
    "\n",
    "# 3. 부정 어휘 빈도 연결\n",
    "negative_words_freq = negative_word_tf['단어'].to_list()[:10]  # 부정 어휘 상위 10개 추출\n",
    "\n",
    "# 4. 긍정 토픽 어휘 빈도 연결\n",
    "positive_topics_freq = positivie_topic_tf['단어'].to_list()[:10]  # 긍정 토픽 상위 10개 추출\n",
    "\n",
    "# 5. 부정 토픽 어휘 빈도 연결\n",
    "negative_topics_freq = negative_topic_tf['단어'].to_list()[:10]  # 부정 토픽 상위 10개 추출\n",
    "\n",
    "# 6. 글로벌 대기업트렌드 관련 어휘 빈도 연결\n",
    "impact_freq = impact_tf['단어'].to_list()[:10]  # 부정 토픽 상위 10개 추출\n",
    "\n",
    "\n",
    "# GPT 분석 요청 함수\n",
    "def generate_analysis_report(positive_ratio, positive_words_freq, negative_words_freq, positive_topics_freq, negative_topics_freq,impact_freq, query):\n",
    "    system_prompt = f'''\n",
    "    다믐은 {query} 종목에 관한 오늘자 최신 네이버 뉴스기사를 수집해서  분석한 내용입니다.\n",
    "\n",
    "    당신은 국내에서 가장 수익률이 좋은 주식투자자입니다.\n",
    "\n",
    "    아래  {query} 종목에 관한 객관적인 데이터를 바탕으로 해서 해당 종목에 관한 기본적 분석 리포트를 작성해주세요.\n",
    "\n",
    "    긍부정비율: {classification_percentages}\n",
    "    긍정어휘: {positive_words_freq}\n",
    "    부정어휘: {negative_words_freq}\n",
    "    긍정토픽어휘: {positive_topics_freq}\n",
    "    부정토픽어휘: {negative_topics_freq}\n",
    "    대기업 및 글로벌트렌드관련 어휘: {impact_freq}\n",
    "    '''\n",
    "\n",
    "    # GPT 요청\n",
    "    response = openai.ChatCompletion.create(\n",
    "        model=\"gpt-4.1\",\n",
    "        messages=[{'role': 'system', 'content': system_prompt}],\n",
    "        max_tokens=2000,\n",
    "        temperature=0.3\n",
    "    )\n",
    "\n",
    "    return response.choices[0].message.content\n",
    "\n",
    "\n",
    "# GPT로부터 분석 리포트 생성\n",
    "report = generate_analysis_report(positive_ratio, positive_words_freq, negative_words_freq, positive_topics_freq, negative_topics_freq, impact_freq, query)\n",
    "\n",
    "# 결과 출력\n",
    "print(report)\n"
   ]
  },
  {
   "cell_type": "markdown",
   "metadata": {
    "id": "AFTr94amNph1"
   },
   "source": [
    "## 프롬프트 엔지니어링을 통한 파이썬 코드 작성(주가 기술적 분석)"
   ]
  },
  {
   "cell_type": "markdown",
   "metadata": {
    "id": "Hx8VHECrORtr"
   },
   "source": [
    "\n",
    "\n",
    "CoT기반프롬프트 설계\n",
    "\n",
    "\"\"\"삼성전자 주가의 종가와 거래량,등락률을 시각화하는 파이썬 코드를 짜려고 해! 각 단계별로 나누어 진행하되 단계별로 항상 나에게 의견을 물어본 뒤 다음 단계를 진행해줘. 그리고 파이썬 코드 정보는 다음과 같아.\n",
    "- 단계별로 코랩에서 파이썬 코드를 실행할거야!\n",
    "- finance-datareader와 matplot 라이브러리 설치 후 사용해줘!\n",
    "- DataReader 메서드를 사용해줘\n",
    "- 기간은 최근 6달간을 기준으로 해줘!\n",
    "- 파이썬 초보자도 쉽게 알 수 있게끔 주석을 달아줘.\n",
    "- 그래프 라벨은 데이터와 동일한 영어 변수로 해줘!\n",
    "- 종가,거래량,등략률의 값을 samsung_data 변수에 저장해줘!\n",
    "\"\"\"\n"
   ]
  },
  {
   "cell_type": "code",
   "execution_count": null,
   "metadata": {
    "id": "3ML-fVZAO0FL"
   },
   "outputs": [],
   "source": [
    "import openai\n",
    "\n",
    "\n",
    "# GPT 분석 요청 함수\n",
    "def generate_analysis_report(positive_ratio, positive_words_freq, negative_words_freq, positive_topics_freq, negative_topics_freq,impact_freq, query,samsung_data):\n",
    "    system_prompt = f'''\n",
    "    다믐은 {query} 종목에 관한 주가데이터와 내용을 수집해서 분석한 내용입니다.\n",
    "\n",
    "    당신은  전세계에서 가장 수익율이 높은 최고의 주가투자자 입니다.\n",
    "\n",
    "    아래  {query} 종목에 관한 기본적,기술적 자료를 바탕으로 해서 투자 분석 리포트를 작성해주세요.\n",
    "\n",
    "    기본적 분석 데이터(네이버뉴스기사분석 오늘자)\n",
    "\n",
    "    긍부정비율: {classification_percentages}\n",
    "    긍정어휘: {positive_words_freq}\n",
    "    부정어휘: {negative_words_freq}\n",
    "    긍정토픽어휘: {positive_topics_freq}\n",
    "    부정토픽어휘: {negative_topics_freq}\n",
    "    대기업 및 글로벌트렌드관련 어휘: {impact_freq}\n",
    "\n",
    "\n",
    "    기술적 분석 데이터\n",
    "    최근 6달간 종가,거래량,등락률: {samsung_data}\n",
    "    '''\n",
    "\n",
    "    # GPT 요청\n",
    "    response = openai.ChatCompletion.create(\n",
    "        model=\"gpt-4o\",\n",
    "        messages=[{'role': 'system', 'content': system_prompt}],\n",
    "        max_tokens=3000,\n",
    "        temperature=0.3\n",
    "    )\n",
    "\n",
    "    return response.choices[0].message.content\n",
    "\n",
    "# GPT로부터 분석 리포트 생성\n",
    "report = generate_analysis_report(positive_ratio, positive_words_freq, negative_words_freq, positive_topics_freq, negative_topics_freq,impact_freq, query,samsung_data)\n",
    "\n",
    "# 결과 출력\n",
    "print(report)\n"
   ]
  }
 ],
 "metadata": {
  "colab": {
   "provenance": []
  },
  "kernelspec": {
   "display_name": "Python 3",
   "name": "python3"
  },
  "language_info": {
   "name": "python"
  }
 },
 "nbformat": 4,
 "nbformat_minor": 0
}
