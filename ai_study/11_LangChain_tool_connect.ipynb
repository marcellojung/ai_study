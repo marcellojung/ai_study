{
  "cells": [
    {
      "cell_type": "markdown",
      "metadata": {
        "id": "0jAGUXlygd-z"
      },
      "source": [
        "# LangChain과 다양한 툴 연동하기\n"
      ]
    },
    {
      "cell_type": "markdown",
      "metadata": {
        "id": "83hXFPt_gkXU"
      },
      "source": [
        "\n",
        "이 코드는 LangChain을 이용해 다양한 툴을 연동하는 방법을 설명합니다. LLM(Large Language Model)은 툴을 사용해 더욱 정확하고 다양한 답변을 생성할 수 있습니다. 예를 들어, 위키피디아 검색을 통해 정보를 얻거나, 특정 연산을 수행할 수 있습니다.\n",
        "\n",
        "필요한 라이브러리를 설치하고 환경 변수를 설정합니다.\n"
      ]
    },
    {
      "cell_type": "markdown",
      "metadata": {
        "id": "gn_QeZx8YKuS"
      },
      "source": [
        "# LangChain과 툴 연동의 큰 그림 쉽게 이해하기\n",
        "\n",
        "---\n",
        "\n",
        "## 🧠 왜 이걸 하는 걸까?\n",
        "\n",
        "요즘 AI가 똑똑하다고 하지만, 실제로 정보를 검색하거나 계산을 하도록 하려면 단순히 말만 잘하는 것 이상이 필요합니다.  \n",
        "예를 들어, 누군가 \"2002년에 한국에서 무슨 일이 있었어?\"라고 물으면, AI가 인터넷이나 백과사전처럼 **외부의 실제 정보**에 접근할 수 있어야 제대로 대답할 수 있습니다.  \n",
        "바로 이 지점에서 **LangChain**이 활약합니다.\n",
        "\n",
        "---\n",
        "\n",
        "## 🏗️ LangChain의 역할이 뭐야?\n",
        "\n",
        "LangChain은 **AI가 다양한 도구들을 활용해서 똑똑하게 일하도록 도와주는 플랫폼**입니다.\n",
        "\n",
        "우리는 여기서 이렇게 생각해볼 수 있어요:\n",
        "\n",
        "- LangChain = \"AI 비서\"를 훈련시키는 플랫폼  \n",
        "- 도구(tool) = AI가 일을 하기 위해 사용하는 **계산기, 백과사전, 웹 브라우저 같은 도구들**  \n",
        "- 에이전트(agent) = 여러 도구를 상황에 맞게 사용할 줄 아는 **멀티태스킹 비서**\n",
        "\n",
        "---\n",
        "\n",
        "## 🪄 이 코드에서 하는 일은?\n",
        "\n",
        "이 코드는 3단계로 나뉘어 진행됩니다:\n",
        "\n",
        "### 1️⃣ 준비 단계 – 도구 챙기기\n",
        "AI가 쓸 수 있는 툴을 준비합니다.\n",
        "- 🧮 `addition`: 더하기 계산기 도구\n",
        "- 📚 `Wikipedia`: 위키백과 검색 도구\n",
        "- 🌐 `WebSearch`: 실시간 웹 검색 도구\n",
        "\n",
        "### 2️⃣ AI 비서 만들기 – 에이전트 설정\n",
        "이제 도구를 쓸 줄 아는 \"스마트 비서(AI)\"를 만듭니다.\n",
        "- LangChain의 **Agent**를 이용해서, AI가 어떤 질문이 들어오면 상황에 맞게 어떤 도구를 써야 하는지 스스로 판단하도록 합니다.\n",
        "\n",
        "### 3️⃣ 실제 사용 – 질문하고 결과 받기\n",
        "이제 사용자가 질문을 던지면, AI 비서가 필요한 정보를 검색하고 계산도 해주는 스마트한 결과를 줍니다.\n",
        "- 예: \"2+2는?\" → 계산기 도구 사용\n",
        "- 예: \"한국에서 월드컵 열린 연도는?\" → 위키 검색 → 연도 숫자 꺼냄 → 숫자 곱하기\n",
        "\n",
        "---\n",
        "\n",
        "## 🎯 핵심만 정리하면?\n",
        "\n",
        "> \"AI에게 백과사전, 계산기, 웹검색 같은 도구를 주고, 스스로 필요할 때 적절히 꺼내 쓰게 만드는 것이 이 코드의 핵심입니다.\"\n",
        "\n",
        "즉, 이 코드는:\n",
        "1. AI에게 다양한 도구를 제공하고\n",
        "2. 도구를 상황에 따라 고르게 하며\n",
        "3. 사용자의 질문을 해결하도록 구성하는 일련의 과정입니다.\n",
        "\n",
        "---\n",
        "\n",
        "## 📌 다음은 어떤 방향으로 볼까?\n",
        "\n",
        "- 위 코드에서 사용한 도구 하나하나가 어떤 역할을 하는지\n",
        "- 에이전트는 어떤 논리로 도구를 선택하는지\n",
        "- 사용자가 입력한 문장이 어떻게 처리되는지\n",
        "\n",
        "이런 세부 내용은 큰 틀을 이해한 후에 자연스럽게 배워나갈 수 있습니다.\n"
      ]
    },
    {
      "cell_type": "markdown",
      "metadata": {
        "id": "guL6dKlfiRbq"
      },
      "source": [
        "참고 https://python.langchain.com/v0.2/docs/integrations/retrievers/wikipedia/"
      ]
    },
    {
      "cell_type": "code",
      "execution_count": 1,
      "metadata": {
        "colab": {
          "base_uri": "https://localhost:8080/"
        },
        "id": "ElygTkB0glo_",
        "outputId": "437c5203-afe7-4e65-f268-586b2cc2fed2"
      },
      "outputs": [
        {
          "name": "stdout",
          "output_type": "stream",
          "text": [
            "  Preparing metadata (setup.py) ... \u001b[?25l\u001b[?25hdone\n",
            "\u001b[2K   \u001b[90m━━━━━━━━━━━━━━━━━━━━━━━━━━━━━━━━━━━━━━━━\u001b[0m \u001b[32m63.4/63.4 kB\u001b[0m \u001b[31m3.7 MB/s\u001b[0m eta \u001b[36m0:00:00\u001b[0m\n",
            "\u001b[2K   \u001b[90m━━━━━━━━━━━━━━━━━━━━━━━━━━━━━━━━━━━━━━━━\u001b[0m \u001b[32m2.5/2.5 MB\u001b[0m \u001b[31m22.4 MB/s\u001b[0m eta \u001b[36m0:00:00\u001b[0m\n",
            "\u001b[2K   \u001b[90m━━━━━━━━━━━━━━━━━━━━━━━━━━━━━━━━━━━━━━━━\u001b[0m \u001b[32m438.3/438.3 kB\u001b[0m \u001b[31m14.7 MB/s\u001b[0m eta \u001b[36m0:00:00\u001b[0m\n",
            "\u001b[2K   \u001b[90m━━━━━━━━━━━━━━━━━━━━━━━━━━━━━━━━━━━━━━━━\u001b[0m \u001b[32m44.4/44.4 kB\u001b[0m \u001b[31m2.7 MB/s\u001b[0m eta \u001b[36m0:00:00\u001b[0m\n",
            "\u001b[2K   \u001b[90m━━━━━━━━━━━━━━━━━━━━━━━━━━━━━━━━━━━━━━━━\u001b[0m \u001b[32m50.9/50.9 kB\u001b[0m \u001b[31m2.7 MB/s\u001b[0m eta \u001b[36m0:00:00\u001b[0m\n",
            "\u001b[?25h  Building wheel for wikipedia (setup.py) ... \u001b[?25l\u001b[?25hdone\n"
          ]
        }
      ],
      "source": [
        "!pip install wikipedia matplotlib langchain langchain-openai langchainhub langchain-community -q\n",
        "!pip install -qU langchain_community wikipedia\n",
        "\n",
        "# ✅ 포인트: 필요한 라이브러리 설치\n",
        "# - langchain 관련 라이브러리를 설치합니다. LangChain은 AI가 외부 도구와 연결될 수 있게 도와주는 프레임워크입니다.\n",
        "# - `-q` 옵션은 설치 로그를 줄여서 깔끔하게 만들어 줍니다.\n",
        "# - `wikipedia`: 위키백과에서 정보를 가져오는 데 사용됩니다.\n",
        "# - `matplotlib`: 데이터 시각화에 사용하는 라이브러리지만, 여기서는 실제 사용되지 않고 설치만 되어 있습니다.\n",
        "# - `langchain-community`: LangChain과 통합된 커뮤니티 도구들(여기서는 위키 검색 기능 포함)\n"
      ]
    },
    {
      "cell_type": "markdown",
      "metadata": {
        "id": "yNyb4U9uOSrZ"
      },
      "source": [
        "# 위키피디아 검색1"
      ]
    },
    {
      "cell_type": "code",
      "execution_count": 2,
      "metadata": {
        "id": "ZOVZ2BCTh649"
      },
      "outputs": [],
      "source": [
        "from langchain_community.retrievers import WikipediaRetriever\n",
        "\n",
        "# ✅ 포인트: Wikipedia 검색기 불러오기\n",
        "# - LangChain에서 제공하는 'WikipediaRetriever'를 가져옵니다.\n",
        "# - 이 객체는 말 그대로 '위키백과 검색기' 역할을 합니다.\n",
        "# - 사용자가 특정 키워드를 입력하면, 위키백과에서 해당 내용을 찾아 반환합니다.\n",
        "\n",
        "retriever = WikipediaRetriever()\n",
        "\n",
        "# ✅ 포인트: 위키백과 검색기 초기화\n",
        "# - 위에서 불러온 WikipediaRetriever 클래스를 인스턴스화해서 'retriever'라는 이름으로 저장합니다.\n",
        "# - 앞으로 'retriever'를 통해 위키 검색 기능을 사용할 수 있게 됩니다.\n"
      ]
    },
    {
      "cell_type": "code",
      "execution_count": 3,
      "metadata": {
        "id": "Ke9gwEc7h8FK"
      },
      "outputs": [],
      "source": [
        "docs = retriever.invoke(\"TOKYO\")\n",
        "\n",
        "# ✅ 포인트: 위키백과에서 'TOKYO' 검색\n",
        "# - invoke() 함수는 'TOKYO'라는 검색어를 위키백과에 전달하여, 관련 문서를 가져옵니다.\n",
        "# - 결과는 'docs'라는 변수에 저장되며, 여러 문서가 리스트 형태로 담길 수 있습니다.\n",
        "# - 즉, 'docs'는 위키백과에서 검색된 결과 리스트입니다.\n"
      ]
    },
    {
      "cell_type": "code",
      "execution_count": 4,
      "metadata": {
        "colab": {
          "base_uri": "https://localhost:8080/"
        },
        "id": "22IvkUVyh9nk",
        "outputId": "b863ce8e-245b-4c61-bade-7c87ba69f523"
      },
      "outputs": [
        {
          "name": "stdout",
          "output_type": "stream",
          "text": [
            "Tokyo, officially the Tokyo Metropolis, is the capital and most populous city in Japan. With a population of over 14 million in the city proper in 2023, it is one of the most populous urban areas in the world. The Greater Tokyo Area, which includes Tokyo and parts of six neighboring prefectures, is the most populous metropolitan area in the world, with 41 million residents as of 2024.\n",
            "Lying at the\n"
          ]
        }
      ],
      "source": [
        "print(docs[0].page_content[:400])\n",
        "\n",
        "# ✅ 포인트: 첫 번째 문서 내용 일부 출력\n",
        "# - docs[0]는 검색 결과 중 첫 번째 문서를 의미합니다.\n",
        "# - page_content는 위키 문서의 본문 텍스트입니다.\n",
        "# - [:400]은 너무 길지 않게 처음 400자만 잘라서 출력합니다.\n",
        "# 👉 예시: 위키백과에서 \"도쿄\"를 검색했을 때 나오는 글의 도입부를 콘솔에 보여줍니다.\n",
        "\n",
        "# 🎯 정리\n",
        "# 1. LangChain의 Wikipedia 검색기를 초기화하고,\n",
        "# 2. 키워드를 이용해 위키백과에서 검색하고,\n",
        "# 3. 그 결과의 일부를 출력하는 흐름입니다.\n"
      ]
    },
    {
      "cell_type": "markdown",
      "metadata": {
        "id": "yXibq8xaOVL7"
      },
      "source": [
        "# 위키피디아 검색2"
      ]
    },
    {
      "cell_type": "code",
      "execution_count": 5,
      "metadata": {
        "colab": {
          "base_uri": "https://localhost:8080/"
        },
        "id": "MV0XlkkKN73r",
        "outputId": "c48c0ef8-cf6f-46bf-dff9-8e68a0f654e8"
      },
      "outputs": [
        {
          "name": "stdout",
          "output_type": "stream",
          "text": [
            "Page: Tokyo\n",
            "Summary: Tokyo, officially the Tokyo Metropolis, is the capital and most populous city in Japan. With a population of over 14 million in the city proper in 2023, it is one of the most populous urban areas in the world. The Greater Tokyo Area, which includes Tokyo and parts of six neighboring prefectures, is the most populous metropolitan area in the world, with 41 million residents as of 2024.\n",
            "Lying at the head of Tokyo Bay, Tokyo is part of the Kantō region, on the central coast of Honshu, Japan's largest island. Tokyo serves as Japan's economic center and the seat of both the Japanese government and the Emperor of Japan. The Tokyo Metropolitan Government administers Tokyo's central 23 special wards, which formerly made up Tokyo City; various commuter towns and suburbs in its western area; and two outlying island chains, the Tokyo Islands. Although most of the world recognizes Tokyo as a city, since 1943 its governing structure has been more akin to that of a prefecture, with an accompanying Governor and Assembly taking precedence over the smaller municipal governments that make up the metropolis. Special wards in Tokyo include Chiyoda, the site of the National Diet Building and the Tokyo Imperial Palace; Shinjuku, the city's administrative center; and Shibuya, a hub of commerce and business.\n",
            "Before the 17th century, Tokyo, then known as Edo, was mainly a fishing village. It gained political prominence in 1603 when it became the seat of the Tokugawa shogunate. By the mid-18th century, Edo was among the world's largest cities, with over a million residents. After the Meiji Restoration (1868), the imperial capital in Kyoto was moved to Edo, and the city was renamed Tokyo (lit. 'Eastern Capital'). In 1923, Tokyo was greatly damaged by the Great Kantō earthquake, and the city was later badly damaged by allied bombing raids during World War II. Beginning in the late 1940s, Tokyo underwent rapid reconstruction and expansion, which fueled the Japanese economic miracle, in which Japan's economy became the second largest in the world at the time, behind that of the United States. As of 2023, the city is home to 29 of the world's 500 largest companies, as listed in the annual Fortune Global 500—the second highest number of any city.\n",
            "Tokyo became the first city in Asia to host the Summer Olympics and Paralympics, in 1964 and then in 2021. It also hosted three G7 summits, in 1979, 1986, and 1993. Tokyo is an international hub of research and development and an academic center, with several major universities, including the University of Tokyo, the top-ranking university in Japan. Tokyo Station is the central hub for the Shinkansen, the country's high-speed railway network; and the city's Shinjuku Station is the world's busiest train station. Tokyo Skytree is the world's tallest tower. The Tokyo Metro Ginza Line, which opened in 1927, is the oldest underground metro line in the Asia–Pacific region.\n",
            "Tokyo's nominal gross domestic output was 113.7 trillion yen (US$1.04 trillion) in FY2021 and accounted for 20.7% of the country's total economic output, which converts to 8.07 million yen or US$73,820 per capita. Including the Greater Tokyo Area, Tokyo is the second-largest metropolitan economy in the world after New York, with a 2022 gross metropolitan product estimated at US$2.08 trillion. Although Tokyo's status as a leading global financial hub has diminished with the Lost Decades since the 1990s, when the Tokyo Stock Exchange (TSE) was the world's largest, with a market capitalization about 1.5 times that of the NYSE, Tokyo is still a leading financial hub, and the TSE remains among the world's top five major stock exchanges. Tokyo is categorized as an Alpha+ city by the Globalization and World Cities Research Network. The city is also recognized as one of the world's most livable; it is currently ranked 14th in the 2024 edition of the Global Livability Ranking. Tokyo has also been ranked as the safest city in the world in multiple international surveys.\n",
            "\n",
            "Page: Tokyo!\n",
            "Summary: Tokyo! is a 2008 anthology film containing three segments written by three non-Japanese directors and filmed in Tokyo, Japan. Michel Gondry directed \"Interior Design\", Leos Carax directed \"Merde\", and Bong Joon-ho directed \"Shaking Tokyo\"\n",
            "\n",
            "\n",
            "\n",
            "Page: Bombing of Tokyo\n",
            "Summary: The bombing of Tokyo (東京空襲, Tōkyō kūshū) was a series of air raids on Japan by the United States Army Air Forces (USAAF), primarily launched during the closing campaigns of the Pacific Theatre of World War II in 1944–1945, prior to the atomic bombings of Hiroshima and Nagasaki.\n",
            "The strikes conducted by the USAAF on the night of 9–10 March 1945, codenamed Operation Meetinghouse, constitute the single most destructive aerial bombing raid in human history. 16 square miles (41 km2; 10,000 acres) of central Tokyo was destroyed, leaving an estimated 100,000 civilians dead and over one million homeless.\n",
            "The U.S. mounted the Doolittle Raid, a small-scale air raid on Tokyo b\n"
          ]
        }
      ],
      "source": [
        "from langchain_community.tools import WikipediaQueryRun\n",
        "from langchain_community.utilities import WikipediaAPIWrapper\n",
        "# ✅ 포인트: 위키백과 검색 기능을 사용하기 위한 두 가지 핵심 구성요소를 임포트합니다.\n",
        "# - WikipediaAPIWrapper: 위키백과 API를 사용해 검색을 실행하는 기능을 담당합니다.\n",
        "# - WikipediaQueryRun: 실제 LangChain 도구(tool)로 사용될 수 있도록 API를 감싸는 래퍼 역할을 합니다.\n",
        "# 👉 쉽게 말해: 백엔드 검색 기능 + LangChain 도구 연결 역할\n",
        "\n",
        "# ✅ 포인트: 위키백과 검색 API 초기화\n",
        "# - top_k_results=3: 최대 3개의 검색 결과만 가져오도록 설정합니다.\n",
        "# - doc_content_chars_max=5000: 한 문서에서 가져올 텍스트의 최대 글자 수를 5000자로 제한합니다.\n",
        "# 👉 이 두 설정을 통해 너무 많은 정보가 들어오는 것을 방지하고, 딱 적당한 양의 요약 정보만 받게 합니다.\n",
        "wiki_api = WikipediaAPIWrapper(top_k_results=3, doc_content_chars_max=5000)\n",
        "\n",
        "# ✅ 포인트: 위 API를 LangChain 도구로 포장 (tool화)\n",
        "# - LangChain에서 사용할 수 있는 '도구' 형식으로 변환해주는 작업입니다.\n",
        "# - 이렇게 생성된 wiki_search는 LangChain 에이전트나 함수에서 직접 호출이 가능한 도구가 됩니다.\n",
        "# 👉 쉽게 말해: 'wiki_search'는 우리가 쓸 수 있는 검색 명령어 도구처럼 됩니다.\n",
        "wiki_search = WikipediaQueryRun(api_wrapper=wiki_api)\n",
        "\n",
        "# ✅ 포인트: 실제 검색 실행\n",
        "# - invoke()는 LangChain 도구에서 실제 기능을 실행하는 메서드입니다.\n",
        "# - {\"query\": \"TOKYO\"}는 우리가 검색하고 싶은 키워드입니다. 여기서는 'TOKYO'로 검색합니다.\n",
        "# - 결과는 위키백과에서 가져온 텍스트로 반환되며, print를 통해 결과를 콘솔에 출력합니다.\n",
        "# 👉 예시: 사용자가 \"TOKYO에 대해 알려줘\"라고 말했을 때, AI가 위키백과에서 해당 정보를 찾아 출력하는 모습\n",
        "\n",
        "print(wiki_search.invoke({\"query\": \"TOKYO\"}))\n"
      ]
    },
    {
      "cell_type": "markdown",
      "metadata": {
        "id": "ijSu31Evgd-1"
      },
      "source": [
        "# Agent 에이전트 생성 및 실행 예제\n"
      ]
    },
    {
      "cell_type": "markdown",
      "metadata": {
        "id": "2udQAw35gorx"
      },
      "source": [
        "에이전트 는 LLM(대규모 언어 모델)과 도구들을 활용하여 사용자의 요청을 수행하는 에이전트를 생성하고 실행하는 방법을 설명합니다.\n",
        "아래 코드는 사용자가 입력한 내용을 바탕으로 결과를 도출합니다."
      ]
    },
    {
      "cell_type": "code",
      "execution_count": 6,
      "metadata": {
        "id": "i2BAOnhNRBOx"
      },
      "outputs": [],
      "source": [
        "import openai\n",
        "import os\n",
        "from langchain_openai import ChatOpenAI\n",
        "\n",
        "# ✅ 포인트: 필요한 라이브러리 import\n",
        "# - openai: OpenAI API 관련 설정이나 호출을 직접 다룰 때 사용되는 기본 라이브러리입니다.\n",
        "# - os: 환경 변수 설정 등 운영체제와 관련된 작업을 도와주는 표준 라이브러리입니다.\n",
        "# - langchain_openai.ChatOpenAI: LangChain에서 OpenAI의 GPT 모델을 사용할 수 있게 해주는 클래스입니다.\n",
        "# 👉 예시: 우리가 이 코드에서 사용할 GPT-3.5 모델을 LangChain과 연결해주는 역할입니다.\n",
        "\n",
        "\n",
        "# ✅ 포인트: 환경 변수로 OpenAI API 키 설정\n",
        "# - 환경 변수는 민감한 정보를 코드에 직접 드러내지 않고 외부에서 주입하는 안전한 방식입니다.\n",
        "# - 'OPENAI_API_KEY'는 OpenAI 서비스를 사용할 때 인증을 위해 꼭 필요한 키입니다.\n",
        "# - 실제 강의에서는 키를 깃허브에 올리지 않도록 `.env` 파일이나 환경변수 설정을 사용하는 습관을 강조하세요!\n",
        "\n",
        "# ✅ 포인트: ChatOpenAI 모델 초기화\n",
        "# - GPT-3.5-turbo 모델을 사용하는 LLM 객체를 생성합니다.\n",
        "# - model_name: 사용할 모델 이름 지정. 여기서는 'gpt-3.5-turbo'.\n",
        "# - temperature: 생성되는 답변의 '창의성' 정도를 설정합니다.\n",
        "#     - 0이면 정답처럼 확정적인 응답 (예: 수학 문제)\n",
        "#     - 1에 가까울수록 다양하고 창의적인 문장 (예: 시나 스토리)\n",
        "# 👉 예시: 여기서는 temperature=0 이므로 정확하고 예측 가능한 응답을 원할 때 적합합니다.\n",
        "\n",
        "llm = ChatOpenAI(model_name=\"gpt-3.5-turbo\", temperature=0)\n"
      ]
    },
    {
      "cell_type": "code",
      "execution_count": 7,
      "metadata": {
        "id": "nDtW8p20PFVa"
      },
      "outputs": [],
      "source": [
        "# ✅ 포인트: LangChain에서 'tool' 데코레이터를 가져옵니다.\n",
        "# - 데코레이터(Decorator)는 파이썬에서 함수나 클래스에 **특별한 기능을 입히는 문법**입니다.\n",
        "# - 여기서는 이 데코레이터를 사용해 `addition()` 함수를 LangChain에서 사용할 수 있는 '도구(tool)'로 등록합니다.\n",
        "# - 즉, 이 함수를 에이전트(agent)가 사용할 수 있게 만들어주는 역할을 합니다.\n",
        "from langchain.tools import tool\n",
        "\n",
        "\n",
        "@tool  # ✅ 포인트: 이 함수는 LangChain의 '도구'로 사용할 수 있게 됩니다.\n",
        "# 👉 도구(tool)란?\n",
        "#    사용자가 어떤 요청을 했을 때, 에이전트가 이 함수를 '작업 도구'처럼 직접 실행할 수 있도록 등록하는 것입니다.\n",
        "#    예: 사용자가 \"5 더하기 3 해줘\"라고 하면, 에이전트가 이 함수를 불러서 계산합니다.\n",
        "def addition(x: int, y: int) -> int:\n",
        "    # ✅ 포인트: 두 개의 정수 x와 y를 입력받아, 결과값으로 정수 하나를 반환합니다.\n",
        "    # - (x: int, y: int): 두 개의 정수를 매개변수로 받겠다는 의미입니다.\n",
        "    # - -> int: 이 함수의 결과값이 정수(int)라는 걸 명시합니다.\n",
        "    # 👉 이런 타입 힌트는 코드 가독성에도 좋고, 나중에 오류 방지에도 도움이 됩니다.\n",
        "\n",
        "    \"x와 y를 입력받아, x와 y를 더한 결과를 반환합니다.\"\n",
        "    # ✅ 함수 설명 (docstring)\n",
        "    # - LangChain에서는 이 설명이 사용자에게 직접 보여질 수 있습니다.\n",
        "    # - 예: 사용자가 도구 목록을 요청하면 \"x와 y를 더한 결과를 반환합니다.\"라는 설명이 함께 표시됩니다.\n",
        "\n",
        "    return x + y  # ✅ 핵심 기능: 두 수를 더한 결과를 반환합니다.\n",
        "    # 👉 예시: addition(3, 5) → 8 반환"
      ]
    },
    {
      "cell_type": "code",
      "execution_count": 8,
      "metadata": {
        "id": "389unoRXPLN0"
      },
      "outputs": [],
      "source": [
        "#검색툴\n",
        "# TAVILY : 웹 검색을 수행하는 툴\n",
        "# TAVILY_API_KEY https://app.tavily.com/home\n",
        "from langchain_community.tools.tavily_search import TavilySearchResults\n",
        "# os.environ[\"TAVILY_API_KEY\"] = \n",
        "web_search = TavilySearchResults(max_results = 3)"
      ]
    },
    {
      "cell_type": "code",
      "execution_count": 9,
      "metadata": {
        "id": "zpu_OhZzPH2q"
      },
      "outputs": [],
      "source": [
        "#검색툴\n",
        "from langchain_community.tools import WikipediaQueryRun\n",
        "from langchain_community.utilities import WikipediaAPIWrapper\n",
        "api_wrapper = WikipediaAPIWrapper(top_k_results=3, doc_content_chars_max=5000)\n",
        "wiki = WikipediaQueryRun(api_wrapper=api_wrapper) # 위키피디아 쿼리 검색 툴"
      ]
    },
    {
      "cell_type": "code",
      "execution_count": 10,
      "metadata": {
        "colab": {
          "base_uri": "https://localhost:8080/"
        },
        "id": "-qztpqSVgd-1",
        "outputId": "2a499762-2117-42da-ff5f-933473c6f771"
      },
      "outputs": [
        {
          "name": "stdout",
          "output_type": "stream",
          "text": [
            "\n",
            "\n",
            "\u001b[1m> Entering new AgentExecutor chain...\u001b[0m\n",
            "\u001b[32;1m\u001b[1;3m\n",
            "Invoking: `wikipedia` with `{'query': '1984년'}`\n",
            "\n",
            "\n",
            "\u001b[0m\u001b[33;1m\u001b[1;3mPage: Ruffles and flourishes\n",
            "Summary: Ruffles and flourishes are preceding fanfare for honors music, ceremonial music for distinguished people.\n",
            "\n",
            "Page: Thriller (album)\n",
            "Summary: Thriller is the sixth studio album by the American singer and songwriter Michael Jackson, released on November 29, 1982, by Epic Records. It was produced by Quincy Jones, who previously worked with Jackson on his album Off the Wall (1979). With the ongoing backlash against disco music at the time, he moved in a new musical direction, resulting in a mix of pop, post-disco, rock, funk, synth-pop, and R&B sounds, and darker themes; Jackson wanted to create an album where \"every song was a killer\". Paul McCartney is the first credited appearance of a featured artist on a Jackson album. Recording took place from April to November 1982 at Westlake Recording Studios in Los Angeles, California, with a budget of $750,000.\n",
            "Upon its release, Thriller was lauded by critics. It was Jackson's first number-one album on the US Billboard Top LPs & Tapes chart, where it spent a record 37 non-consecutive weeks at number one, from February 26, 1983, to April 14, 1984. Seven singles were released: \"The Girl Is Mine\", \"Billie Jean\", \"Beat It\", \"Wanna Be Startin' Somethin'\", \"Human Nature\", \"P.Y.T. (Pretty Young Thing)\", and \"Thriller\". They all reached the top 10 on the US Billboard Hot 100 chart, setting a record for the most top 10 singles from an album, with \"Beat It\" and \"Billie Jean\" reaching number one. Following Jackson's performance of \"Billie Jean\" in the Motown 25 television special, where he debuted his signature moonwalk dance, the album began selling one million copies per week. Sales doubled after the release of the \"Thriller\" music video on MTV in December 1983.\n",
            "By 1984, Thriller had sold 32 million copies worldwide, making it the best-selling album of all time. It was the best-selling album of 1983 worldwide, and in 1984 became the first to become the best-selling in the United States for two years. It set industry standards, with its songs, music videos, and promotional strategies influencing artists, record labels, producers, marketers and choreographers. The success gave Jackson an unprecedented level of cultural significance for a black American, breaking racial barriers in popular music, earning him regular airplay on MTV and leading to a meeting with US President Ronald Reagan at the White House. Thriller was among the first albums to use music videos as promotional tools; the videos for \"Billie Jean\", \"Beat It\" and \"Thriller\" are credited for transforming music videos into a serious art form.\n",
            "Thriller remains the best-selling album of all time, having sold an estimated 70 million copies worldwide. It is the best selling non-compilation album and second-best-selling album overall in the United States, and was certified 34× platinum by the Recording Industry Association of America (RIAA) in 2021. Thriller is frequently included in lists of the greatest albums of all time and continues to be recognized as an important event in American culture. It won a record-breaking eight Grammy Awards at the 1984 Grammy Awards, including Album of the Year and Record of the Year for \"Beat It\". Jackson also won a record-breaking eight American Music Awards at the 1984 American Music Awards, including the Merit. In 2008, it was inducted into the Grammy Hall of Fame and the Library of Congress added it to the National Recording Registry of \"culturally, historically, or aesthetically significant recordings\".\n",
            "\n",
            "Page: Park Bom\n",
            "Summary: Park Bom (born March 24, 1984), also known mononymously as Bom, is a South Korean singer. She is best known as a member of the South Korean girl group 2NE1, which became one of the most popular South Korean girl groups worldwide. \n",
            "Park began her musical career in 2006 under YG Entertainment, featuring on singles released by label-mates Big Bang, Lexy, and Masta Wu. In 2009, she made her debut as the main vocalist of 2NE1. Under YG Entertainment, Park released two solo singles, \"You and I\" (2009) and \"Don't Cry\" (2011), which reached number one on the Gaon Digital Chart, the national music chart of South Korea. She was awarded Best Digital Single at the 2010 Mnet Asian Music Awards.\n",
            "Following 2NE1's disbandment in 2016, Park left her group's agency, YG Entertainment, in November 2016. In July 2018, she signed with D-Nation Entertainment and released her comeback single, \"Spring\", in March 2019. After that, in May 2019, Park Bom released her new repackaged album re: Blue Rose, with the single \"4:44\" featuring Wheein from Mamamoo. Park has further released digital singles including \"Do Re Mi Fa Sol\" featuring Changmo and \"Flower\" featuring Kim Min-Seok. In 2023, Park held her first solo concert, \"You & I\" and released digital single, \"I\" featuring Dawn.\u001b[0m\u001b[32;1m\u001b[1;3m1984년에는 Michael Jackson의 앨범 'Thriller'이 발매되어 많은 성공을 거뒀습니다. 또한, 한국 가수 Park Bom이 태어났습니다.\u001b[0m\n",
            "\n",
            "\u001b[1m> Finished chain.\u001b[0m\n"
          ]
        },
        {
          "data": {
            "text/plain": [
              "{'input': '1984년에 일어난 주요사건은?',\n",
              " 'output': \"1984년에는 Michael Jackson의 앨범 'Thriller'이 발매되어 많은 성공을 거뒀습니다. 또한, 한국 가수 Park Bom이 태어났습니다.\"}"
            ]
          },
          "execution_count": 10,
          "metadata": {},
          "output_type": "execute_result"
        }
      ],
      "source": [
        "from langchain.agents import AgentExecutor, create_tool_calling_agent  # ✅ 에이전트 생성과 실행에 필요한 모듈\n",
        "from langchain import hub  # ✅ LangChain에서 제공하는 프롬프트를 불러오는 데 사용하는 모듈\n",
        "from langchain_openai import ChatOpenAI, OpenAIEmbeddings  # ✅ OpenAI LLM을 LangChain에서 사용하기 위한 모듈\n",
        "\n",
        "# ✅ 포인트: 에이전트가 사용할 '도구(tool)' 목록을 정의합니다.\n",
        "# - 우리가 앞에서 만든 도구들(addition, wiki, web_search)을 리스트로 정리합니다.\n",
        "# - 이 리스트에 담긴 도구들은 에이전트가 상황에 따라 자유롭게 사용할 수 있습니다.\n",
        "# 👉 예: 사용자가 \"도쿄에 대해 알려줘\"라고 하면, 에이전트는 wiki 도구를 선택해 실행할 수 있습니다.\n",
        "tools = [addition, wiki, web_search]\n",
        "\n",
        "\n",
        "# ✅ 포인트: LangChain Hub 인증 키 설정\n",
        "# - 프롬프트(hub에서 불러오는 템플릿)를 사용하기 위해서는 인증이 필요합니다.\n",
        "# - LangSmith는 LangChain과 관련된 개발 도구 모음이며, 이 키는 개발자 인증을 위한 토큰입니다.\n",
        "# os.environ[\"LANGSMITH_API_KEY\"] \n",
        "\n",
        "\n",
        "# ✅ 포인트: LangChain에서 미리 만들어둔 에이전트용 프롬프트를 불러옵니다.\n",
        "# - 'hwchase17/openai-tools-agent'는 LangChain 공식에서 제공하는 기본 프롬프트입니다.\n",
        "# - 프롬프트란? 👉 AI가 사용자 요청을 이해하고 도구를 어떻게 활용할지를 가이드하는 일종의 명령문/설정입니다.\n",
        "# 👉 쉽게 말해, \"이 에이전트는 도구를 이렇게 써야 해\"라는 사용설명서를 받아오는 것과 같습니다.\n",
        "agent_prompt = hub.pull(\"hwchase17/openai-tools-agent\")\n",
        "\n",
        "\n",
        "# ✅ 포인트: 에이전트 생성\n",
        "# - create_tool_calling_agent()를 사용해 실제로 '도구를 사용할 수 있는 AI 비서'를 만듭니다.\n",
        "# - llm: 앞서 정의한 GPT 모델\n",
        "# - tools: 사용할 수 있는 도구 리스트\n",
        "# - agent_prompt: 위에서 불러온 에이전트용 프롬프트\n",
        "# 👉 이 세 가지가 결합되어 사용자의 요청을 받아 적절한 도구를 선택해 실행하는 똑똑한 에이전트가 만들어집니다.\n",
        "agent = create_tool_calling_agent(llm, tools, agent_prompt)\n",
        "# ✅ 포인트: 에이전트를 실행할 준비\n",
        "# - AgentExecutor는 실제로 사용자의 요청을 받았을 때 에이전트를 실행시키는 역할을 합니다.\n",
        "# - verbose=True로 설정하면 실행 로그를 자세히 볼 수 있어 디버깅과 학습에 유용합니다.\n",
        "executor = AgentExecutor(agent=agent, tools=tools, verbose=True)\n",
        "\n",
        "# ✅ 에이전트 실행 예제 ①: 간단한 계산\n",
        "# - 입력: \"2+2는?\"\n",
        "# - 실행 흐름: 에이전트는 사용자의 요청을 분석한 뒤 → '더하기 도구(addition)'가 적절하다고 판단 → 함수를 실행해 결과 반환\n",
        "executor.invoke(\n",
        "    {\n",
        "        \"input\": \"1984년에 일어난 주요사건은?\"  # 👉 예상 응답: '4'\n",
        "    }\n",
        ")\n"
      ]
    },
    {
      "cell_type": "code",
      "execution_count": 11,
      "metadata": {
        "colab": {
          "base_uri": "https://localhost:8080/"
        },
        "id": "XmMtgvojQ9nW",
        "outputId": "23d4d61e-37bf-457a-9605-f4d8b828ce81"
      },
      "outputs": [
        {
          "name": "stdout",
          "output_type": "stream",
          "text": [
            "\n",
            "\n",
            "\u001b[1m> Entering new AgentExecutor chain...\u001b[0m\n",
            "\u001b[32;1m\u001b[1;3m\n",
            "Invoking: `wikipedia` with `{'query': '한국에서 월드컵이 열린 연도'}`\n",
            "\n",
            "\n",
            "\u001b[0m\u001b[33;1m\u001b[1;3mNo good Wikipedia Search Result was found\u001b[0m\u001b[32;1m\u001b[1;3m\n",
            "Invoking: `wikipedia` with `{'query': 'FIFA 월드컵 한국'}`\n",
            "\n",
            "\n",
            "\u001b[0m\u001b[33;1m\u001b[1;3mPage: 2002 FIFA World Cup\n",
            "Summary: The 2002 FIFA World Cup, also branded as Korea/Japan 2002, was the 17th FIFA World Cup, the quadrennial football world championship for men's national teams organized by FIFA. It was held from 31 May to 30 June 2002 at sites in South Korea and Japan, with its final match hosted by Japan at International Stadium in Yokohama. During the opening ceremony, the championship was declared opened by President of South Korea Kim Dae-jung.\n",
            "A field of 32 teams qualified for this World Cup, which was the first to be held in Asia, the first to be held outside of the Americas or Europe, as well as the first to be jointly hosted by more than one nation. China, Ecuador, Senegal and Slovenia made their World Cup debuts, with Senegal being the only debutant to qualify from the group stages and make it to the quarterfinals.\n",
            "The tournament had several upsets and surprise results, which included the defending champions France being eliminated in the group stage after earning a single point without scoring a goal and second favourites Argentina also being eliminated in the group stage. South Korea managed to reach the semi-finals, beating Poland, Portugal, Italy and Spain en route. They became the first team from outside of the UEFA, CONMEBOL, and CONCACAF regions and one of the first Asian teams (along with Turkey in this World Cup) to reach the semi-finals of a World Cup. However, the most potent team at the tournament, Brazil, prevailed, winning the final against Germany 2–0, making them the first and only country to have won the World Cup five times. The victory qualified Brazil for the 2003 and subsequently 2005 FIFA Confederations Cups, its fourth and fifth Confederations Cup appearance in a row. In the third place play-off match against South Korea, Turkey won 3–2, taking third place in only their second ever FIFA World Cup, and scored the fastest goal in the FIFA World Cup history (10.8 seconds after kick-off).\n",
            "The 2002 World Cup was also the last one to use the golden goal rule and the last one to use the same ball for all matches. Starting in 2006 and continuing to the present, a ball with the same technical specifications but different colors has been used in the final.\n",
            "\n",
            "Page: Hong Myung-bo\n",
            "Summary: Hong Myung-bo (also spelled Hong Myeong-bo, Korean: 홍명보, Hanja: 洪明甫; Korean pronunciation: [hoŋmjʌŋbo]; born 12 February 1969) is a South Korean football manager and former footballer who played as a sweeper. Hong is often considered one of the greatest Asian footballers of all time. He is the current manager of South Korea national team.\n",
            "Hong was a member of the South Korean national team in four FIFA World Cups, and was the first Asian player to play in four consecutive FIFA World Cup tournaments. He is also the first Asian player ever to receive the Bronze Ball at the FIFA World Cup. He gained attention after showing his outstanding ability in the FIFA World Cup and AFC Asian Cup competitions. He received some votes in elections for the FIFA World Player of the Year, finishing 21st in 1996 and 17th in 2002. Furthermore, he was also selected for the FIFA 100, Pelé's selection about the 125 greatest living footballers in the world.\n",
            "\n",
            "Page: South Korea national football team\n",
            "Summary: The South Korea national football team (Korean: 대한민국 축구 국가대표팀; recognized as Korea Republic by FIFA) represents South Korea in men's international football and is governed by the Korea Football Association, a member of FIFA and the Asian Football Confederation (AFC).\n",
            "South Korea has emerged as a major football power in Asia since the 1980s, having participated in ten consecutive and eleven overall FIFA World Cup tournaments, the most for any Asian country. Despite initially going through five World Cup tournaments without winning a match, South Korea became the first (and so far only) Asian team to reach the semi-finals when they co-hosted the 2002 tournament with Japan. South Korea also has won two AFC Asian Cup titles, and finished as runners-up on four occasions. Furthermore, the team won three gold medals and three silver medals at the senior Asian Games.\n",
            "The team is commonly nicknamed the \"Reds\" by both fans and the media due to the color of their primary kit. The national team's supporting group is officially referred to as the Red Devils.\u001b[0m\u001b[32;1m\u001b[1;3m2002년에 한국에서 FIFA 월드컵이 열렸습니다. 따라서 연도의 네 자리 숫자를 모두 곱해보면 2 * 0 * 0 * 2 = 0 입니다.\u001b[0m\n",
            "\n",
            "\u001b[1m> Finished chain.\u001b[0m\n"
          ]
        },
        {
          "data": {
            "text/plain": [
              "{'input': '한국에서 월드컵이 열린 연도를 찾아서, 연도의 네 자리 숫자를 모두 곱해줘.',\n",
              " 'output': '2002년에 한국에서 FIFA 월드컵이 열렸습니다. 따라서 연도의 네 자리 숫자를 모두 곱해보면 2 * 0 * 0 * 2 = 0 입니다.'}"
            ]
          },
          "execution_count": 11,
          "metadata": {},
          "output_type": "execute_result"
        }
      ],
      "source": [
        "# ✅ 에이전트 실행 예제 ②: 정보 검색 + 계산 응용\n",
        "# - 입력: \"한국에서 월드컵이 열린 연도를 찾아서, 연도의 네 자리 숫자를 모두 곱해줘.\"\n",
        "# - 실행 흐름:\n",
        "#   1) 'wiki' 도구를 사용해 월드컵 개최 연도를 위키에서 검색\n",
        "#   2) 연도 중 숫자만 추출 (예: 2002)\n",
        "#   3) 2, 0, 0, 2 → 숫자 하나하나를 곱함 (2*0*0*2 = 0)\n",
        "# - 👉 이처럼 에이전트는 복합적인 요청도 분석해서 여러 도구를 순차적으로 사용할 수 있습니다.\n",
        "executor.invoke(\n",
        "    {\n",
        "        \"input\": \"한국에서 월드컵이 열린 연도를 찾아서, 연도의 네 자리 숫자를 모두 곱해줘.\"\n",
        "    }\n",
        ")\n"
      ]
    }
  ],
  "metadata": {
    "colab": {
      "provenance": []
    },
    "kernelspec": {
      "display_name": "Python 3",
      "name": "python3"
    },
    "language_info": {
      "name": "python"
    }
  },
  "nbformat": 4,
  "nbformat_minor": 0
}
