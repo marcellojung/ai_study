{
  "cells": [
    {
      "cell_type": "markdown",
      "metadata": {
        "id": "kt8ORMJzIWrO"
      },
      "source": [
        "# Langchain을 통해 언어모델을 불러오는 것의 장점\n"
      ]
    },
    {
      "cell_type": "markdown",
      "metadata": {
        "id": "f6c0fo25IflH"
      },
      "source": [
        "## 1. LangChain을 사용하는 경우(gpt와 cluade 3 모델을 불러오는 예시)"
      ]
    },
    {
      "cell_type": "code",
      "execution_count": null,
      "metadata": {
        "id": "6O5CqP9nIW9-"
      },
      "outputs": [],
      "source": [
        "from langchain.llms import OpenAI, Anthropic\n",
        "\n",
        "# OpenAI GPT 모델 호출\n",
        "gpt_model = OpenAI(model=\"gpt-4\", openai_api_key=\"YOUR_OPENAI_API_KEY\")\n",
        "response_gpt = gpt_model(\"What are the benefits of LangChain?\")\n",
        "print(\"OpenAI GPT response:\", response_gpt)\n",
        "\n",
        "# Claude 3 모델 호출\n",
        "claude_model = Anthropic(model=\"claude-3\", anthropic_api_key=\"YOUR_ANTHROPIC_API_KEY\")\n",
        "response_claude = claude_model(\"What are the benefits of LangChain?\")\n",
        "print(\"Claude 3 response:\", response_claude)\n"
      ]
    },
    {
      "cell_type": "markdown",
      "metadata": {
        "id": "dPmv1WGtInIg"
      },
      "source": [
        "## 2. LangChain 없이 직접 API 호출하는 경우:"
      ]
    },
    {
      "cell_type": "code",
      "execution_count": null,
      "metadata": {
        "id": "27VjFjOCIq58"
      },
      "outputs": [],
      "source": [
        "import openai\n",
        "\n",
        "# OpenAI GPT 모델 호출\n",
        "openai.api_key = \"YOUR_OPENAI_API_KEY\"\n",
        "response = openai.Completion.create(\n",
        "  model=\"gpt-4\",\n",
        "  prompt=\"What are the benefits of LangChain?\",\n",
        "  max_tokens=150\n",
        ")\n",
        "print(\"OpenAI GPT response:\", response['choices'][0]['text'])\n"
      ]
    },
    {
      "cell_type": "code",
      "execution_count": null,
      "metadata": {
        "id": "pWN4cCXDIwwX"
      },
      "outputs": [],
      "source": [
        "import requests\n",
        "\n",
        "# Anthropic Claude 3 모델 호출\n",
        "headers = {\n",
        "    'x-api-key': 'YOUR_ANTHROPIC_API_KEY',\n",
        "    'Content-Type': 'application/json',\n",
        "}\n",
        "data = {\n",
        "    \"model\": \"claude-3\",\n",
        "    \"prompt\": \"What are the benefits of LangChain?\",\n",
        "    \"max_tokens_to_sample\": 150\n",
        "}\n",
        "response = requests.post('https://api.anthropic.com/v1/complete', headers=headers, json=data)\n",
        "print(\"Claude 3 response:\", response.json()['completion'])\n"
      ]
    },
    {
      "cell_type": "markdown",
      "metadata": {
        "id": "Sey2uZdn32nx"
      },
      "source": [
        "## Langchain을 통해 사용할 수 있는 모델 참고자료\n",
        "## https://python.langchain.com/docs/integrations/chat/"
      ]
    },
    {
      "cell_type": "markdown",
      "metadata": {
        "id": "LuTsHGvTIyax"
      },
      "source": [
        "##LangChain을 사용한 경우:\n",
        "\n",
        "- 코드가 더 간결하며, 여러 모델을 쉽게 교체하거나 통합 가능.\n",
        "\n",
        "- 모델 간의 인터페이스가 표준화되어 있어 다루기 쉬움.\n",
        "\n",
        "- 추가적인 기능(예: 체인, 툴 연동 등)과 확장성이 뛰어남.\n",
        "\n",
        "\n",
        "##LangChain 없이 직접 호출한 경우:\n",
        "\n",
        "- API 호출 과정이 복잡할 수 있음 (HTTP 요청, JSON 처리).\n",
        "- 모델에 따라 각기 다른 형식으로 API 호출 필요.\n",
        "- 추가 기능을 직접 구현해야 함."
      ]
    }
  ],
  "metadata": {
    "colab": {
      "provenance": []
    },
    "kernelspec": {
      "display_name": "Python 3",
      "name": "python3"
    },
    "language_info": {
      "name": "python"
    }
  },
  "nbformat": 4,
  "nbformat_minor": 0
}