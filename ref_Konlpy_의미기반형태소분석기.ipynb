{
  "nbformat": 4,
  "nbformat_minor": 0,
  "metadata": {
    "colab": {
      "provenance": []
    },
    "kernelspec": {
      "name": "python3",
      "display_name": "Python 3"
    },
    "language_info": {
      "name": "python"
    }
  },
  "cells": [
    {
      "cell_type": "code",
      "source": [
        "# konlpy 패키지 설치: 한국어 형태소 분석을 위한 라이브러리입니다.\n",
        "!pip install konlpy\n",
        "\n"
      ],
      "metadata": {
        "id": "bAdJtDHXYoDT",
        "colab": {
          "base_uri": "https://localhost:8080/"
        },
        "outputId": "fe2e8c7f-26e9-4e77-c25f-08e9c0231410"
      },
      "execution_count": null,
      "outputs": [
        {
          "output_type": "stream",
          "name": "stdout",
          "text": [
            "Collecting konlpy\n",
            "  Downloading konlpy-0.6.0-py2.py3-none-any.whl.metadata (1.9 kB)\n",
            "Collecting JPype1>=0.7.0 (from konlpy)\n",
            "  Downloading jpype1-1.5.2-cp311-cp311-manylinux_2_17_x86_64.manylinux2014_x86_64.whl.metadata (4.9 kB)\n",
            "Requirement already satisfied: lxml>=4.1.0 in /usr/local/lib/python3.11/dist-packages (from konlpy) (5.4.0)\n",
            "Requirement already satisfied: numpy>=1.6 in /usr/local/lib/python3.11/dist-packages (from konlpy) (2.0.2)\n",
            "Requirement already satisfied: packaging in /usr/local/lib/python3.11/dist-packages (from JPype1>=0.7.0->konlpy) (24.2)\n",
            "Downloading konlpy-0.6.0-py2.py3-none-any.whl (19.4 MB)\n",
            "\u001b[2K   \u001b[90m━━━━━━━━━━━━━━━━━━━━━━━━━━━━━━━━━━━━━━━━\u001b[0m \u001b[32m19.4/19.4 MB\u001b[0m \u001b[31m24.8 MB/s\u001b[0m eta \u001b[36m0:00:00\u001b[0m\n",
            "\u001b[?25hDownloading jpype1-1.5.2-cp311-cp311-manylinux_2_17_x86_64.manylinux2014_x86_64.whl (494 kB)\n",
            "\u001b[2K   \u001b[90m━━━━━━━━━━━━━━━━━━━━━━━━━━━━━━━━━━━━━━━━\u001b[0m \u001b[32m494.1/494.1 kB\u001b[0m \u001b[31m15.8 MB/s\u001b[0m eta \u001b[36m0:00:00\u001b[0m\n",
            "\u001b[?25hInstalling collected packages: JPype1, konlpy\n",
            "Successfully installed JPype1-1.5.2 konlpy-0.6.0\n"
          ]
        }
      ]
    },
    {
      "cell_type": "code",
      "source": [
        "\n",
        "# pandas 라이브러리를 pd라는 이름으로 임포트: 데이터 처리를 위한 주요 라이브러리입니다.\n",
        "import pandas as pd\n",
        "\n",
        "# konlpy 라이브러리에서 여러 형태소 분석기를 임포트: 한국어 텍스트를 형태소 단위로 분석합니다.\n",
        "from konlpy.tag import Okt, Komoran, Hannanum, Kkma\n",
        "\n",
        "# 각 형태소 분석기 객체를 생성합니다.\n",
        "okt = Okt()\n",
        "komoran = Komoran()\n",
        "hannanum = Hannanum()\n",
        "kkma = Kkma()\n",
        "\n"
      ],
      "metadata": {
        "id": "00hgek6YaRPR"
      },
      "execution_count": null,
      "outputs": []
    },
    {
      "cell_type": "code",
      "source": [
        "\n",
        "# Okt 형태소 분석기: 'Noun', 'Adjective', 'Verb' 태그 사용\n",
        "def tokenizer_okt(text):\n",
        "    morph = okt.pos(text)\n",
        "    words = [word for word, tag in morph if tag in ['Noun', 'Adjective', 'Verb'] and len(word) > 1]\n",
        "    return words\n",
        "\n",
        "# Komoran 형태소 분석기: 'NNG' (일반 명사), 'NNP' (고유 명사), 'VV' (동사), 'VA' (형용사) 태그 사용\n",
        "def tokenizer_komoran(text):\n",
        "    morph = komoran.pos(text)\n",
        "    words = [word for word, tag in morph if tag in ['NNG', 'NNP', 'VV', 'VA'] and len(word) > 1]\n",
        "    return words\n",
        "\n",
        "# Hannanum 형태소 분석기: 'N', 'P', 'F'로 시작하는 품사 태그를 주로 사용 (명사: 'N', 동사: 'P', 형용사: 'F')\n",
        "def tokenizer_hannanum(text):\n",
        "    morph = hannanum.pos(text)\n",
        "    words = [word for word, tag in morph if tag.startswith(('N', 'P', 'F')) and len(word) > 1]\n",
        "    return words\n",
        "\n",
        "# Kkma 형태소 분석기: 'NNG' (일반 명사), 'NNP' (고유 명사), 'VV' (동사), 'VA' (형용사) 태그 사용\n",
        "def tokenizer_kkma(text):\n",
        "    morph = kkma.pos(text)\n",
        "    words = [word for word, tag in morph if tag in ['NNG', 'NNP', 'VV', 'VA'] and len(word) > 1]\n",
        "    return words\n"
      ],
      "metadata": {
        "id": "wJgbp4y9aUmS"
      },
      "execution_count": null,
      "outputs": []
    },
    {
      "cell_type": "code",
      "source": [
        "# 각 형태소 분석기의 결과를 확인하는 함수입니다.\n",
        "def compare_analyzers(text):\n",
        "    print(\"Okt 분석 결과:\", tokenizer_okt(text))\n",
        "    print(\"Komoran 분석 결과:\", tokenizer_komoran(text))\n",
        "    print(\"Hannanum 분석 결과:\", tokenizer_hannanum(text))\n",
        "    print(\"Kkma 분석 결과:\", tokenizer_kkma(text))\n"
      ],
      "metadata": {
        "id": "sG2xSfjraeaU"
      },
      "execution_count": null,
      "outputs": []
    },
    {
      "cell_type": "code",
      "source": [
        "\n",
        "# 비교할 장문 텍스트 (예시)\n",
        "text = \"\"\"\n",
        "어제 나는 친구들과 함께 서울의 한 카페에서 영어 공부를 했다.\n",
        "우리는 매일 같이 열심히 공부하기로 약속했다.\n",
        "하지만 오늘은 비가 와서 카페에 가지 못했다.\n",
        "\"\"\""
      ],
      "metadata": {
        "id": "H1JIFUP1aVhl"
      },
      "execution_count": null,
      "outputs": []
    },
    {
      "cell_type": "code",
      "source": [
        "# 형태소 분석기 결과 비교\n",
        "compare_analyzers(text)"
      ],
      "metadata": {
        "colab": {
          "base_uri": "https://localhost:8080/"
        },
        "id": "xVi5PXCJaW8i",
        "outputId": "f0816a69-d53b-46d6-e367-77e918522eef"
      },
      "execution_count": null,
      "outputs": [
        {
          "output_type": "stream",
          "name": "stdout",
          "text": [
            "Okt 분석 결과: ['어제', '친구', '서울', '카페', '영어', '공부', '했다', '우리', '매일', '공부', '하기로', '약속', '했다', '오늘', '와서', '카페', '가지', '했다']\n",
            "Komoran 분석 결과: ['친구', '서울', '카페', '영어', '공부', '공부', '약속', '오늘', '카페']\n",
            "Hannanum 분석 결과: ['어제', '친구들', '서울', '카페', '영어', '공부', '우리', '공부', '약속', '오늘', '카페', '가지', '못하']\n",
            "Kkma 분석 결과: ['어제', '친구', '서울', '카페', '영어', '공부', '공부', '약속', '오늘', '카페']\n"
          ]
        }
      ]
    }
  ]
}